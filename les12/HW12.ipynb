{
 "cells": [
  {
   "cell_type": "code",
   "execution_count": 1,
   "id": "589ee36c",
   "metadata": {},
   "outputs": [
    {
     "name": "stderr",
     "output_type": "stream",
     "text": [
      "C:\\Users\\snetkova\\Anaconda3\\lib\\site-packages\\numpy\\_distributor_init.py:32: UserWarning: loaded more than 1 DLL from .libs:\n",
      "C:\\Users\\snetkova\\Anaconda3\\lib\\site-packages\\numpy\\.libs\\libopenblas.PYQHXLVVQ7VESDPUVUADXEVJOBGHJPAY.gfortran-win_amd64.dll\n",
      "C:\\Users\\snetkova\\Anaconda3\\lib\\site-packages\\numpy\\.libs\\libopenblas.WCDJNK7YVMPZQ2ME2ZZHJJRJ3JIKNDB7.gfortran-win_amd64.dll\n",
      "  stacklevel=1)\n"
     ]
    }
   ],
   "source": [
    "import pandas as pd\n",
    "import numpy as np\n",
    "from sklearn.feature_extraction.text import CountVectorizer, TfidfVectorizer, HashingVectorizer\n",
    "from sklearn import model_selection, preprocessing, linear_model\n",
    "from sklearn.metrics import accuracy_score, classification_report\n",
    "from sklearn.model_selection import train_test_split\n",
    "import matplotlib.pyplot as plt\n",
    "import matplotlib.ticker as ticker\n",
    "%matplotlib inline\n",
    "\n",
    "import os\n",
    "os.environ['KMP_DUPLICATE_LIB_OK']='True'"
   ]
  },
  {
   "cell_type": "code",
   "execution_count": 2,
   "id": "4d8e8a49",
   "metadata": {},
   "outputs": [],
   "source": [
    "import tensorflow as tf\n",
    "gpus = tf.config.list_physical_devices('GPU')\n",
    "gpu = gpus[0]\n",
    "tf.config.experimental.set_memory_growth(gpu, True)\n",
    "\n",
    "from tensorflow.keras.preprocessing.sequence import pad_sequences\n",
    "from tensorflow.keras.utils import to_categorical\n",
    "from tensorflow.keras.preprocessing.text import Tokenizer\n",
    "from tensorflow.keras.preprocessing.text import text_to_word_sequence\n",
    "from tensorflow.keras.callbacks import EarlyStopping \n",
    "\n",
    "from tensorflow.keras import Sequential, Model\n",
    "from tensorflow.keras.layers import Dense, Dropout, Activation, Input, Embedding, TimeDistributed, Conv1D, GlobalMaxPool1D, MaxPooling1D, SimpleRNN, LSTM, GRU"
   ]
  },
  {
   "cell_type": "code",
   "execution_count": 3,
   "id": "72a02218",
   "metadata": {},
   "outputs": [
    {
     "name": "stderr",
     "output_type": "stream",
     "text": [
      "[nltk_data] Downloading package punkt to\n",
      "[nltk_data]     C:\\Users\\snetkova\\AppData\\Roaming\\nltk_data...\n",
      "[nltk_data]   Package punkt is already up-to-date!\n"
     ]
    }
   ],
   "source": [
    "import json\n",
    "import random\n",
    "from collections import Counter, namedtuple\n",
    "import razdel\n",
    "import pymorphy2\n",
    "from nltk.translate.bleu_score import corpus_bleu\n",
    "from rouge import Rouge\n",
    "import lexrank\n",
    "from lexrank import LexRank\n",
    "from lexrank.mappings.stopwords import STOPWORDS\n",
    "from sumy.summarizers.lsa import LsaSummarizer\n",
    "from sumy.nlp.tokenizers import Tokenizer\n",
    "from sumy.parsers.plaintext import PlaintextParser\n",
    "import nltk; nltk.download('punkt');\n",
    "from summa.summarizer import summarize\n",
    "import copy\n",
    "\n",
    "from itertools import combinations\n",
    "import networkx as nx\n",
    "from tqdm.notebook import tqdm"
   ]
  },
  {
   "cell_type": "code",
   "execution_count": 4,
   "id": "725a7f97",
   "metadata": {},
   "outputs": [],
   "source": [
    "def read_gazeta_records(file_name, shuffle=True, sort_by_date=False):\n",
    "    assert shuffle != sort_by_date\n",
    "    records = []\n",
    "    with open(file_name, \"r\", encoding='utf-8') as r:\n",
    "        for line in r:\n",
    "            records.append(json.loads(line))\n",
    "    if sort_by_date:\n",
    "        records.sort(key=lambda x: x[\"date\"])\n",
    "    if shuffle:\n",
    "        random.shuffle\n",
    "    return records"
   ]
  },
  {
   "cell_type": "code",
   "execution_count": 5,
   "id": "de7a535a",
   "metadata": {},
   "outputs": [],
   "source": [
    "train_records = read_gazeta_records(\"D:/GeekBrains/nlp/les12/data/gazeta_train.jsonl\")\n",
    "val_records = read_gazeta_records(\"D:/GeekBrains/nlp/les12/data/gazeta_val.jsonl\")\n",
    "test_records = read_gazeta_records(\"D:/GeekBrains/nlp/les12/data/gazeta_test.jsonl\")"
   ]
  },
  {
   "cell_type": "code",
   "execution_count": 6,
   "id": "0d7922a5",
   "metadata": {},
   "outputs": [
    {
     "data": {
      "text/plain": [
       "{'url': 'https://www.gazeta.ru/financial/2011/11/30/3852658.shtml',\n",
       " 'text': '«По итогам 2011 года чистый отток может составить примерно $80 млрд, в следующем году — около $20 млрд. При этом мы ожидаем, что со второго полугодия 2012 года начнется приток капитала», — заявил «Интерфаксу» замминистра экономического развития Андрей Клепач. Официальные прогнозы по выводу капитала из России становятся все пессимистичными: еще летом власти полагали, что из страны уйдет не более $35 млрд, в сентябре Минэкономразвития назвал цифру $50 млрд, в начале ноября Центробанк пересмотрел оценку до $70 млрд. Очередное изменение прогноза было ожидаемо: по расчетам Центробанка , за январь — октябрь чистый отток капитала достиг $64 млрд, причем в последние месяцы он ускорился: в сентябре он составил $14 млрд, в октябре — $13 млрд против среднего ежемесячного оттока в $6—8 млрд в первом полугодии. «После октябрьских данных Минэкономразвития вынуждено было изменить оценку, настаивать на $70 млрд означало ожидать серьезного замедления оттока капитала на непонятно каких причинах», — говорит главный экономист BNP Paribas Юлия Цепляева. «В последние два месяца отток капитала ускорится, на декабрь приходится значительная часть выплат по внешним долгам, что приводит к усилению оттока, особенно если они не рефинансируются новыми кредитами», — соглашается главный экономист ФК «Открытие» Владимир Тихомиров. Прогнозируемый Минэкономразвития отток капитала — один из самых высоких за последние 20 лет. Больше ушло лишь в 2008 году на фоне разрастания финансового кризиса и российско-грузинской войны — $133,7 млрд. В кризисный 2009 год из России утекло $56,1 млрд. Главный фактор ускорения оттока капитала в 2011 году — нестабильность на внешних финансовых рынках и рост опасений относительно второй волны рецессии. «Это реакция на неуверенность, которую генерирует Европа с долговыми проблемами. В случае новой волны глобальной турбулентности Россия — одна из самых уязвимых стран», — говорит Цепляева. Еще одна причина — ослабление рубля. «Привлекательность вложений снижается на фоне того, что рубль перестал укрепляться, а ставки по депозитам достаточно низкие. В результате экспортеры не полностью возвращают экспортную выручку», — говорит Тихомиров. Внутри страны эксперты не видят особых причин для бегства капитала. «Ситуация выглядит достаточно позитивно, очень хорошие макроэкономические результаты за год, особенно на фоне других стран. С политической точки зрения все достаточно понятно и предсказуемо, итог выборов очевиден», — говорит экономист ИК «Тройка Диалог» Антон Струченевский. Тем не менее политический фактор играет роль. «Бизнесу важно не только, кто будет президентом, он ждет ясности с перестановками в правительстве. В наших условиях административный ресурс важнее всего для успешности бизнеса», — говорит Цепляева, добавляя, что отток капитала продолжится до завершения президентских выборов.',\n",
       " 'title': 'Прогноз не успевает за оттоком',\n",
       " 'summary': 'В 2011 году из России уйдет $80 млрд, считают в Минэкономразвития. Менее месяца назад Центробанк давал оценку $70 млрд, повысив первоначальный прогноз вдвое. Отток капитала из страны усиливается из-за кризиса в Европе, а в декабре российским компаниям выплачивать внешние долги. На движение капитала повлияли и выборы: несмотря на их предсказуемость, бизнес хочет ясности с перестановками в правительстве.',\n",
       " 'date': '2011-11-30 18:33:39'}"
      ]
     },
     "execution_count": 6,
     "metadata": {},
     "output_type": "execute_result"
    }
   ],
   "source": [
    "train_records[0]"
   ]
  },
  {
   "cell_type": "code",
   "execution_count": 7,
   "id": "b2808ede",
   "metadata": {},
   "outputs": [],
   "source": [
    "Stats = namedtuple(\"Stats\", \"vocabulary, lemma_vocabulary, words_counts, unique_words_counts\")\n",
    "\n",
    "def collect_stats(records, lower=True, text_max_words=3000, summary_max_words=100, nrows=1000):\n",
    "    morph = pymorphy2.MorphAnalyzer()\n",
    "    \n",
    "    text_stats = Stats(Counter(),  Counter(), list(), list())\n",
    "    summary_stats = Stats(Counter(),  Counter(), list(), list())\n",
    "\n",
    "    def update_record_field_stats(field, stats, max_words):\n",
    "        words = [word.text for word in razdel.tokenize(field)][:max_words]\n",
    "        lemmas = [morph.parse(word)[0].normal_form for word in words]\n",
    "        stats.vocabulary.update(words)\n",
    "        stats.lemma_vocabulary.update(lemmas)\n",
    "        stats.words_counts.append(len(words))\n",
    "        stats.unique_words_counts.append(len(set(words)))\n",
    "\n",
    "    for i, record in enumerate(records):\n",
    "        if i >= nrows:\n",
    "            break\n",
    "        text = record[\"text\"]\n",
    "        text = text if not lower else text.lower()\n",
    "        update_record_field_stats(text, text_stats, text_max_words)\n",
    "\n",
    "        summary = record[\"summary\"]\n",
    "        summary = summary if not lower else summary.lower()\n",
    "        summary_words = [word.text for word in razdel.tokenize(summary)]\n",
    "        update_record_field_stats(summary, summary_stats, summary_max_words)\n",
    "    return text_stats, summary_stats"
   ]
  },
  {
   "cell_type": "code",
   "execution_count": 8,
   "id": "6247e29a",
   "metadata": {},
   "outputs": [
    {
     "name": "stdout",
     "output_type": "stream",
     "text": [
      "Train texts vocabulary size:  82978\n",
      "Train texts lemma vocabulary size:  37851\n",
      "Train summaries vocabulary size:  15441\n",
      "Train summaries lemma vocabulary size:  9030\n",
      "Train common lemmas summary vs text:  8652\n"
     ]
    }
   ],
   "source": [
    "train_text_stats, train_summary_stats = collect_stats(train_records)\n",
    "print(\"Train texts vocabulary size: \", len(train_text_stats.vocabulary))\n",
    "print(\"Train texts lemma vocabulary size: \", len(train_text_stats.lemma_vocabulary))\n",
    "print(\"Train summaries vocabulary size: \", len(train_summary_stats.vocabulary))\n",
    "print(\"Train summaries lemma vocabulary size: \", len(train_summary_stats.lemma_vocabulary))\n",
    "print(\"Train common lemmas summary vs text: \", len(set(train_text_stats.lemma_vocabulary.keys()) & set(train_summary_stats.lemma_vocabulary.keys())))"
   ]
  },
  {
   "cell_type": "code",
   "execution_count": 9,
   "id": "2ba4c8bd",
   "metadata": {},
   "outputs": [],
   "source": [
    "res = {}"
   ]
  },
  {
   "cell_type": "markdown",
   "id": "f6d490df",
   "metadata": {},
   "source": [
    "### Lead-3"
   ]
  },
  {
   "cell_type": "markdown",
   "id": "c7f71ce2",
   "metadata": {},
   "source": [
    "первые 3 предложения текста в качестве summary."
   ]
  },
  {
   "cell_type": "code",
   "execution_count": 10,
   "id": "b24ae4d1",
   "metadata": {},
   "outputs": [],
   "source": [
    "def calc_scores(references, predictions, metric=\"all\"):\n",
    "    print(\"Count:\", len(predictions))\n",
    "    print(\"Ref:\", references[-1])\n",
    "    print(\"Hyp:\", predictions[-1])\n",
    "\n",
    "    if metric in (\"bleu\", \"all\"):\n",
    "        bl = corpus_bleu([[r] for r in references], predictions)\n",
    "        print(\"BLEU: \", bl)\n",
    "    if metric in (\"rouge\", \"all\"):\n",
    "        rouge = Rouge()\n",
    "        scores = rouge.get_scores(predictions, references, avg=True)\n",
    "        print(\"ROUGE: \", scores)\n",
    "    return bl, scores"
   ]
  },
  {
   "cell_type": "code",
   "execution_count": 11,
   "id": "9a296f60",
   "metadata": {},
   "outputs": [],
   "source": [
    "def calc_lead_n_score(records, n=3, lower=True, nrows=1000):\n",
    "    references = []\n",
    "    predictions = []\n",
    "\n",
    "    for i, record in enumerate(records):\n",
    "        if i >= nrows:\n",
    "            break\n",
    "\n",
    "        summary = record[\"summary\"]\n",
    "        summary = summary if not lower else summary.lower()\n",
    "        references.append(summary)\n",
    "\n",
    "        text = record[\"text\"]\n",
    "        text = text if not lower else text.lower()\n",
    "        sentences = [sentence.text for sentence in razdel.sentenize(text)]\n",
    "        prediction = \" \".join(sentences[:n]) # берем первые n предложений из текста\n",
    "        predictions.append(prediction)\n",
    "\n",
    "    return calc_scores(references, predictions)"
   ]
  },
  {
   "cell_type": "code",
   "execution_count": 12,
   "id": "c2debe66",
   "metadata": {},
   "outputs": [
    {
     "name": "stdout",
     "output_type": "stream",
     "text": [
      "Count: 1000\n",
      "Ref: телеканал «спас» запускает реалити-шоу «остров», участникам которого предстоит месяц жить и работать в нило-столобенской пустыни на озере селигер. организаторы отметили, что это беспрецедентный подобный проект на телевидении. участникам шоу будет, где поработать — в монастыре работают свечной, молочный и столярный цеха, есть коровник, конюшня, пасека.\n",
      "Hyp: православный телеканал «спас», учредителем которого является московская патриархия, запускает реалити-шоу «остров», участникам которого предстоит месяц жить и работать в нило-столобенской пустыни на озере селигер в тверской области.\n",
      "BLEU:  0.19177311186434495\n",
      "ROUGE:  {'rouge-1': {'f': 0.23804097238957525, 'p': 0.22208274285774904, 'r': 0.37762764047433917}, 'rouge-2': {'f': 0.10027796832321115, 'p': 0.09647636782929753, 'r': 0.15833772153385062}, 'rouge-l': {'f': 0.1835646488408507, 'p': 0.2022959168891477, 'r': 0.34937017731940756}}\n"
     ]
    },
    {
     "data": {
      "text/plain": [
       "(0.19177311186434495,\n",
       " {'rouge-1': {'f': 0.23804097238957525,\n",
       "   'p': 0.22208274285774904,\n",
       "   'r': 0.37762764047433917},\n",
       "  'rouge-2': {'f': 0.10027796832321115,\n",
       "   'p': 0.09647636782929753,\n",
       "   'r': 0.15833772153385062},\n",
       "  'rouge-l': {'f': 0.1835646488408507,\n",
       "   'p': 0.2022959168891477,\n",
       "   'r': 0.34937017731940756}})"
      ]
     },
     "execution_count": 12,
     "metadata": {},
     "output_type": "execute_result"
    }
   ],
   "source": [
    "calc_lead_n_score(test_records, n=1)"
   ]
  },
  {
   "cell_type": "code",
   "execution_count": 13,
   "id": "42865894",
   "metadata": {},
   "outputs": [
    {
     "name": "stdout",
     "output_type": "stream",
     "text": [
      "Count: 1000\n",
      "Ref: телеканал «спас» запускает реалити-шоу «остров», участникам которого предстоит месяц жить и работать в нило-столобенской пустыни на озере селигер. организаторы отметили, что это беспрецедентный подобный проект на телевидении. участникам шоу будет, где поработать — в монастыре работают свечной, молочный и столярный цеха, есть коровник, конюшня, пасека.\n",
      "Hyp: православный телеканал «спас», учредителем которого является московская патриархия, запускает реалити-шоу «остров», участникам которого предстоит месяц жить и работать в нило-столобенской пустыни на озере селигер в тверской области. «здесь только ты и бог. проект-откровение. узнай себя и мир монастырской жизни. одна из красивейших обителей россии на озере селигер. проживи месяц в ниловой пустыни, выполняя послушания, и найди ответы на вопросы, которые давно беспокоят», — так анонсирует телеканал свой проект. в комментарии также отмечается, что это беспрецедентный подобный проект на телевидении. желающим предлагается отправить видео-заявку с рассказом о себе, и том, почему потенциальный участник хочет пожить и поработать в монастыре. «остров, который может изменить твою судьбу. съемки начнутся уже в ноябре», — указывается в анонсе. известный миссионер, председатель синодального отдела мп по взаимодействию с вооруженными силами и правоохранительными учреждениями протоиерей дмитрий смирнов выразил надежду, что проект даст благие результаты.\n",
      "BLEU:  0.09837051890626336\n",
      "ROUGE:  {'rouge-1': {'f': 0.15856848565249815, 'p': 0.09604033126642082, 'r': 0.5566639977563598}, 'rouge-2': {'f': 0.05580674432615294, 'p': 0.03297573363580163, 'r': 0.23085498752032227}, 'rouge-l': {'f': 0.09403812710018163, 'p': 0.09058743542400316, 'r': 0.5266851606875759}}\n"
     ]
    },
    {
     "data": {
      "text/plain": [
       "(0.09837051890626336,\n",
       " {'rouge-1': {'f': 0.15856848565249815,\n",
       "   'p': 0.09604033126642082,\n",
       "   'r': 0.5566639977563598},\n",
       "  'rouge-2': {'f': 0.05580674432615294,\n",
       "   'p': 0.03297573363580163,\n",
       "   'r': 0.23085498752032227},\n",
       "  'rouge-l': {'f': 0.09403812710018163,\n",
       "   'p': 0.09058743542400316,\n",
       "   'r': 0.5266851606875759}})"
      ]
     },
     "execution_count": 13,
     "metadata": {},
     "output_type": "execute_result"
    }
   ],
   "source": [
    "calc_lead_n_score(test_records, n=3)"
   ]
  },
  {
   "cell_type": "markdown",
   "id": "7e90064a",
   "metadata": {},
   "source": [
    "Если брать только первое предложение в качестве саммари, метрики получились повыше"
   ]
  },
  {
   "cell_type": "code",
   "execution_count": 14,
   "id": "f6ce605b",
   "metadata": {},
   "outputs": [
    {
     "name": "stdout",
     "output_type": "stream",
     "text": [
      "Count: 1000\n",
      "Ref: телеканал «спас» запускает реалити-шоу «остров», участникам которого предстоит месяц жить и работать в нило-столобенской пустыни на озере селигер. организаторы отметили, что это беспрецедентный подобный проект на телевидении. участникам шоу будет, где поработать — в монастыре работают свечной, молочный и столярный цеха, есть коровник, конюшня, пасека.\n",
      "Hyp: православный телеканал «спас», учредителем которого является московская патриархия, запускает реалити-шоу «остров», участникам которого предстоит месяц жить и работать в нило-столобенской пустыни на озере селигер в тверской области.\n",
      "BLEU:  0.19177311186434495\n",
      "ROUGE:  {'rouge-1': {'f': 0.23804097238957525, 'p': 0.22208274285774904, 'r': 0.37762764047433917}, 'rouge-2': {'f': 0.10027796832321115, 'p': 0.09647636782929753, 'r': 0.15833772153385062}, 'rouge-l': {'f': 0.1835646488408507, 'p': 0.2022959168891477, 'r': 0.34937017731940756}}\n"
     ]
    }
   ],
   "source": [
    "rs = calc_lead_n_score(test_records, n=1)"
   ]
  },
  {
   "cell_type": "code",
   "execution_count": 15,
   "id": "1722674c",
   "metadata": {},
   "outputs": [
    {
     "data": {
      "text/plain": [
       "{'lead-1': (0.19177311186434495, 0.23804097238957525)}"
      ]
     },
     "execution_count": 15,
     "metadata": {},
     "output_type": "execute_result"
    }
   ],
   "source": [
    "res['lead-1'] = rs[0], rs[1]['rouge-1']['f']\n",
    "res"
   ]
  },
  {
   "cell_type": "markdown",
   "id": "92fb243b",
   "metadata": {},
   "source": [
    "### Textrank"
   ]
  },
  {
   "cell_type": "markdown",
   "id": "443c420d",
   "metadata": {},
   "source": [
    "1. Сплитим текст по предложениям\n",
    "2. Считаем \"похожесть\" предложений между собой\n",
    "3. Строим граф предложений с взвешенными ребрами\n",
    "4. С помощью алгоритм PageRank получаем наиболее важные предложения, на основе которых делаем summary."
   ]
  },
  {
   "cell_type": "code",
   "execution_count": 16,
   "id": "18015d80",
   "metadata": {},
   "outputs": [],
   "source": [
    "# можно брать другие меры близости предложений: по FastText, ELMo или BERT эмбеддингам\n",
    "def unique_words_similarity(words1, words2):\n",
    "    '''\n",
    "    Функция подсчёта близости предложений на основе пересечения слов\n",
    "    ''' \n",
    "    words1 = set(words1)\n",
    "    words2 = set(words2)\n",
    "    if not len(words1) or not len(words2):\n",
    "        return 0.0\n",
    "    return len(words1.intersection(words2)) / (len(words1) + len(words2))"
   ]
  },
  {
   "cell_type": "code",
   "execution_count": 17,
   "id": "8e133d6d",
   "metadata": {},
   "outputs": [],
   "source": [
    "def gen_text_rank_summary(text, calc_similarity=unique_words_similarity, summary_part=0.1, lower=True, morph=None):\n",
    "    '''\n",
    "    Составление summary с помощью TextRank\n",
    "    '''\n",
    "    # Разбиваем текст на предложения\n",
    "    sentences = [sentence.text for sentence in razdel.sentenize(text)]\n",
    "    n_sentences = len(sentences)\n",
    "\n",
    "    # Токенизируем предложения\n",
    "    sentences_words = [[token.text.lower() if lower else token.text for token in razdel.tokenize(sentence)] for sentence in sentences]\n",
    "\n",
    "    # При необходимости лемматизируем слова\n",
    "    if morph is not None:\n",
    "        sentences_words = [[morph.parse(word)[0].normal_form for word in words] for words in sentences_words]\n",
    "\n",
    "    # Для каждой пары предложений считаем близость\n",
    "    pairs = combinations(range(n_sentences), 2)\n",
    "    scores = [(i, j, calc_similarity(sentences_words[i], sentences_words[j])) for i, j in pairs]\n",
    "\n",
    "    # Строим граф с рёбрами, равными близости между предложениями\n",
    "    g = nx.Graph()\n",
    "    g.add_weighted_edges_from(scores)\n",
    "\n",
    "    # Считаем PageRank\n",
    "    pr = nx.pagerank(g)\n",
    "    result = [(i, pr[i], s) for i, s in enumerate(sentences) if i in pr]\n",
    "    result.sort(key=lambda x: x[1], reverse=True)\n",
    "\n",
    "    # Выбираем топ предложений\n",
    "    n_summary_sentences = max(int(n_sentences * summary_part), 1)\n",
    "    result = result[:n_summary_sentences]\n",
    "\n",
    "    # Восстанавливаем оригинальный их порядок\n",
    "    result.sort(key=lambda x: x[0])\n",
    "    \n",
    "    num_sents = len(result)\n",
    "    # Восстанавливаем текст выжимки\n",
    "    predicted_summary = \" \".join([sentence for i, proba, sentence in result])\n",
    "    predicted_summary = predicted_summary.lower() if lower else predicted_summary\n",
    "    \n",
    "    return predicted_summary, num_sents"
   ]
  },
  {
   "cell_type": "code",
   "execution_count": 18,
   "id": "df965ea9",
   "metadata": {},
   "outputs": [],
   "source": [
    "def calc_text_rank_score(records, calc_similarity=unique_words_similarity, summary_part=0.1, lower=True, nrows=1000, morph=None):\n",
    "    references = []\n",
    "    predictions = []\n",
    "    length_sents = [] \n",
    "\n",
    "    for i, record in tqdm(enumerate(records)):\n",
    "        if i >= nrows:\n",
    "            break\n",
    "\n",
    "        summary = record[\"summary\"]\n",
    "        summary = summary if not lower else summary.lower()\n",
    "        references.append(summary)\n",
    "\n",
    "        text = record[\"text\"]\n",
    "        predicted_summary, num_sents = gen_text_rank_summary(text, calc_similarity, summary_part, lower, morph=morph)\n",
    "        length_sents.append(num_sents)\n",
    "        text = text if not lower else text.lower()\n",
    "        predictions.append(predicted_summary)\n",
    "\n",
    "    print(f'Mean number of sents in summary: {np.mean(length_sents)}')\n",
    "    return calc_scores(references, predictions)"
   ]
  },
  {
   "cell_type": "code",
   "execution_count": 19,
   "id": "a859b7a5",
   "metadata": {},
   "outputs": [
    {
     "data": {
      "application/vnd.jupyter.widget-view+json": {
       "model_id": "83e14db6e5f34a38ba767e4867ebb28d",
       "version_major": 2,
       "version_minor": 0
      },
      "text/plain": [
       "0it [00:00, ?it/s]"
      ]
     },
     "metadata": {},
     "output_type": "display_data"
    },
    {
     "name": "stdout",
     "output_type": "stream",
     "text": [
      "Mean number of sents in summary: 3.276\n",
      "Count: 1000\n",
      "Ref: телеканал «спас» запускает реалити-шоу «остров», участникам которого предстоит месяц жить и работать в нило-столобенской пустыни на озере селигер. организаторы отметили, что это беспрецедентный подобный проект на телевидении. участникам шоу будет, где поработать — в монастыре работают свечной, молочный и столярный цеха, есть коровник, конюшня, пасека.\n",
      "Hyp: в комментарии также отмечается, что это беспрецедентный подобный проект на телевидении. съемки начнутся уже в ноябре», — указывается в анонсе. от «зенита» до «спартака», — сказал священник. в июне нынешнего года сообщалось, что рпц планирует сделать из сергиева посада «православный ватикан».\n",
      "BLEU:  0.3508755059541153\n",
      "ROUGE:  {'rouge-1': {'f': 0.15466400887322831, 'p': 0.16298929023222172, 'r': 0.15602281048791292}, 'rouge-2': {'f': 0.030615979709094604, 'p': 0.031077035455225686, 'r': 0.032019614611385826}, 'rouge-l': {'f': 0.13373567967669006, 'p': 0.14775573752428653, 'r': 0.14127533878751564}}\n"
     ]
    },
    {
     "data": {
      "text/plain": [
       "(0.3508755059541153,\n",
       " {'rouge-1': {'f': 0.15466400887322831,\n",
       "   'p': 0.16298929023222172,\n",
       "   'r': 0.15602281048791292},\n",
       "  'rouge-2': {'f': 0.030615979709094604,\n",
       "   'p': 0.031077035455225686,\n",
       "   'r': 0.032019614611385826},\n",
       "  'rouge-l': {'f': 0.13373567967669006,\n",
       "   'p': 0.14775573752428653,\n",
       "   'r': 0.14127533878751564}})"
      ]
     },
     "execution_count": 19,
     "metadata": {},
     "output_type": "execute_result"
    }
   ],
   "source": [
    "morph = pymorphy2.MorphAnalyzer()\n",
    "calc_text_rank_score(test_records)"
   ]
  },
  {
   "cell_type": "code",
   "execution_count": 20,
   "id": "40a19783",
   "metadata": {},
   "outputs": [
    {
     "data": {
      "application/vnd.jupyter.widget-view+json": {
       "model_id": "9319c18b5eb647a7a5c5dbda2574418e",
       "version_major": 2,
       "version_minor": 0
      },
      "text/plain": [
       "0it [00:00, ?it/s]"
      ]
     },
     "metadata": {},
     "output_type": "display_data"
    },
    {
     "name": "stdout",
     "output_type": "stream",
     "text": [
      "Mean number of sents in summary: 7.051\n",
      "Count: 1000\n",
      "Ref: телеканал «спас» запускает реалити-шоу «остров», участникам которого предстоит месяц жить и работать в нило-столобенской пустыни на озере селигер. организаторы отметили, что это беспрецедентный подобный проект на телевидении. участникам шоу будет, где поработать — в монастыре работают свечной, молочный и столярный цеха, есть коровник, конюшня, пасека.\n",
      "Hyp: проживи месяц в ниловой пустыни, выполняя послушания, и найди ответы на вопросы, которые давно беспокоят», — так анонсирует телеканал свой проект. в комментарии также отмечается, что это беспрецедентный подобный проект на телевидении. «остров, который может изменить твою судьбу. съемки начнутся уже в ноябре», — указывается в анонсе. все зависит от людей, от их чуткости. а потом выпили, закусили, потом баня, рыбалка, потом «зенит», «спартак». от «зенита» до «спартака», — сказал священник. протоиерей призвал мужчин пройтись по улице, посмотреть на храмы, и почитать книги. в июне нынешнего года сообщалось, что рпц планирует сделать из сергиева посада «православный ватикан».\n",
      "BLEU:  0.24144496741046587\n",
      "ROUGE:  {'rouge-1': {'f': 0.16130641116593086, 'p': 0.1232700823980428, 'r': 0.24794461077173466}, 'rouge-2': {'f': 0.036863160694118796, 'p': 0.02697858383367456, 'r': 0.062123399348864516}, 'rouge-l': {'f': 0.12450680045547442, 'p': 0.11342956259750214, 'r': 0.22823635791987962}}\n"
     ]
    },
    {
     "data": {
      "text/plain": [
       "(0.24144496741046587,\n",
       " {'rouge-1': {'f': 0.16130641116593086,\n",
       "   'p': 0.1232700823980428,\n",
       "   'r': 0.24794461077173466},\n",
       "  'rouge-2': {'f': 0.036863160694118796,\n",
       "   'p': 0.02697858383367456,\n",
       "   'r': 0.062123399348864516},\n",
       "  'rouge-l': {'f': 0.12450680045547442,\n",
       "   'p': 0.11342956259750214,\n",
       "   'r': 0.22823635791987962}})"
      ]
     },
     "execution_count": 20,
     "metadata": {},
     "output_type": "execute_result"
    }
   ],
   "source": [
    "calc_text_rank_score(test_records, summary_part=0.2)"
   ]
  },
  {
   "cell_type": "code",
   "execution_count": 21,
   "id": "d9d38d13",
   "metadata": {},
   "outputs": [
    {
     "data": {
      "application/vnd.jupyter.widget-view+json": {
       "model_id": "f6a73f7efc2f4d0492a42f99d9165bcf",
       "version_major": 2,
       "version_minor": 0
      },
      "text/plain": [
       "0it [00:00, ?it/s]"
      ]
     },
     "metadata": {},
     "output_type": "display_data"
    },
    {
     "name": "stdout",
     "output_type": "stream",
     "text": [
      "Mean number of sents in summary: 3.276\n",
      "Count: 1000\n",
      "Ref: телеканал «спас» запускает реалити-шоу «остров», участникам которого предстоит месяц жить и работать в нило-столобенской пустыни на озере селигер. организаторы отметили, что это беспрецедентный подобный проект на телевидении. участникам шоу будет, где поработать — в монастыре работают свечной, молочный и столярный цеха, есть коровник, конюшня, пасека.\n",
      "Hyp: в комментарии также отмечается, что это беспрецедентный подобный проект на телевидении. съемки начнутся уже в ноябре», — указывается в анонсе. от «зенита» до «спартака», — сказал священник. по словам патриарха, им станет тот, кто будет стоять «во главе всемирной паутины».\n",
      "BLEU:  0.3554246463687909\n",
      "ROUGE:  {'rouge-1': {'f': 0.166697536373269, 'p': 0.16817668927460613, 'r': 0.1757661335817694}, 'rouge-2': {'f': 0.0372119139899679, 'p': 0.03638412165520413, 'r': 0.04094605692338856}, 'rouge-l': {'f': 0.14371031932437214, 'p': 0.15208339348514685, 'r': 0.1587150127702827}}\n"
     ]
    },
    {
     "data": {
      "text/plain": [
       "(0.3554246463687909,\n",
       " {'rouge-1': {'f': 0.166697536373269,\n",
       "   'p': 0.16817668927460613,\n",
       "   'r': 0.1757661335817694},\n",
       "  'rouge-2': {'f': 0.0372119139899679,\n",
       "   'p': 0.03638412165520413,\n",
       "   'r': 0.04094605692338856},\n",
       "  'rouge-l': {'f': 0.14371031932437214,\n",
       "   'p': 0.15208339348514685,\n",
       "   'r': 0.1587150127702827}})"
      ]
     },
     "execution_count": 21,
     "metadata": {},
     "output_type": "execute_result"
    }
   ],
   "source": [
    "calc_text_rank_score(test_records, summary_part=0.1, morph = morph)"
   ]
  },
  {
   "cell_type": "code",
   "execution_count": 22,
   "id": "e2f10b2a",
   "metadata": {},
   "outputs": [
    {
     "data": {
      "application/vnd.jupyter.widget-view+json": {
       "model_id": "b0d9c3692d8b4a518bf6afdc606f3271",
       "version_major": 2,
       "version_minor": 0
      },
      "text/plain": [
       "0it [00:00, ?it/s]"
      ]
     },
     "metadata": {},
     "output_type": "display_data"
    },
    {
     "name": "stdout",
     "output_type": "stream",
     "text": [
      "Mean number of sents in summary: 7.051\n",
      "Count: 1000\n",
      "Ref: телеканал «спас» запускает реалити-шоу «остров», участникам которого предстоит месяц жить и работать в нило-столобенской пустыни на озере селигер. организаторы отметили, что это беспрецедентный подобный проект на телевидении. участникам шоу будет, где поработать — в монастыре работают свечной, молочный и столярный цеха, есть коровник, конюшня, пасека.\n",
      "Hyp: в комментарии также отмечается, что это беспрецедентный подобный проект на телевидении. «остров, который может изменить твою судьбу. съемки начнутся уже в ноябре», — указывается в анонсе. трудно сказать, к чему это приведет, поживем — увидим. а потом выпили, закусили, потом баня, рыбалка, потом «зенит», «спартак». от «зенита» до «спартака», — сказал священник. в июне нынешнего года сообщалось, что рпц планирует сделать из сергиева посада «православный ватикан». «если человеку невоцерковленному, далекому от церкви, в двух словах сказать, для чего нужна церковь — церковь… нужна для того, чтобы был силен дух нашего народа», — говорил предстоятель. по словам патриарха, им станет тот, кто будет стоять «во главе всемирной паутины».\n",
      "BLEU:  0.23481140598760156\n",
      "ROUGE:  {'rouge-1': {'f': 0.1709577523245075, 'p': 0.12742766527995175, 'r': 0.2757121683976361}, 'rouge-2': {'f': 0.04301048958498491, 'p': 0.03073223275903869, 'r': 0.07653429128113513}, 'rouge-l': {'f': 0.1283226242269597, 'p': 0.11698639704729874, 'r': 0.25348598531299965}}\n"
     ]
    }
   ],
   "source": [
    "rs = calc_text_rank_score(test_records, summary_part=0.2, morph = morph)"
   ]
  },
  {
   "cell_type": "code",
   "execution_count": 23,
   "id": "6039e0b5",
   "metadata": {},
   "outputs": [
    {
     "data": {
      "text/plain": [
       "{'lead-1': (0.19177311186434495, 0.23804097238957525),\n",
       " 'textrank': (0.23481140598760156, 0.1709577523245075)}"
      ]
     },
     "execution_count": 23,
     "metadata": {},
     "output_type": "execute_result"
    }
   ],
   "source": [
    "res['textrank'] = rs[0], rs[1]['rouge-1']['f']\n",
    "res"
   ]
  },
  {
   "cell_type": "markdown",
   "id": "10eac9d1",
   "metadata": {},
   "source": [
    "Лемматизация сильно не помогла, увеличение длины саммари просаживает bleu, но почти не увеличивает rouge. Зато при увеличении длины саммари по тексту хотя бы становится понятно, о чем идет речь в исходной статье"
   ]
  },
  {
   "cell_type": "markdown",
   "id": "40c59054",
   "metadata": {},
   "source": [
    "### Lexrank"
   ]
  },
  {
   "cell_type": "code",
   "execution_count": 24,
   "id": "0588fe89",
   "metadata": {},
   "outputs": [],
   "source": [
    "def calc_method_score(records, predict_func, nrows=1000):\n",
    "    references = []\n",
    "    predictions = []\n",
    "\n",
    "    for i, record in enumerate(records):\n",
    "        if nrows is not None and i >= nrows:\n",
    "            break\n",
    "        summary = record[\"summary\"]\n",
    "        text = record[\"text\"]\n",
    "        prediction = predict_func(text, summary)\n",
    "        references.append(summary)\n",
    "        predictions.append(prediction)\n",
    "\n",
    "    return calc_scores(references, predictions)"
   ]
  },
  {
   "cell_type": "code",
   "execution_count": 25,
   "id": "032c18a1",
   "metadata": {},
   "outputs": [],
   "source": [
    "def predict_lex_rank(text, summary, lxr, summary_size=3, threshold=None):\n",
    "    sentences = [s.text for s in razdel.sentenize(text)]\n",
    "    prediction = lxr.get_summary(sentences, summary_size=summary_size, threshold=threshold)\n",
    "    prediction = \" \".join(prediction)\n",
    "    return prediction"
   ]
  },
  {
   "cell_type": "code",
   "execution_count": 26,
   "id": "fcd81de0",
   "metadata": {},
   "outputs": [
    {
     "name": "stdout",
     "output_type": "stream",
     "text": [
      "Count: 1000\n",
      "Ref: Телеканал «Спас» запускает реалити-шоу «Остров», участникам которого предстоит месяц жить и работать в Нило-Столобенской пустыни на озере Селигер. Организаторы отметили, что это беспрецедентный подобный проект на телевидении. Участникам шоу будет, где поработать — в монастыре работают свечной, молочный и столярный цеха, есть коровник, конюшня, пасека.\n",
      "Hyp: РПЦ же нередко критикует СМИ. Критиковали в РПЦ и популярность футбола – об этом заявлял также Смирнов. В июне нынешнего года сообщалось, что РПЦ планирует сделать из Сергиева Посада «православный Ватикан».\n",
      "BLEU:  0.3585872220880093\n",
      "ROUGE:  {'rouge-1': {'f': 0.1866598392888999, 'p': 0.18137864753781832, 'r': 0.2055701577098893}, 'rouge-2': {'f': 0.05775558829470266, 'p': 0.05407660852215697, 'r': 0.06670656927927147}, 'rouge-l': {'f': 0.16173754022433068, 'p': 0.16619633248764337, 'r': 0.18766952121068614}}\n"
     ]
    },
    {
     "data": {
      "text/plain": [
       "(0.3585872220880093,\n",
       " {'rouge-1': {'f': 0.1866598392888999,\n",
       "   'p': 0.18137864753781832,\n",
       "   'r': 0.2055701577098893},\n",
       "  'rouge-2': {'f': 0.05775558829470266,\n",
       "   'p': 0.05407660852215697,\n",
       "   'r': 0.06670656927927147},\n",
       "  'rouge-l': {'f': 0.16173754022433068,\n",
       "   'p': 0.16619633248764337,\n",
       "   'r': 0.18766952121068614}})"
      ]
     },
     "execution_count": 26,
     "metadata": {},
     "output_type": "execute_result"
    }
   ],
   "source": [
    "sentences = [[s.text for s in razdel.sentenize(r[\"text\"])] for r in test_records]\n",
    "lxr = LexRank(sentences, stopwords=STOPWORDS['ru'])\n",
    "calc_method_score(test_records, lambda x, y: predict_lex_rank(x, y, lxr))"
   ]
  },
  {
   "cell_type": "code",
   "execution_count": 27,
   "id": "1e24b578",
   "metadata": {},
   "outputs": [
    {
     "name": "stdout",
     "output_type": "stream",
     "text": [
      "Count: 1000\n",
      "Ref: Телеканал «Спас» запускает реалити-шоу «Остров», участникам которого предстоит месяц жить и работать в Нило-Столобенской пустыни на озере Селигер. Организаторы отметили, что это беспрецедентный подобный проект на телевидении. Участникам шоу будет, где поработать — в монастыре работают свечной, молочный и столярный цеха, есть коровник, конюшня, пасека.\n",
      "Hyp: РПЦ же нередко критикует СМИ.\n",
      "BLEU:  0.11823760201681352\n",
      "ROUGE:  {'rouge-1': {'f': 0.1403400341975231, 'p': 0.24059238660376261, 'r': 0.10579274844085526}, 'rouge-2': {'f': 0.04389614671480771, 'p': 0.07527062641466548, 'r': 0.03322595135919795}, 'rouge-l': {'f': 0.10139954458840535, 'p': 0.2162630636902965, 'r': 0.09393481346181773}}\n"
     ]
    },
    {
     "data": {
      "text/plain": [
       "(0.11823760201681352,\n",
       " {'rouge-1': {'f': 0.1403400341975231,\n",
       "   'p': 0.24059238660376261,\n",
       "   'r': 0.10579274844085526},\n",
       "  'rouge-2': {'f': 0.04389614671480771,\n",
       "   'p': 0.07527062641466548,\n",
       "   'r': 0.03322595135919795},\n",
       "  'rouge-l': {'f': 0.10139954458840535,\n",
       "   'p': 0.2162630636902965,\n",
       "   'r': 0.09393481346181773}})"
      ]
     },
     "execution_count": 27,
     "metadata": {},
     "output_type": "execute_result"
    }
   ],
   "source": [
    "calc_method_score(test_records, lambda x, y: predict_lex_rank(x, y, lxr, summary_size=1))"
   ]
  },
  {
   "cell_type": "markdown",
   "id": "671a86e4",
   "metadata": {},
   "source": [
    "Здесь уменьшение длины саммари, наоборот, ухудшает метрики. В тексте саммари про запуск реалити-шоу нет ни слова"
   ]
  },
  {
   "cell_type": "code",
   "execution_count": 28,
   "id": "0046c643",
   "metadata": {},
   "outputs": [
    {
     "name": "stdout",
     "output_type": "stream",
     "text": [
      "Count: 1000\n",
      "Ref: Телеканал «Спас» запускает реалити-шоу «Остров», участникам которого предстоит месяц жить и работать в Нило-Столобенской пустыни на озере Селигер. Организаторы отметили, что это беспрецедентный подобный проект на телевидении. Участникам шоу будет, где поработать — в монастыре работают свечной, молочный и столярный цеха, есть коровник, конюшня, пасека.\n",
      "Hyp: РПЦ же нередко критикует СМИ. Критиковали в РПЦ и популярность футбола – об этом заявлял также Смирнов. В июне нынешнего года сообщалось, что РПЦ планирует сделать из Сергиева Посада «православный Ватикан».\n",
      "BLEU:  0.3585872220880093\n",
      "ROUGE:  {'rouge-1': {'f': 0.1866598392888999, 'p': 0.18137864753781832, 'r': 0.2055701577098893}, 'rouge-2': {'f': 0.05775558829470266, 'p': 0.05407660852215697, 'r': 0.06670656927927147}, 'rouge-l': {'f': 0.16173754022433068, 'p': 0.16619633248764337, 'r': 0.18766952121068614}}\n"
     ]
    },
    {
     "data": {
      "text/plain": [
       "{'lead-1': (0.19177311186434495, 0.23804097238957525),\n",
       " 'textrank': (0.23481140598760156, 0.1709577523245075),\n",
       " 'lextrank': (0.3585872220880093, 0.1866598392888999)}"
      ]
     },
     "execution_count": 28,
     "metadata": {},
     "output_type": "execute_result"
    }
   ],
   "source": [
    "rs = calc_method_score(test_records, lambda x, y: predict_lex_rank(x, y, lxr))\n",
    "res['lextrank'] = rs[0], rs[1]['rouge-1']['f']\n",
    "res"
   ]
  },
  {
   "cell_type": "markdown",
   "id": "b0015a67",
   "metadata": {},
   "source": [
    "### LSA"
   ]
  },
  {
   "cell_type": "code",
   "execution_count": 29,
   "id": "9c98df19",
   "metadata": {},
   "outputs": [],
   "source": [
    "def predict_lsa(text, summary, lsa_summarizer, tokenizer, summary_size=3):\n",
    "    parser = PlaintextParser.from_string(text, tokenizer)\n",
    "    predicted_summary = lsa_summarizer(parser.document, summary_size)\n",
    "    predicted_summary = \" \".join([str(s) for s in predicted_summary])\n",
    "    return predicted_summary"
   ]
  },
  {
   "cell_type": "code",
   "execution_count": 30,
   "id": "645dd39f",
   "metadata": {},
   "outputs": [
    {
     "name": "stdout",
     "output_type": "stream",
     "text": [
      "Count: 1000\n",
      "Ref: Телеканал «Спас» запускает реалити-шоу «Остров», участникам которого предстоит месяц жить и работать в Нило-Столобенской пустыни на озере Селигер. Организаторы отметили, что это беспрецедентный подобный проект на телевидении. Участникам шоу будет, где поработать — в монастыре работают свечной, молочный и столярный цеха, есть коровник, конюшня, пасека.\n",
      "Hyp: Проживи месяц в Ниловой пустыни, выполняя послушания, и найди ответы на вопросы, которые давно беспокоят», — так анонсирует телеканал свой проект. Известный миссионер, председатель Синодального отдела МП по взаимодействию с Вооруженными силами и правоохранительными учреждениями протоиерей Дмитрий Смирнов выразил надежду, что проект даст благие результаты. По его словам, такая зависимость сродни алкогольной или наркотической — электронные устройства лишают человека свободы и приводят к «дегуманизации» личности, уводя в виртуальную реальность.\n",
      "BLEU:  0.2886703084253367\n",
      "ROUGE:  {'rouge-1': {'f': 0.1423559861468858, 'p': 0.11727499491487438, 'r': 0.18903538180743218}, 'rouge-2': {'f': 0.030348984789405405, 'p': 0.024847985847283288, 'r': 0.04082700623403083}, 'rouge-l': {'f': 0.11588432352670633, 'p': 0.10587937702733088, 'r': 0.17031287959819613}}\n"
     ]
    },
    {
     "data": {
      "text/plain": [
       "(0.2886703084253367,\n",
       " {'rouge-1': {'f': 0.1423559861468858,\n",
       "   'p': 0.11727499491487438,\n",
       "   'r': 0.18903538180743218},\n",
       "  'rouge-2': {'f': 0.030348984789405405,\n",
       "   'p': 0.024847985847283288,\n",
       "   'r': 0.04082700623403083},\n",
       "  'rouge-l': {'f': 0.11588432352670633,\n",
       "   'p': 0.10587937702733088,\n",
       "   'r': 0.17031287959819613}})"
      ]
     },
     "execution_count": 30,
     "metadata": {},
     "output_type": "execute_result"
    }
   ],
   "source": [
    "lsa_summarizer = LsaSummarizer()\n",
    "tokenizer = Tokenizer(\"russian\")\n",
    "calc_method_score(test_records, lambda x, y: predict_lsa(x, y, lsa_summarizer, tokenizer))"
   ]
  },
  {
   "cell_type": "code",
   "execution_count": 31,
   "id": "10d83ec5",
   "metadata": {},
   "outputs": [
    {
     "name": "stdout",
     "output_type": "stream",
     "text": [
      "Count: 1000\n",
      "Ref: Телеканал «Спас» запускает реалити-шоу «Остров», участникам которого предстоит месяц жить и работать в Нило-Столобенской пустыни на озере Селигер. Организаторы отметили, что это беспрецедентный подобный проект на телевидении. Участникам шоу будет, где поработать — в монастыре работают свечной, молочный и столярный цеха, есть коровник, конюшня, пасека.\n",
      "Hyp: Известный миссионер, председатель Синодального отдела МП по взаимодействию с Вооруженными силами и правоохранительными учреждениями протоиерей Дмитрий Смирнов выразил надежду, что проект даст благие результаты.\n",
      "BLEU:  0.2015078993309207\n",
      "ROUGE:  {'rouge-1': {'f': 0.1058174013971358, 'p': 0.1364973645436674, 'r': 0.08954748564495947}, 'rouge-2': {'f': 0.01986588518829345, 'p': 0.026424120032844774, 'r': 0.016478189076842086}, 'rouge-l': {'f': 0.08369034967010418, 'p': 0.11937351661944794, 'r': 0.07800626413579102}}\n"
     ]
    },
    {
     "data": {
      "text/plain": [
       "(0.2015078993309207,\n",
       " {'rouge-1': {'f': 0.1058174013971358,\n",
       "   'p': 0.1364973645436674,\n",
       "   'r': 0.08954748564495947},\n",
       "  'rouge-2': {'f': 0.01986588518829345,\n",
       "   'p': 0.026424120032844774,\n",
       "   'r': 0.016478189076842086},\n",
       "  'rouge-l': {'f': 0.08369034967010418,\n",
       "   'p': 0.11937351661944794,\n",
       "   'r': 0.07800626413579102}})"
      ]
     },
     "execution_count": 31,
     "metadata": {},
     "output_type": "execute_result"
    }
   ],
   "source": [
    "calc_method_score(test_records, lambda x, y: predict_lsa(x, y, lsa_summarizer, tokenizer, summary_size=1))"
   ]
  },
  {
   "cell_type": "markdown",
   "id": "7b1f73f0",
   "metadata": {},
   "source": [
    "Здесь уменьшение длины саммари тоже ухудшает метрики, да и сам текст саммари не очень хорошо описывает главную мысль статьи"
   ]
  },
  {
   "cell_type": "code",
   "execution_count": 32,
   "id": "3a056292",
   "metadata": {},
   "outputs": [
    {
     "name": "stdout",
     "output_type": "stream",
     "text": [
      "Count: 1000\n",
      "Ref: Телеканал «Спас» запускает реалити-шоу «Остров», участникам которого предстоит месяц жить и работать в Нило-Столобенской пустыни на озере Селигер. Организаторы отметили, что это беспрецедентный подобный проект на телевидении. Участникам шоу будет, где поработать — в монастыре работают свечной, молочный и столярный цеха, есть коровник, конюшня, пасека.\n",
      "Hyp: Проживи месяц в Ниловой пустыни, выполняя послушания, и найди ответы на вопросы, которые давно беспокоят», — так анонсирует телеканал свой проект. Известный миссионер, председатель Синодального отдела МП по взаимодействию с Вооруженными силами и правоохранительными учреждениями протоиерей Дмитрий Смирнов выразил надежду, что проект даст благие результаты. По его словам, такая зависимость сродни алкогольной или наркотической — электронные устройства лишают человека свободы и приводят к «дегуманизации» личности, уводя в виртуальную реальность.\n",
      "BLEU:  0.2886703084253367\n",
      "ROUGE:  {'rouge-1': {'f': 0.1423559861468858, 'p': 0.11727499491487438, 'r': 0.18903538180743218}, 'rouge-2': {'f': 0.030348984789405405, 'p': 0.024847985847283288, 'r': 0.04082700623403083}, 'rouge-l': {'f': 0.11588432352670633, 'p': 0.10587937702733088, 'r': 0.17031287959819613}}\n"
     ]
    },
    {
     "data": {
      "text/plain": [
       "{'lead-1': (0.19177311186434495, 0.23804097238957525),\n",
       " 'textrank': (0.23481140598760156, 0.1709577523245075),\n",
       " 'lextrank': (0.3585872220880093, 0.1866598392888999),\n",
       " 'lsa': (0.2886703084253367, 0.1423559861468858)}"
      ]
     },
     "execution_count": 32,
     "metadata": {},
     "output_type": "execute_result"
    }
   ],
   "source": [
    "rs = calc_method_score(test_records, lambda x, y: predict_lsa(x, y, lsa_summarizer, tokenizer))\n",
    "res['lsa'] = rs[0], rs[1]['rouge-1']['f']\n",
    "res"
   ]
  },
  {
   "cell_type": "markdown",
   "id": "11a4a0ea",
   "metadata": {},
   "source": [
    "### Summa"
   ]
  },
  {
   "cell_type": "code",
   "execution_count": 33,
   "id": "0bc4be88",
   "metadata": {},
   "outputs": [],
   "source": [
    "def calc_summa_score(records, summary_part=0.1, lower=True, nrows=1000):\n",
    "    references = []\n",
    "    predictions = []\n",
    "\n",
    "    for i, record in tqdm(enumerate(records)):\n",
    "        if i >= nrows:\n",
    "            break\n",
    "\n",
    "        summary = record[\"summary\"]\n",
    "        summary = summary if not lower else summary.lower()\n",
    "        references.append(summary)\n",
    "\n",
    "        text = record[\"text\"]\n",
    "        text = text if not lower else text.lower()\n",
    "        predicted_summary = summarize(text, ratio=summary_part, language='russian').replace(\"\\n\", \" \")\n",
    "        predictions.append(predicted_summary)\n",
    "\n",
    "    return calc_scores(references, predictions)"
   ]
  },
  {
   "cell_type": "code",
   "execution_count": 34,
   "id": "eee3e6a0",
   "metadata": {},
   "outputs": [
    {
     "data": {
      "application/vnd.jupyter.widget-view+json": {
       "model_id": "28ab942dc40047538c6abba6ca67de02",
       "version_major": 2,
       "version_minor": 0
      },
      "text/plain": [
       "0it [00:00, ?it/s]"
      ]
     },
     "metadata": {},
     "output_type": "display_data"
    },
    {
     "name": "stdout",
     "output_type": "stream",
     "text": [
      "Count: 1000\n",
      "Ref: телеканал «спас» запускает реалити-шоу «остров», участникам которого предстоит месяц жить и работать в нило-столобенской пустыни на озере селигер. организаторы отметили, что это беспрецедентный подобный проект на телевидении. участникам шоу будет, где поработать — в монастыре работают свечной, молочный и столярный цеха, есть коровник, конюшня, пасека.\n",
      "Hyp: проживи месяц в ниловой пустыни, выполняя послушания, и найди ответы на вопросы, которые давно беспокоят», — так анонсирует телеканал свой проект. «у нас же даже многие журналисты не знают и не понимают многого, связанного с религиозными ценностями, а здесь — попытка обратить их внимание на это, может быть, им будет интересно. стоит отметить, что участникам шоу будет, где поработать — в монастыре работают свечной, молочный и столярный цеха, есть коровник, конюшня, пасека. и это что — жизнь, что ли?\n",
      "BLEU:  0.2762958192799957\n",
      "ROUGE:  {'rouge-1': {'f': 0.1770425497877709, 'p': 0.14391909693539454, 'r': 0.24737876331285494}, 'rouge-2': {'f': 0.047316399226292105, 'p': 0.03775600414501152, 'r': 0.06889084948510987}, 'rouge-l': {'f': 0.13869575224542852, 'p': 0.12795603134013936, 'r': 0.2198206686289155}}\n"
     ]
    },
    {
     "data": {
      "text/plain": [
       "(0.2762958192799957,\n",
       " {'rouge-1': {'f': 0.1770425497877709,\n",
       "   'p': 0.14391909693539454,\n",
       "   'r': 0.24737876331285494},\n",
       "  'rouge-2': {'f': 0.047316399226292105,\n",
       "   'p': 0.03775600414501152,\n",
       "   'r': 0.06889084948510987},\n",
       "  'rouge-l': {'f': 0.13869575224542852,\n",
       "   'p': 0.12795603134013936,\n",
       "   'r': 0.2198206686289155}})"
      ]
     },
     "execution_count": 34,
     "metadata": {},
     "output_type": "execute_result"
    }
   ],
   "source": [
    "calc_summa_score(test_records, summary_part=0.1)"
   ]
  },
  {
   "cell_type": "code",
   "execution_count": 35,
   "id": "bcaaa72e",
   "metadata": {},
   "outputs": [
    {
     "data": {
      "application/vnd.jupyter.widget-view+json": {
       "model_id": "d1c8fb80dfc14339b494a4aad10c3080",
       "version_major": 2,
       "version_minor": 0
      },
      "text/plain": [
       "0it [00:00, ?it/s]"
      ]
     },
     "metadata": {},
     "output_type": "display_data"
    },
    {
     "name": "stdout",
     "output_type": "stream",
     "text": [
      "Count: 1000\n",
      "Ref: телеканал «спас» запускает реалити-шоу «остров», участникам которого предстоит месяц жить и работать в нило-столобенской пустыни на озере селигер. организаторы отметили, что это беспрецедентный подобный проект на телевидении. участникам шоу будет, где поработать — в монастыре работают свечной, молочный и столярный цеха, есть коровник, конюшня, пасека.\n",
      "Hyp: православный телеканал «спас», учредителем которого является московская патриархия, запускает реалити-шоу «остров», участникам которого предстоит месяц жить и работать в нило-столобенской пустыни на озере селигер в тверской области. проживи месяц в ниловой пустыни, выполняя послушания, и найди ответы на вопросы, которые давно беспокоят», — так анонсирует телеканал свой проект. в комментарии также отмечается, что это беспрецедентный подобный проект на телевидении. известный миссионер, председатель синодального отдела мп по взаимодействию с вооруженными силами и правоохранительными учреждениями протоиерей дмитрий смирнов выразил надежду, что проект даст благие результаты. «у нас же даже многие журналисты не знают и не понимают многого, связанного с религиозными ценностями, а здесь — попытка обратить их внимание на это, может быть, им будет интересно. стоит отметить, что участникам шоу будет, где поработать — в монастыре работают свечной, молочный и столярный цеха, есть коровник, конюшня, пасека. критиковали в рпц и популярность футбола – об этом заявлял также смирнов. и это что — жизнь, что ли? по его словам, такая зависимость сродни алкогольной или наркотической — электронные устройства лишают человека свободы и приводят к «дегуманизации» личности, уводя в виртуальную реальность.\n",
      "BLEU:  0.17989347848877807\n",
      "ROUGE:  {'rouge-1': {'f': 0.16610940781957212, 'p': 0.11122157352562903, 'r': 0.3504742736856672}, 'rouge-2': {'f': 0.04791529285523528, 'p': 0.030941039937100664, 'r': 0.1140776493567048}, 'rouge-l': {'f': 0.10866960085540806, 'p': 0.10132825147516193, 'r': 0.3197525014804506}}\n"
     ]
    },
    {
     "data": {
      "text/plain": [
       "(0.17989347848877807,\n",
       " {'rouge-1': {'f': 0.16610940781957212,\n",
       "   'p': 0.11122157352562903,\n",
       "   'r': 0.3504742736856672},\n",
       "  'rouge-2': {'f': 0.04791529285523528,\n",
       "   'p': 0.030941039937100664,\n",
       "   'r': 0.1140776493567048},\n",
       "  'rouge-l': {'f': 0.10866960085540806,\n",
       "   'p': 0.10132825147516193,\n",
       "   'r': 0.3197525014804506}})"
      ]
     },
     "execution_count": 35,
     "metadata": {},
     "output_type": "execute_result"
    }
   ],
   "source": [
    "calc_summa_score(test_records, summary_part=0.2)"
   ]
  },
  {
   "cell_type": "markdown",
   "id": "b76ee796",
   "metadata": {},
   "source": [
    "С увеличением длины саммари опять видим просадку в bleu и небольшой рост rouge. При этом текст саммари становится более похож по смыслу с исходным"
   ]
  },
  {
   "cell_type": "code",
   "execution_count": 36,
   "id": "70dfc677",
   "metadata": {},
   "outputs": [
    {
     "data": {
      "application/vnd.jupyter.widget-view+json": {
       "model_id": "0642e65b957b4b0abdba7d9db608e3f8",
       "version_major": 2,
       "version_minor": 0
      },
      "text/plain": [
       "0it [00:00, ?it/s]"
      ]
     },
     "metadata": {},
     "output_type": "display_data"
    },
    {
     "name": "stdout",
     "output_type": "stream",
     "text": [
      "Count: 1000\n",
      "Ref: телеканал «спас» запускает реалити-шоу «остров», участникам которого предстоит месяц жить и работать в нило-столобенской пустыни на озере селигер. организаторы отметили, что это беспрецедентный подобный проект на телевидении. участникам шоу будет, где поработать — в монастыре работают свечной, молочный и столярный цеха, есть коровник, конюшня, пасека.\n",
      "Hyp: православный телеканал «спас», учредителем которого является московская патриархия, запускает реалити-шоу «остров», участникам которого предстоит месяц жить и работать в нило-столобенской пустыни на озере селигер в тверской области. проживи месяц в ниловой пустыни, выполняя послушания, и найди ответы на вопросы, которые давно беспокоят», — так анонсирует телеканал свой проект. в комментарии также отмечается, что это беспрецедентный подобный проект на телевидении. известный миссионер, председатель синодального отдела мп по взаимодействию с вооруженными силами и правоохранительными учреждениями протоиерей дмитрий смирнов выразил надежду, что проект даст благие результаты. «у нас же даже многие журналисты не знают и не понимают многого, связанного с религиозными ценностями, а здесь — попытка обратить их внимание на это, может быть, им будет интересно. стоит отметить, что участникам шоу будет, где поработать — в монастыре работают свечной, молочный и столярный цеха, есть коровник, конюшня, пасека. критиковали в рпц и популярность футбола – об этом заявлял также смирнов. и это что — жизнь, что ли? по его словам, такая зависимость сродни алкогольной или наркотической — электронные устройства лишают человека свободы и приводят к «дегуманизации» личности, уводя в виртуальную реальность.\n",
      "BLEU:  0.17989347848877807\n",
      "ROUGE:  {'rouge-1': {'f': 0.16610940781957212, 'p': 0.11122157352562903, 'r': 0.3504742736856672}, 'rouge-2': {'f': 0.04791529285523528, 'p': 0.030941039937100664, 'r': 0.1140776493567048}, 'rouge-l': {'f': 0.10866960085540806, 'p': 0.10132825147516193, 'r': 0.3197525014804506}}\n"
     ]
    },
    {
     "data": {
      "text/plain": [
       "{'lead-1': (0.19177311186434495, 0.23804097238957525),\n",
       " 'textrank': (0.23481140598760156, 0.1709577523245075),\n",
       " 'lextrank': (0.3585872220880093, 0.1866598392888999),\n",
       " 'lsa': (0.2886703084253367, 0.1423559861468858),\n",
       " 'summa': (0.17989347848877807, 0.16610940781957212)}"
      ]
     },
     "execution_count": 36,
     "metadata": {},
     "output_type": "execute_result"
    }
   ],
   "source": [
    "rs = calc_summa_score(test_records, summary_part=0.2)\n",
    "res['summa'] = rs[0], rs[1]['rouge-1']['f']\n",
    "res"
   ]
  },
  {
   "cell_type": "markdown",
   "id": "61358c61",
   "metadata": {},
   "source": [
    "### Oracle summary"
   ]
  },
  {
   "cell_type": "code",
   "execution_count": 37,
   "id": "f361dd18",
   "metadata": {},
   "outputs": [],
   "source": [
    "def build_oracle_summary_greedy(text, gold_summary, calc_score, lower=True, max_sentences=30):\n",
    "    '''\n",
    "    Жадное построение oracle summary\n",
    "    '''\n",
    "    gold_summary = gold_summary.lower() if lower else gold_summary\n",
    "    # Делим текст на предложения\n",
    "    sentences = [sentence.text.lower() if lower else sentence.text for sentence in razdel.sentenize(text)][:max_sentences]\n",
    "    n_sentences = len(sentences)\n",
    "    oracle_summary_sentences = set()\n",
    "    \n",
    "    score = -1.0\n",
    "    summaries = []\n",
    "    for _ in range(n_sentences):\n",
    "        for i in range(n_sentences):\n",
    "            if i in oracle_summary_sentences:\n",
    "                continue\n",
    "            current_summary_sentences = copy.copy(oracle_summary_sentences)\n",
    "            # Добавляем какое-то предложения к уже существующему summary\n",
    "            current_summary_sentences.add(i)\n",
    "            current_summary = \" \".join([sentences[index] for index in sorted(list(current_summary_sentences))])\n",
    "            # Считаем метрики\n",
    "            current_score = calc_score(current_summary, gold_summary)\n",
    "            summaries.append((current_score, current_summary_sentences))\n",
    "        # Если получилось улучшить метрики с добавлением какого-либо предложения, то пробуем добавить ещё\n",
    "        # Иначе на этом заканчиваем\n",
    "        best_summary_score, best_summary_sentences = max(summaries)\n",
    "        if best_summary_score <= score:\n",
    "            break\n",
    "        oracle_summary_sentences = best_summary_sentences\n",
    "        score = best_summary_score\n",
    "    oracle_summary = \" \".join([sentences[index] for index in sorted(list(oracle_summary_sentences))])\n",
    "    return oracle_summary, oracle_summary_sentences\n",
    "\n",
    "def calc_single_score(pred_summary, gold_summary, rouge):\n",
    "    return rouge.get_scores([pred_summary], [gold_summary], avg=True)['rouge-2']['f']"
   ]
  },
  {
   "cell_type": "code",
   "execution_count": 38,
   "id": "e64ed428",
   "metadata": {},
   "outputs": [],
   "source": [
    "def calc_oracle_score(records, nrows=1000, lower=True):\n",
    "    references = []\n",
    "    predictions = []\n",
    "    rouge = Rouge()\n",
    "  \n",
    "    for i, record in tqdm(enumerate(records)):\n",
    "        if i >= nrows:\n",
    "            break\n",
    "\n",
    "        summary = record[\"summary\"]\n",
    "        summary = summary if not lower else summary.lower()\n",
    "        references.append(summary)\n",
    "\n",
    "        text = record[\"text\"]\n",
    "        predicted_summary, _ = build_oracle_summary_greedy(text, summary, calc_score=lambda x, y: calc_single_score(x, y, rouge))\n",
    "        predictions.append(predicted_summary)\n",
    "\n",
    "    return calc_scores(references, predictions)"
   ]
  },
  {
   "cell_type": "code",
   "execution_count": 39,
   "id": "7d3e24c6",
   "metadata": {},
   "outputs": [],
   "source": [
    "# calc_oracle_score(test_records)"
   ]
  },
  {
   "cell_type": "code",
   "execution_count": 40,
   "id": "3fedcf8f",
   "metadata": {},
   "outputs": [
    {
     "data": {
      "application/vnd.jupyter.widget-view+json": {
       "model_id": "2e8a2aa1222242438dd1c02de79e25a2",
       "version_major": 2,
       "version_minor": 0
      },
      "text/plain": [
       "0it [00:00, ?it/s]"
      ]
     },
     "metadata": {},
     "output_type": "display_data"
    },
    {
     "name": "stdout",
     "output_type": "stream",
     "text": [
      "Count: 1000\n",
      "Ref: телеканал «спас» запускает реалити-шоу «остров», участникам которого предстоит месяц жить и работать в нило-столобенской пустыни на озере селигер. организаторы отметили, что это беспрецедентный подобный проект на телевидении. участникам шоу будет, где поработать — в монастыре работают свечной, молочный и столярный цеха, есть коровник, конюшня, пасека.\n",
      "Hyp: православный телеканал «спас», учредителем которого является московская патриархия, запускает реалити-шоу «остров», участникам которого предстоит месяц жить и работать в нило-столобенской пустыни на озере селигер в тверской области. в комментарии также отмечается, что это беспрецедентный подобный проект на телевидении. стоит отметить, что участникам шоу будет, где поработать — в монастыре работают свечной, молочный и столярный цеха, есть коровник, конюшня, пасека.\n",
      "BLEU:  0.531336150784986\n",
      "ROUGE:  {'rouge-1': {'f': 0.36951810858804146, 'p': 0.4053281117404892, 'r': 0.3661389123393327}, 'rouge-2': {'f': 0.2087846693590912, 'p': 0.23400300931194973, 'r': 0.20594499639015063}, 'rouge-l': {'f': 0.32342889691715343, 'p': 0.3777106006444112, 'r': 0.33982247044123787}}\n"
     ]
    },
    {
     "data": {
      "text/plain": [
       "{'lead-1': (0.19177311186434495, 0.23804097238957525),\n",
       " 'textrank': (0.23481140598760156, 0.1709577523245075),\n",
       " 'lextrank': (0.3585872220880093, 0.1866598392888999),\n",
       " 'lsa': (0.2886703084253367, 0.1423559861468858),\n",
       " 'summa': (0.17989347848877807, 0.16610940781957212),\n",
       " 'oracle_sum': (0.531336150784986, 0.36951810858804146)}"
      ]
     },
     "execution_count": 40,
     "metadata": {},
     "output_type": "execute_result"
    }
   ],
   "source": [
    "rs = calc_oracle_score(test_records)\n",
    "res['oracle_sum'] = rs[0], rs[1]['rouge-1']['f']\n",
    "res"
   ]
  },
  {
   "cell_type": "markdown",
   "id": "8a1310ea",
   "metadata": {},
   "source": [
    "### RNN"
   ]
  },
  {
   "cell_type": "code",
   "execution_count": 41,
   "id": "71cf8377",
   "metadata": {},
   "outputs": [
    {
     "data": {
      "text/html": [
       "<div>\n",
       "<style scoped>\n",
       "    .dataframe tbody tr th:only-of-type {\n",
       "        vertical-align: middle;\n",
       "    }\n",
       "\n",
       "    .dataframe tbody tr th {\n",
       "        vertical-align: top;\n",
       "    }\n",
       "\n",
       "    .dataframe thead th {\n",
       "        text-align: right;\n",
       "    }\n",
       "</style>\n",
       "<table border=\"1\" class=\"dataframe\">\n",
       "  <thead>\n",
       "    <tr style=\"text-align: right;\">\n",
       "      <th></th>\n",
       "      <th>url</th>\n",
       "      <th>text</th>\n",
       "      <th>title</th>\n",
       "      <th>summary</th>\n",
       "      <th>date</th>\n",
       "    </tr>\n",
       "  </thead>\n",
       "  <tbody>\n",
       "    <tr>\n",
       "      <th>0</th>\n",
       "      <td>https://www.gazeta.ru/science/2020/02/14_a_129...</td>\n",
       "      <td>Американское аэрокосмическое агентство NASA ог...</td>\n",
       "      <td>Венера, Ио или Тритон: куда полетит NASA</td>\n",
       "      <td>В NASA назвали четыре миссии в дальний космос,...</td>\n",
       "      <td>2020-02-14 16:39:11</td>\n",
       "    </tr>\n",
       "    <tr>\n",
       "      <th>1</th>\n",
       "      <td>https://www.gazeta.ru/social/2020/02/28/129806...</td>\n",
       "      <td>Около 11 тысяч зрителей увидели все самое лучш...</td>\n",
       "      <td>«Люди в Бурятии очень талантливые»</td>\n",
       "      <td>25 и 26 февраля в Кремлевском дворце съездов п...</td>\n",
       "      <td>2020-02-28 10:44:13</td>\n",
       "    </tr>\n",
       "    <tr>\n",
       "      <th>2</th>\n",
       "      <td>https://www.gazeta.ru/politics/2019/11/07_a_12...</td>\n",
       "      <td>7 ноября в Белоруссии прошли выборы членов сов...</td>\n",
       "      <td>Вспомнить СССР: как Лукашенко провел выборы</td>\n",
       "      <td>В Белоруссии в день годовщины Октябрьской рево...</td>\n",
       "      <td>2019-11-07 19:55:08</td>\n",
       "    </tr>\n",
       "  </tbody>\n",
       "</table>\n",
       "</div>"
      ],
      "text/plain": [
       "                                                 url  \\\n",
       "0  https://www.gazeta.ru/science/2020/02/14_a_129...   \n",
       "1  https://www.gazeta.ru/social/2020/02/28/129806...   \n",
       "2  https://www.gazeta.ru/politics/2019/11/07_a_12...   \n",
       "\n",
       "                                                text  \\\n",
       "0  Американское аэрокосмическое агентство NASA ог...   \n",
       "1  Около 11 тысяч зрителей увидели все самое лучш...   \n",
       "2  7 ноября в Белоруссии прошли выборы членов сов...   \n",
       "\n",
       "                                         title  \\\n",
       "0     Венера, Ио или Тритон: куда полетит NASA   \n",
       "1           «Люди в Бурятии очень талантливые»   \n",
       "2  Вспомнить СССР: как Лукашенко провел выборы   \n",
       "\n",
       "                                             summary                 date  \n",
       "0  В NASA назвали четыре миссии в дальний космос,...  2020-02-14 16:39:11  \n",
       "1  25 и 26 февраля в Кремлевском дворце съездов п...  2020-02-28 10:44:13  \n",
       "2  В Белоруссии в день годовщины Октябрьской рево...  2019-11-07 19:55:08  "
      ]
     },
     "execution_count": 41,
     "metadata": {},
     "output_type": "execute_result"
    }
   ],
   "source": [
    "df_train = pd.DataFrame(train_records)\n",
    "df_test = pd.DataFrame(test_records)\n",
    "df_test[:3]"
   ]
  },
  {
   "cell_type": "code",
   "execution_count": 42,
   "id": "9fc51009",
   "metadata": {},
   "outputs": [
    {
     "data": {
      "text/plain": [
       "0    BOS В 2011 году из России уйдет $80 млрд, счит...\n",
       "1    BOS Юлия Соловьева, экс-директор холдинга «Про...\n",
       "2    BOS Суд арестовал на два месяца четверых экс-ч...\n",
       "3    BOS Мнения предпринимателей по поводу вступлен...\n",
       "4    BOS На Первом канале завершился третий сезон ш...\n",
       "Name: summary_clean, dtype: object"
      ]
     },
     "execution_count": 42,
     "metadata": {},
     "output_type": "execute_result"
    }
   ],
   "source": [
    "df_train['summary_clean'] = df_train['summary'].apply(lambda v: 'BOS ' + v + ' EOS')\n",
    "df_test['summary_clean'] = df_test['summary'].apply(lambda v: 'BOS ' + v + ' EOS')\n",
    "df_train['summary_clean'][:5]"
   ]
  },
  {
   "cell_type": "code",
   "execution_count": 43,
   "id": "32bedf28",
   "metadata": {},
   "outputs": [],
   "source": [
    "MAX_TRAIN_SAMPLE = 5000\n",
    "MAX_TEST_SAMPLE = 500\n",
    "\n",
    "df_train = df_train[:MAX_TRAIN_SAMPLE]\n",
    "df_test = df_test[:MAX_TEST_SAMPLE]"
   ]
  },
  {
   "cell_type": "code",
   "execution_count": 44,
   "id": "25ae5522",
   "metadata": {},
   "outputs": [],
   "source": [
    "max_len_text = 1000\n",
    "max_len_sum = 100"
   ]
  },
  {
   "cell_type": "code",
   "execution_count": 45,
   "id": "9a750187",
   "metadata": {},
   "outputs": [],
   "source": [
    "tok_text = tf.keras.preprocessing.text.Tokenizer(oov_token='UNK')\n",
    "tok_text.fit_on_texts(df_train['text'])\n",
    "x_train_tok = tok_text.texts_to_sequences(df_train['text'])\n",
    "x_test_tok = tok_text.texts_to_sequences(df_test['text'])"
   ]
  },
  {
   "cell_type": "code",
   "execution_count": 46,
   "id": "1377b54a",
   "metadata": {},
   "outputs": [],
   "source": [
    "text_vocab_size=len(tok_text.word_index)+1\n",
    "\n",
    "padded_x_train = pad_sequences(x_train_tok, maxlen=max_len_text, padding='post', truncating='post')\n",
    "padded_x_test = pad_sequences(x_test_tok, maxlen=max_len_text, padding='post', truncating='post')"
   ]
  },
  {
   "cell_type": "code",
   "execution_count": 47,
   "id": "d289aee3",
   "metadata": {},
   "outputs": [],
   "source": [
    "tok_sum = tf.keras.preprocessing.text.Tokenizer(oov_token='UNK')\n",
    "tok_sum.fit_on_texts(df_train['summary_clean'])\n",
    "x_train_sum = tok_sum.texts_to_sequences(df_train['summary_clean'])\n",
    "x_test_sum = tok_sum.texts_to_sequences(df_test['summary_clean'])\n",
    "\n",
    "sum_vocab_size=len(tok_sum.word_index)+1\n",
    "\n",
    "padded_x_train_sum = pad_sequences(x_train_sum, maxlen=max_len_sum, padding='post', truncating='post')\n",
    "padded_x_test_sum = pad_sequences(x_test_sum, maxlen=max_len_sum, padding='post', truncating='post')"
   ]
  },
  {
   "cell_type": "code",
   "execution_count": 48,
   "id": "d9b53617",
   "metadata": {},
   "outputs": [
    {
     "data": {
      "text/plain": [
       "((5000, 1000), (5000, 100))"
      ]
     },
     "execution_count": 48,
     "metadata": {},
     "output_type": "execute_result"
    }
   ],
   "source": [
    "padded_x_train.shape, padded_x_train_sum.shape"
   ]
  },
  {
   "cell_type": "code",
   "execution_count": 49,
   "id": "fc33d1e6",
   "metadata": {},
   "outputs": [],
   "source": [
    "reverse_text_index=tok_text.index_word\n",
    "reverse_sum_index=tok_sum.index_word\n",
    "sum_wordindex=tok_sum.word_index"
   ]
  },
  {
   "cell_type": "code",
   "execution_count": 50,
   "id": "c99b4c0f",
   "metadata": {},
   "outputs": [
    {
     "data": {
      "text/plain": [
       "{1: 'UNK',\n",
       " 2: 'в',\n",
       " 3: 'bos',\n",
       " 4: 'eos',\n",
       " 5: 'и',\n",
       " 6: 'на',\n",
       " 7: 'с',\n",
       " 8: 'по',\n",
       " 9: 'не',\n",
       " 10: 'что',\n",
       " 11: 'за',\n",
       " 12: 'из',\n",
       " 13: '—',\n",
       " 14: 'а',\n",
       " 15: 'о',\n",
       " 16: 'россии',\n",
       " 17: 'к',\n",
       " 18: 'от',\n",
       " 19: 'его',\n",
       " 20: 'для',\n",
       " 21: 'сша',\n",
       " 22: 'но',\n",
       " 23: 'как',\n",
       " 24: 'после',\n",
       " 25: 'может',\n",
       " 26: 'будет',\n",
       " 27: 'года',\n",
       " 28: 'до',\n",
       " 29: 'он',\n",
       " 30: 'у',\n",
       " 31: 'это',\n",
       " 32: 'также',\n",
       " 33: 'уже',\n",
       " 34: 'эксперты',\n",
       " 35: 'во',\n",
       " 36: 'при',\n",
       " 37: 'который',\n",
       " 38: 'заявил',\n",
       " 39: 'время',\n",
       " 40: 'со',\n",
       " 41: 'этом',\n",
       " 42: 'лет',\n",
       " 43: 'году',\n",
       " 44: 'их',\n",
       " 45: 'президент',\n",
       " 46: 'под',\n",
       " 47: 'ее',\n",
       " 48: 'ранее',\n",
       " 49: 'еще',\n",
       " 50: 'против',\n",
       " 51: 'президента',\n",
       " 52: 'матче',\n",
       " 53: 'более',\n",
       " 54: 'был',\n",
       " 55: 'мира',\n",
       " 56: 'все',\n",
       " 57: 'однако',\n",
       " 58: 'украины',\n",
       " 59: 'словам',\n",
       " 60: 'только',\n",
       " 61: 'которые',\n",
       " 62: 'об',\n",
       " 63: '1',\n",
       " 64: 'страны',\n",
       " 65: 'власти',\n",
       " 66: 'то',\n",
       " 67: 'того',\n",
       " 68: 'суд',\n",
       " 69: 'считают',\n",
       " 70: 'владимир',\n",
       " 71: 'млн',\n",
       " 72: 'пока',\n",
       " 73: 'глава',\n",
       " 74: 'над',\n",
       " 75: 'компании',\n",
       " 76: 'чтобы',\n",
       " 77: 'том',\n",
       " 78: 'российский',\n",
       " 79: '–',\n",
       " 80: 'человек',\n",
       " 81: 'могут',\n",
       " 82: 'так',\n",
       " 83: 'будут',\n",
       " 84: 'рублей',\n",
       " 85: 'они',\n",
       " 86: 'рф',\n",
       " 87: 'победу',\n",
       " 88: 'москве',\n",
       " 89: 'экс',\n",
       " 90: 'тем',\n",
       " 91: 'млрд',\n",
       " 92: 'же',\n",
       " 93: 'она',\n",
       " 94: 'чемпионата',\n",
       " 95: 'сми',\n",
       " 96: 'один',\n",
       " 97: 'были',\n",
       " 98: 'быть',\n",
       " 99: 'дело',\n",
       " 100: 'два',\n",
       " 101: 'александр',\n",
       " 102: 'без',\n",
       " 103: 'стал',\n",
       " 104: 'российские',\n",
       " 105: '2',\n",
       " 106: 'решение',\n",
       " 107: 'всего',\n",
       " 108: 'путин',\n",
       " 109: 'области',\n",
       " 110: 'лиги',\n",
       " 111: 'где',\n",
       " 112: '5',\n",
       " 113: 'чем',\n",
       " 114: 'российских',\n",
       " 115: 'между',\n",
       " 116: 'свою',\n",
       " 117: 'россия',\n",
       " 118: 'было',\n",
       " 119: 'команды',\n",
       " 120: 'своей',\n",
       " 121: 'которого',\n",
       " 122: 'этого',\n",
       " 123: 'сергей',\n",
       " 124: 'если',\n",
       " 125: 'теперь',\n",
       " 126: 'место',\n",
       " 127: 'сборной',\n",
       " 128: 'раз',\n",
       " 129: 'европы',\n",
       " 130: 'мнению',\n",
       " 131: 'дмитрий',\n",
       " 132: 'больше',\n",
       " 133: 'которая',\n",
       " 134: 'три',\n",
       " 135: 'или',\n",
       " 136: 'российского',\n",
       " 137: 'сборная',\n",
       " 138: 'москвы',\n",
       " 139: 'главы',\n",
       " 140: 'говорят',\n",
       " 141: 'данным',\n",
       " 142: 'новый',\n",
       " 143: 'премьер',\n",
       " 144: 'была',\n",
       " 145: 'год',\n",
       " 146: 'котором',\n",
       " 147: 'двух',\n",
       " 148: 'компания',\n",
       " 149: 'этот',\n",
       " 150: 'первый',\n",
       " 151: 'несколько',\n",
       " 152: 'своих',\n",
       " 153: 'даже',\n",
       " 154: 'ни',\n",
       " 155: 'считает',\n",
       " 156: 'которой',\n",
       " 157: 'второй',\n",
       " 158: 'ему',\n",
       " 159: 'через',\n",
       " 160: 'отношении',\n",
       " 161: 'порошенко',\n",
       " 162: 'турнира',\n",
       " 163: 'перед',\n",
       " 164: 'своем',\n",
       " 165: 'рамках',\n",
       " 166: '10',\n",
       " 167: 'владимира',\n",
       " 168: 'российской',\n",
       " 169: 'день',\n",
       " 170: 'рассказал',\n",
       " 171: 'сейчас',\n",
       " 172: 'новые',\n",
       " 173: '4',\n",
       " 174: 'им',\n",
       " 175: 'лишь',\n",
       " 176: 'министр',\n",
       " 177: 'которых',\n",
       " 178: 'ли',\n",
       " 179: 'дома',\n",
       " 180: 'стороны',\n",
       " 181: 'этой',\n",
       " 182: 'бывший',\n",
       " 183: 'станет',\n",
       " 184: 'тренер',\n",
       " 185: 'делу',\n",
       " 186: 'стало',\n",
       " 187: 'первом',\n",
       " 188: 'деньги',\n",
       " 189: '3',\n",
       " 190: 'главный',\n",
       " 191: '20',\n",
       " 192: 'сам',\n",
       " 193: 'кроме',\n",
       " 194: 'своего',\n",
       " 195: 'связи',\n",
       " 196: 'них',\n",
       " 197: 'дела',\n",
       " 198: 'александра',\n",
       " 199: 'уголовное',\n",
       " 200: 'стали',\n",
       " 201: 'несмотря',\n",
       " 202: 'андрей',\n",
       " 203: 'среди',\n",
       " 204: 'жизни',\n",
       " 205: 'москва',\n",
       " 206: 'лидер',\n",
       " 207: 'себя',\n",
       " 208: 'почти',\n",
       " 209: 'нет',\n",
       " 210: 'людей',\n",
       " 211: 'результате',\n",
       " 212: 'россию',\n",
       " 213: 'мид',\n",
       " 214: 'свой',\n",
       " 215: 'м',\n",
       " 216: 'заявили',\n",
       " 217: 'должны',\n",
       " 218: 'территории',\n",
       " 219: 'сирии',\n",
       " 220: 'назад',\n",
       " 221: 'цска',\n",
       " 222: 'около',\n",
       " 223: 'правительство',\n",
       " 224: 'матча',\n",
       " 225: 'часть',\n",
       " 226: 'кубка',\n",
       " 227: 'случае',\n",
       " 228: 'организации',\n",
       " 229: 'новых',\n",
       " 230: '8',\n",
       " 231: 'стала',\n",
       " 232: 'впервые',\n",
       " 233: 'стране',\n",
       " 234: 'государства',\n",
       " 235: 'алексей',\n",
       " 236: '2018',\n",
       " 237: 'украине',\n",
       " 238: 'свои',\n",
       " 239: 'нового',\n",
       " 240: 'когда',\n",
       " 241: 'можно',\n",
       " 242: 'россиян',\n",
       " 243: 'накануне',\n",
       " 244: 'отметил',\n",
       " 245: 'себе',\n",
       " 246: 'сергея',\n",
       " 247: 'причиной',\n",
       " 248: 'стран',\n",
       " 249: 'города',\n",
       " 250: '15',\n",
       " 251: 'него',\n",
       " 252: 'стать',\n",
       " 253: 'является',\n",
       " 254: 'ходе',\n",
       " 255: 'американский',\n",
       " 256: 'российская',\n",
       " 257: 'матч',\n",
       " 258: 'числе',\n",
       " 259: 'эти',\n",
       " 260: 'граждан',\n",
       " 261: 'серии',\n",
       " 262: 'вышел',\n",
       " 263: 'благодаря',\n",
       " 264: 'сообщил',\n",
       " 265: 'погибли',\n",
       " 266: 'счет',\n",
       " 267: 'рынка',\n",
       " 268: 'безопасности',\n",
       " 269: 'санкт',\n",
       " 270: 'американские',\n",
       " 271: 'одного',\n",
       " 272: 'удалось',\n",
       " 273: 'есть',\n",
       " 274: 'тысяч',\n",
       " 275: 'россией',\n",
       " 276: 'рынке',\n",
       " 277: 'мвд',\n",
       " 278: 'суда',\n",
       " 279: 'две',\n",
       " 280: 'бывшего',\n",
       " 281: 'других',\n",
       " 282: 'чемпионов',\n",
       " 283: 'проект',\n",
       " 284: 'самых',\n",
       " 285: 'дтп',\n",
       " 286: 'бы',\n",
       " 287: '12',\n",
       " 288: 'правительства',\n",
       " 289: '2012',\n",
       " 290: 'всех',\n",
       " 291: 'первого',\n",
       " 292: 'германии',\n",
       " 293: 'победы',\n",
       " 294: 'таким',\n",
       " 295: 'человека',\n",
       " 296: 'новой',\n",
       " 297: 'группы',\n",
       " 298: 'google',\n",
       " 299: 'работы',\n",
       " 300: 'отмечают',\n",
       " 301: '30',\n",
       " 302: 'последние',\n",
       " 303: 'акций',\n",
       " 304: 'финала',\n",
       " 305: 'партии',\n",
       " 306: 'путина',\n",
       " 307: 'санкции',\n",
       " 308: 'одной',\n",
       " 309: '25',\n",
       " 310: 'поражение',\n",
       " 311: 'обыграл',\n",
       " 312: '7',\n",
       " 313: 'детей',\n",
       " 314: 'тура',\n",
       " 315: 'трамп',\n",
       " 316: 'встречи',\n",
       " 317: 'летний',\n",
       " 318: 'тыс',\n",
       " 319: '«динамо»',\n",
       " 320: 'вместе',\n",
       " 321: 'законопроект',\n",
       " 322: 'чемпионате',\n",
       " 323: 'должен',\n",
       " 324: 'назвал',\n",
       " 325: 'московского',\n",
       " 326: 'составе',\n",
       " 327: 'четыре',\n",
       " 328: 'трех',\n",
       " 329: 'выборов',\n",
       " 330: 'кто',\n",
       " 331: 'й',\n",
       " 332: 'которую',\n",
       " 333: 'менее',\n",
       " 334: 'совета',\n",
       " 335: 'список',\n",
       " 336: 'плей',\n",
       " 337: 'офф',\n",
       " 338: 'оон',\n",
       " 339: 'сети',\n",
       " 340: 'нато',\n",
       " 341: 'российским',\n",
       " 342: 'получил',\n",
       " 343: 'ситуации',\n",
       " 344: 'вопрос',\n",
       " 345: 'фоне',\n",
       " 346: '6',\n",
       " 347: 'придется',\n",
       " 348: 'туре',\n",
       " 349: 'первой',\n",
       " 350: '11',\n",
       " 351: 'интернет',\n",
       " 352: 'рост',\n",
       " 353: 'согласно',\n",
       " 354: 'михаил',\n",
       " 355: 'образом',\n",
       " 356: 'политики',\n",
       " 357: 'якобы',\n",
       " 358: 'ес',\n",
       " 359: 'участие',\n",
       " 360: 'версии',\n",
       " 361: 'действия',\n",
       " 362: 'пять',\n",
       " 363: 'заявила',\n",
       " 364: 'подряд',\n",
       " 365: 'apple',\n",
       " 366: '18',\n",
       " 367: 'истории',\n",
       " 368: '16',\n",
       " 369: 'начала',\n",
       " 370: 'момент',\n",
       " 371: 'смогут',\n",
       " 372: 'другие',\n",
       " 373: 'закон',\n",
       " 374: 'втором',\n",
       " 375: 'следователи',\n",
       " 376: 'скончался',\n",
       " 377: 'президентом',\n",
       " 378: 'го',\n",
       " 379: 'решения',\n",
       " 380: 'находится',\n",
       " 381: 'республики',\n",
       " 382: 'команда',\n",
       " 383: 'хотя',\n",
       " 384: 'возможность',\n",
       " 385: 'утверждают',\n",
       " 386: 'рынок',\n",
       " 387: 'пресс',\n",
       " 388: 'нападающий',\n",
       " 389: 'недели',\n",
       " 390: 'трампа',\n",
       " 391: 'минобороны',\n",
       " 392: '14',\n",
       " 393: 'работу',\n",
       " 394: 'шоу',\n",
       " 395: 'команде',\n",
       " 396: 'срок',\n",
       " 397: 'медведев',\n",
       " 398: '0',\n",
       " 399: 'ей',\n",
       " 400: 'своим',\n",
       " 401: 'выезде',\n",
       " 402: 'сразу',\n",
       " 403: 'итогам',\n",
       " 404: 'течение',\n",
       " 405: 'экспертов',\n",
       " 406: 'которое',\n",
       " 407: 'источники',\n",
       " 408: 'обороны',\n",
       " 409: 'роста',\n",
       " 410: 'выборах',\n",
       " 411: 'четверг',\n",
       " 412: 'дмитрия',\n",
       " 413: 'полиция',\n",
       " 414: 'уверены',\n",
       " 415: 'клуб',\n",
       " 416: 'получили',\n",
       " 417: 'конца',\n",
       " 418: 'бизнес',\n",
       " 419: 'колонии',\n",
       " 420: 'оказался',\n",
       " 421: 'расследование',\n",
       " 422: 'мая',\n",
       " 423: 'игры',\n",
       " 424: 'неделе',\n",
       " 425: 'пройдет',\n",
       " 426: 'властей',\n",
       " 427: 'санкций',\n",
       " 428: 'проблемы',\n",
       " 429: 'евро',\n",
       " 430: 'офис',\n",
       " 431: 'представители',\n",
       " 432: 'информацию',\n",
       " 433: 'именно',\n",
       " 434: 'команду',\n",
       " 435: 'сезоне',\n",
       " 436: 'первую',\n",
       " 437: 'цен',\n",
       " 438: 'госдумы',\n",
       " 439: 'центре',\n",
       " 440: 'ответ',\n",
       " 441: 'клуба',\n",
       " 442: 'признал',\n",
       " 443: 'поле',\n",
       " 444: 'проиграл',\n",
       " 445: 'возбуждено',\n",
       " 446: 'полиции',\n",
       " 447: 'сможет',\n",
       " 448: 'участники',\n",
       " 449: 'меньше',\n",
       " 450: 'аварии',\n",
       " 451: 'свое',\n",
       " 452: 'про',\n",
       " 453: 'очередной',\n",
       " 454: 'комитет',\n",
       " 455: 'великобритании',\n",
       " 456: 'продолжает',\n",
       " 457: 'помощью',\n",
       " 458: 'дел',\n",
       " 459: 'пост',\n",
       " 460: 'депутаты',\n",
       " 461: 'поскольку',\n",
       " 462: 'руководство',\n",
       " 463: 'чего',\n",
       " 464: 'федерации',\n",
       " 465: 'эксперт',\n",
       " 466: 'известно',\n",
       " 467: 'актер',\n",
       " 468: 'армии',\n",
       " 469: 'сотрудников',\n",
       " 470: 'украина',\n",
       " 471: 'национальной',\n",
       " 472: 'франции',\n",
       " 473: 'сезона',\n",
       " 474: 'банка',\n",
       " 475: 'одна',\n",
       " 476: '13',\n",
       " 477: 'идет',\n",
       " 478: 'люди',\n",
       " 479: 'украинских',\n",
       " 480: 'третий',\n",
       " 481: 'сентября',\n",
       " 482: 'городе',\n",
       " 483: 'ближайшее',\n",
       " 484: 'цены',\n",
       " 485: 'обвинения',\n",
       " 486: 'приговор',\n",
       " 487: 'сыграет',\n",
       " 488: 'компаний',\n",
       " 489: 'американских',\n",
       " 490: 'мария',\n",
       " 491: 'собирается',\n",
       " 492: 'пор',\n",
       " 493: 'смерти',\n",
       " 494: 'месте',\n",
       " 495: '«манчестер',\n",
       " 496: 'частности',\n",
       " 497: 'хочет',\n",
       " 498: 'этапа',\n",
       " 499: 'развития',\n",
       " 500: 'акции',\n",
       " 501: 'проекта',\n",
       " 502: 'гибдд',\n",
       " 503: 'военных',\n",
       " 504: 'программы',\n",
       " 505: 'счетом',\n",
       " 506: 'газа',\n",
       " 507: 'обыграв',\n",
       " 508: 'украинского',\n",
       " 509: 'качестве',\n",
       " 510: 'американского',\n",
       " 511: 'помощи',\n",
       " 512: 'экономики',\n",
       " 513: 'права',\n",
       " 514: 'системы',\n",
       " 515: 'ведомства',\n",
       " 516: 'аналитики',\n",
       " 517: 'населения',\n",
       " 518: 'поражения',\n",
       " 519: 'такой',\n",
       " 520: 'такое',\n",
       " 521: 'там',\n",
       " 522: 'готов',\n",
       " 523: 'фсб',\n",
       " 524: '17',\n",
       " 525: 'московской',\n",
       " 526: 'дональда',\n",
       " 527: 'встрече',\n",
       " 528: 'денег',\n",
       " 529: 'военные',\n",
       " 530: 'стоит',\n",
       " 531: 'заявление',\n",
       " 532: 'готовы',\n",
       " 533: 'евгений',\n",
       " 534: 'дня',\n",
       " 535: 'видео',\n",
       " 536: 'чемпион',\n",
       " 537: 'эту',\n",
       " 538: '23',\n",
       " 539: '«спартака»',\n",
       " 540: 'выборы',\n",
       " 541: 'министра',\n",
       " 542: 'игорь',\n",
       " 543: 'главного',\n",
       " 544: 'вице',\n",
       " 545: 'части',\n",
       " 546: 'позиции',\n",
       " 547: 'право',\n",
       " 548: 'михаила',\n",
       " 549: 'конце',\n",
       " 550: '2019',\n",
       " 551: 'николай',\n",
       " 552: 'пятницу',\n",
       " 553: 'субботу',\n",
       " 554: 'сделать',\n",
       " 555: 'впрочем',\n",
       " 556: 'месяца',\n",
       " 557: 'прошлом',\n",
       " 558: 'очков',\n",
       " 559: 'прежнему',\n",
       " 560: 'выходные',\n",
       " 561: 'москву',\n",
       " 562: 'вновь',\n",
       " 563: 'службы',\n",
       " 564: 'кино',\n",
       " 565: 'чемпиона',\n",
       " 566: 'сотрудники',\n",
       " 567: 'второе',\n",
       " 568: 'декабря',\n",
       " 569: 'получить',\n",
       " 570: 'петр',\n",
       " 571: 'очередь',\n",
       " 572: 'сообщили',\n",
       " 573: 'украинской',\n",
       " 574: 'следствие',\n",
       " 575: 'участием',\n",
       " 576: 'участников',\n",
       " 577: 'задержан',\n",
       " 578: 'времени',\n",
       " 579: 'информации',\n",
       " 580: '«нью',\n",
       " 581: 'смог',\n",
       " 582: 'данные',\n",
       " 583: 'кризиса',\n",
       " 584: 'которому',\n",
       " 585: 'артист',\n",
       " 586: 'топ',\n",
       " 587: 'среду',\n",
       " 588: 'белоруссии',\n",
       " 589: 'финале',\n",
       " 590: 'дональд',\n",
       " 591: 'призвал',\n",
       " 592: 'прав',\n",
       " 593: 'мире',\n",
       " 594: 'состав',\n",
       " 595: 'лукашенко',\n",
       " 596: 'дней',\n",
       " 597: 'места',\n",
       " 598: 'отношения',\n",
       " 599: 'меры',\n",
       " 600: 'форвард',\n",
       " 601: 'погибших',\n",
       " 602: 'вничью',\n",
       " 603: 'европе',\n",
       " 604: 'годы',\n",
       " 605: 'лиге',\n",
       " 606: 'провести',\n",
       " 607: 'россии»',\n",
       " 608: 'уступил',\n",
       " 609: 'режима',\n",
       " 610: 'лидера',\n",
       " 611: 'евгения',\n",
       " 612: 'марта',\n",
       " 613: 'ряд',\n",
       " 614: 'администрации',\n",
       " 615: 'позволит',\n",
       " 616: 'россияне',\n",
       " 617: 'планирует',\n",
       " 618: 'президенты',\n",
       " 619: 'факту',\n",
       " 620: 'чиновники',\n",
       " 621: 'понедельник',\n",
       " 622: '2014',\n",
       " 623: 'гостях',\n",
       " 624: 'оказались',\n",
       " 625: 'четырех',\n",
       " 626: 'признался',\n",
       " 627: 'бокс',\n",
       " 628: 'facebook',\n",
       " 629: 'жизнь',\n",
       " 630: '2011',\n",
       " 631: 'чиновников',\n",
       " 632: 'поводу',\n",
       " 633: '100',\n",
       " 634: 'андрея',\n",
       " 635: 'временем',\n",
       " 636: 'алексея',\n",
       " 637: 'тот',\n",
       " 638: 'грозит',\n",
       " 639: '24',\n",
       " 640: 'автомобилей',\n",
       " 641: 'сообщают',\n",
       " 642: 'гол',\n",
       " 643: 'столице',\n",
       " 644: 'рассказала',\n",
       " 645: 'новым',\n",
       " 646: 'чемпионат',\n",
       " 647: 'число',\n",
       " 648: 'сих',\n",
       " 649: 'отказался',\n",
       " 650: 'спорта',\n",
       " 651: 'месяцев',\n",
       " 652: 'смогли',\n",
       " 653: 'первое',\n",
       " 654: 'имеет',\n",
       " 655: '70',\n",
       " 656: 'называют',\n",
       " 657: 'утверждает',\n",
       " 658: 'интервью',\n",
       " 659: 'июля',\n",
       " 660: 'кндр',\n",
       " 661: 'такие',\n",
       " 662: 'войны',\n",
       " 663: '9',\n",
       " 664: 'украинский',\n",
       " 665: 'убийстве',\n",
       " 666: 'решил',\n",
       " 667: 'нефть',\n",
       " 668: 'представитель',\n",
       " 669: 'вторник',\n",
       " 670: 'выйти',\n",
       " 671: 'самолет',\n",
       " 672: 'возможности',\n",
       " 673: 'российском',\n",
       " 674: 'третьего',\n",
       " 675: 'выиграл',\n",
       " 676: 'фильм',\n",
       " 677: 'страну',\n",
       " 678: 'местные',\n",
       " 679: 'объявил',\n",
       " 680: 'тренера',\n",
       " 681: 'депутат',\n",
       " 682: 'столицы',\n",
       " 683: 'тех',\n",
       " 684: 'киев',\n",
       " 685: 'многие',\n",
       " 686: 'руководством',\n",
       " 687: 'последний',\n",
       " 688: 'месяц',\n",
       " 689: 'одержал',\n",
       " 690: 'отставку',\n",
       " 691: 'театра',\n",
       " 692: 'бизнеса',\n",
       " 693: '21',\n",
       " 694: 'предлагает',\n",
       " 695: 'переговоры',\n",
       " 696: 'операции',\n",
       " 697: 'жителей',\n",
       " 698: 'сил',\n",
       " 699: 'военной',\n",
       " 700: 'известный',\n",
       " 701: 'роман',\n",
       " 702: 'км',\n",
       " 703: 'обыграла',\n",
       " 704: 'продажи',\n",
       " 705: 'снова',\n",
       " 706: 'начале',\n",
       " 707: 'примет',\n",
       " 708: '19',\n",
       " 709: '2016',\n",
       " 710: 'директор',\n",
       " 711: 'следствия',\n",
       " 712: 'борьбы',\n",
       " 713: 'новую',\n",
       " 714: 'группового',\n",
       " 715: 'собой',\n",
       " 716: 'регионе',\n",
       " 717: 'забил',\n",
       " 718: 'начал',\n",
       " 719: 'просто',\n",
       " 720: 'пяти',\n",
       " 721: 'банк',\n",
       " 722: 'одним',\n",
       " 723: 'инвесторов',\n",
       " 724: 'лидеры',\n",
       " 725: 'силу',\n",
       " 726: 'японии',\n",
       " 727: 'внимание',\n",
       " 728: 'ближайшие',\n",
       " 729: 'павел',\n",
       " 730: 'вернуться',\n",
       " 731: 'московский',\n",
       " 732: 'жители',\n",
       " 733: 'проиграла',\n",
       " 734: 'января',\n",
       " 735: 'скорее',\n",
       " 736: 'иностранных',\n",
       " 737: 'произошло',\n",
       " 738: '2013',\n",
       " 739: 'шансы',\n",
       " 740: 'признают',\n",
       " 741: 'президентских',\n",
       " 742: 'средств',\n",
       " 743: 'петербурге',\n",
       " 744: 'китая',\n",
       " 745: 'медведева',\n",
       " 746: 'официально',\n",
       " 747: 'выставка',\n",
       " 748: '«челси»',\n",
       " 749: 'погиб',\n",
       " 750: 'игр',\n",
       " 751: 'второго',\n",
       " 752: 'октября',\n",
       " 753: 'очень',\n",
       " 754: 'проектов',\n",
       " 755: 'курс',\n",
       " 756: 'официальный',\n",
       " 757: 'органы',\n",
       " 758: 'сделал',\n",
       " 759: 'сериала',\n",
       " 760: 'оружия',\n",
       " 761: 'пользователей',\n",
       " 762: 'сити»',\n",
       " 763: 'первые',\n",
       " 764: 'игроков',\n",
       " 765: 'состоянии',\n",
       " 766: 'конфликта',\n",
       " 767: 'шесть',\n",
       " 768: 'прокуратура',\n",
       " 769: '27',\n",
       " 770: 'испании',\n",
       " 771: 'затем',\n",
       " 772: 'процесс',\n",
       " 773: 'большинство',\n",
       " 774: 'преступления',\n",
       " 775: 'апреля',\n",
       " 776: 'совет',\n",
       " 777: '60',\n",
       " 778: 'количество',\n",
       " 779: 'нее',\n",
       " 780: 'летнего',\n",
       " 781: 'работе',\n",
       " 782: '22',\n",
       " 783: 'деле',\n",
       " 784: '2017',\n",
       " 785: 'членов',\n",
       " 786: 'мировой',\n",
       " 787: 'пострадали',\n",
       " 788: 'выяснили',\n",
       " 789: 'выступил',\n",
       " 790: 'новая',\n",
       " 791: 'готовится',\n",
       " 792: 'капитан',\n",
       " 793: 'состоится',\n",
       " 794: 'самого',\n",
       " 795: 'новое',\n",
       " 796: 'выше',\n",
       " 797: 'нью',\n",
       " 798: 'выразил',\n",
       " 799: 'предстоит',\n",
       " 800: 'этих',\n",
       " 801: 'ученые',\n",
       " 802: 'намерены',\n",
       " 803: 'слова',\n",
       " 804: 'суде',\n",
       " 805: 'этому',\n",
       " 806: 'красно',\n",
       " 807: 'ситуация',\n",
       " 808: 'тогда',\n",
       " 809: 'виталий',\n",
       " 810: 'раньше',\n",
       " 811: 'эта',\n",
       " 812: 'намерен',\n",
       " 813: 'следственный',\n",
       " 814: 'поддержку',\n",
       " 815: '50',\n",
       " 816: 'президенту',\n",
       " 817: 'пообещал',\n",
       " 818: 'принять',\n",
       " 819: 'украинские',\n",
       " 820: 'бюджета',\n",
       " 821: 'вину',\n",
       " 822: 'ворота',\n",
       " 823: 'вышла',\n",
       " 824: 'вместо',\n",
       " 825: 'петра',\n",
       " 826: 'сумму',\n",
       " 827: 'главе',\n",
       " 828: 'нескольких',\n",
       " 829: 'х',\n",
       " 830: 'говорит',\n",
       " 831: 'главной',\n",
       " 832: '90',\n",
       " 833: '«спартак»',\n",
       " 834: 'киева',\n",
       " 835: 'речь',\n",
       " 836: 'остается',\n",
       " 837: 'военного',\n",
       " 838: 'ним',\n",
       " 839: 'найти',\n",
       " 840: 'военно',\n",
       " 841: 'активно',\n",
       " 842: 'наставник',\n",
       " 843: 'обещает',\n",
       " 844: 'уровне',\n",
       " 845: 'останется',\n",
       " 846: 'представителей',\n",
       " 847: 'вашингтон',\n",
       " 848: 'помощь',\n",
       " 849: 'другой',\n",
       " 850: 'переговоров',\n",
       " 851: 'предложение',\n",
       " 852: 'необходимо',\n",
       " 853: 'либо',\n",
       " 854: 'фонда',\n",
       " 855: 'этим',\n",
       " 856: 'подписал',\n",
       " 857: 'задержали',\n",
       " 858: 'премьера',\n",
       " 859: 'возрасте',\n",
       " 860: 'свободы',\n",
       " 861: 'полагают',\n",
       " 862: 'адрес',\n",
       " 863: 'открылась',\n",
       " 864: 'вокруг',\n",
       " 865: '40',\n",
       " 866: 'заявления',\n",
       " 867: '«газпром»',\n",
       " 868: 'украину',\n",
       " 869: 'сделки',\n",
       " 870: 'футболу',\n",
       " 871: 'первым',\n",
       " 872: 'те',\n",
       " 873: 'воскресенье',\n",
       " 874: 'расследования',\n",
       " 875: 'комиссия',\n",
       " 876: 'доме',\n",
       " 877: 'пришли',\n",
       " 878: 'проведения',\n",
       " 879: 'скандал',\n",
       " 880: 'ничего',\n",
       " 881: 'трое',\n",
       " 882: 'региона',\n",
       " 883: 'контроль',\n",
       " 884: 'августа',\n",
       " 885: 'сама',\n",
       " 886: 'подчеркнул',\n",
       " 887: 'условия',\n",
       " 888: 'практически',\n",
       " 889: 'хотят',\n",
       " 890: 'ждет',\n",
       " 891: 'ситуацию',\n",
       " 892: 'бюджет',\n",
       " 893: 'двумя',\n",
       " 894: 'управление',\n",
       " 895: 'уголовного',\n",
       " 896: 'спустя',\n",
       " 897: 'центра',\n",
       " 898: 'юрий',\n",
       " 899: 'турции',\n",
       " 900: 'документ',\n",
       " 901: 'убийства',\n",
       " 902: 'продолжают',\n",
       " 903: 'друг',\n",
       " 904: 'итоге',\n",
       " 905: 'арест',\n",
       " 906: 'кириленко',\n",
       " 907: 'работать',\n",
       " 908: 'победил',\n",
       " 909: 'болельщиков',\n",
       " 910: 'главу',\n",
       " 911: 'неделю',\n",
       " 912: 'италии',\n",
       " 913: '«зенита»',\n",
       " 914: 'греции',\n",
       " 915: 'лидером',\n",
       " 916: 'выступления',\n",
       " 917: 'гран',\n",
       " 918: 'власть',\n",
       " 919: 'комитета',\n",
       " 920: 'олимпиады',\n",
       " 921: 'киеве',\n",
       " 922: 'цб',\n",
       " 923: 'полностью',\n",
       " 924: 'международного',\n",
       " 925: 'провел',\n",
       " 926: 'преддверии',\n",
       " 927: 'ссср',\n",
       " 928: 'олимпийских',\n",
       " 929: 'борту',\n",
       " 930: 'органов',\n",
       " 931: 'двое',\n",
       " 932: 'самолета',\n",
       " 933: 'ответственность',\n",
       " 934: 'дал',\n",
       " 935: 'восемь',\n",
       " 936: 'полузащитник',\n",
       " 937: 'часов',\n",
       " 938: 'данных',\n",
       " 939: 'продаж',\n",
       " 940: 'история',\n",
       " 941: 'сегодня',\n",
       " 942: 'проблем',\n",
       " 943: 'конференции',\n",
       " 944: 'илья',\n",
       " 945: 'должна',\n",
       " 946: '80',\n",
       " 947: 'секретарь',\n",
       " 948: 'добавил',\n",
       " 949: 'крыма',\n",
       " 950: 'закона',\n",
       " 951: 'следующей',\n",
       " 952: 'автор',\n",
       " 953: 'искусства',\n",
       " 954: 'которым',\n",
       " 955: 'комиссии',\n",
       " 956: 'женщин',\n",
       " 957: 'вернуть',\n",
       " 958: 'силы',\n",
       " 959: 'кхл',\n",
       " 960: 'режиссера',\n",
       " 961: 'ожидается',\n",
       " 962: 'газ',\n",
       " 963: 'корпорации',\n",
       " 964: 'производства',\n",
       " 965: 'удар',\n",
       " 966: 'турнире',\n",
       " 967: 'мог',\n",
       " 968: 'провели',\n",
       " 969: 'политика',\n",
       " 970: 'назвали',\n",
       " 971: 'расходы',\n",
       " 972: 'всу',\n",
       " 973: 'отсутствие',\n",
       " 974: 'женщина',\n",
       " 975: 'выход',\n",
       " 976: 'руб',\n",
       " 977: 'данный',\n",
       " 978: 'специалисты',\n",
       " 979: 'семь',\n",
       " 980: 'управления',\n",
       " 981: 'днр',\n",
       " 982: 'нужно',\n",
       " 983: 'принял',\n",
       " 984: 'ней',\n",
       " 985: 'адвокат',\n",
       " 986: 'прошлого',\n",
       " 987: 'принес',\n",
       " 988: 'всю',\n",
       " 989: 'главой',\n",
       " 990: 'обвинил',\n",
       " 991: 'церкви',\n",
       " 992: 'поста',\n",
       " 993: 'нба',\n",
       " 994: 'матчах',\n",
       " 995: 'соперника',\n",
       " 996: 'инцидента',\n",
       " 997: 'предложил',\n",
       " 998: 'уровень',\n",
       " 999: 'следующем',\n",
       " 1000: 'вопросы',\n",
       " ...}"
      ]
     },
     "execution_count": 50,
     "metadata": {},
     "output_type": "execute_result"
    }
   ],
   "source": [
    "reverse_sum_index"
   ]
  },
  {
   "cell_type": "code",
   "execution_count": 51,
   "id": "42fb049e",
   "metadata": {},
   "outputs": [
    {
     "name": "stdout",
     "output_type": "stream",
     "text": [
      "Model: \"model\"\n",
      "__________________________________________________________________________________________________\n",
      "Layer (type)                    Output Shape         Param #     Connected to                     \n",
      "==================================================================================================\n",
      "input_1 (InputLayer)            [(None, 1000)]       0                                            \n",
      "__________________________________________________________________________________________________\n",
      "embedding (Embedding)           (None, 1000, 200)    44190200    input_1[0][0]                    \n",
      "__________________________________________________________________________________________________\n",
      "lstm (LSTM)                     [(None, 1000, 300),  601200      embedding[0][0]                  \n",
      "__________________________________________________________________________________________________\n",
      "input_2 (InputLayer)            [(None, None)]       0                                            \n",
      "__________________________________________________________________________________________________\n",
      "lstm_1 (LSTM)                   [(None, 1000, 300),  721200      lstm[0][0]                       \n",
      "__________________________________________________________________________________________________\n",
      "embedding_1 (Embedding)         (None, None, 200)    8849200     input_2[0][0]                    \n",
      "__________________________________________________________________________________________________\n",
      "lstm_2 (LSTM)                   [(None, 1000, 300),  721200      lstm_1[0][0]                     \n",
      "__________________________________________________________________________________________________\n",
      "lstm_3 (LSTM)                   [(None, None, 300),  601200      embedding_1[0][0]                \n",
      "                                                                 lstm_2[0][1]                     \n",
      "                                                                 lstm_2[0][2]                     \n",
      "__________________________________________________________________________________________________\n",
      "time_distributed (TimeDistribut (None, None, 44246)  13318046    lstm_3[0][0]                     \n",
      "==================================================================================================\n",
      "Total params: 69,002,246\n",
      "Trainable params: 69,002,246\n",
      "Non-trainable params: 0\n",
      "__________________________________________________________________________________________________\n"
     ]
    }
   ],
   "source": [
    "latent_dim = 300\n",
    "embedding_dim=200\n",
    "\n",
    "# Encoder\n",
    "encoder_inputs = Input(shape=(max_len_text,))\n",
    "\n",
    "#embedding layer\n",
    "enc_emb =  Embedding(text_vocab_size, embedding_dim, trainable=True)(encoder_inputs)\n",
    "\n",
    "#encoder lstm 1\n",
    "encoder_lstm1 = LSTM(latent_dim, return_sequences=True, return_state=True, dropout=0.4, recurrent_dropout=0.0)\n",
    "encoder_output1, state_h1, state_c1 = encoder_lstm1(enc_emb)\n",
    "\n",
    "#encoder lstm 2\n",
    "encoder_lstm2 = LSTM(latent_dim, return_sequences=True,return_state=True,dropout=0.4, recurrent_dropout=0.0)\n",
    "encoder_output2, state_h2, state_c2 = encoder_lstm2(encoder_output1)\n",
    "\n",
    "#encoder lstm 3\n",
    "encoder_lstm3=LSTM(latent_dim, return_state=True, return_sequences=True,dropout=0.4,recurrent_dropout=0.0)\n",
    "encoder_outputs, state_h, state_c= encoder_lstm3(encoder_output2) #encoder_lstm3(encoder_output2)\n",
    "\n",
    "# Set up the decoder, using `encoder_states` as initial state.\n",
    "decoder_inputs = Input(shape=(None,))\n",
    "\n",
    "#embedding layer\n",
    "dec_emb_layer = Embedding(sum_vocab_size, embedding_dim, trainable=True)\n",
    "dec_emb = dec_emb_layer(decoder_inputs)\n",
    "\n",
    "decoder_lstm = LSTM(latent_dim, return_sequences=True, return_state=True,dropout=0.4,recurrent_dropout=0.0)\n",
    "decoder_outputs, decoder_fwd_state, decoder_back_state = decoder_lstm(dec_emb, initial_state=[state_h, state_c])\n",
    "\n",
    "#dense layer\n",
    "decoder_dense =  TimeDistributed(Dense(sum_vocab_size, activation='softmax'))\n",
    "decoder_outputs = decoder_dense(decoder_outputs)\n",
    "\n",
    "# Define the model \n",
    "model = Model([encoder_inputs, decoder_inputs], decoder_outputs)\n",
    "\n",
    "model.summary()"
   ]
  },
  {
   "cell_type": "code",
   "execution_count": 52,
   "id": "aba1033a",
   "metadata": {},
   "outputs": [],
   "source": [
    "optimizer = tf.keras.optimizers.Adam(learning_rate=0.0005)"
   ]
  },
  {
   "cell_type": "code",
   "execution_count": 53,
   "id": "98eb7220",
   "metadata": {},
   "outputs": [],
   "source": [
    "model.compile(optimizer='Adam',loss='sparse_categorical_crossentropy', metrics=['accuracy'])"
   ]
  },
  {
   "cell_type": "code",
   "execution_count": 54,
   "id": "ce53d46c",
   "metadata": {},
   "outputs": [],
   "source": [
    "checkpoint_path = \"./cp.ckpt\"\n",
    "cp_callback = tf.keras.callbacks.ModelCheckpoint(filepath=checkpoint_path,\n",
    "                                                 save_weights_only=True,\n",
    "                                                 verbose=1)"
   ]
  },
  {
   "cell_type": "code",
   "execution_count": 55,
   "id": "1cdba43e",
   "metadata": {},
   "outputs": [
    {
     "name": "stdout",
     "output_type": "stream",
     "text": [
      "Epoch 1/50\n",
      "313/313 [==============================] - 346s 1s/step - loss: 4.3883 - accuracy: 0.5783 - val_loss: 4.2385 - val_accuracy: 0.5473\n",
      "\n",
      "Epoch 00001: saving model to .\\cp.ckpt\n",
      "Epoch 2/50\n",
      "313/313 [==============================] - 340s 1s/step - loss: 3.7124 - accuracy: 0.5924 - val_loss: 4.2193 - val_accuracy: 0.5494\n",
      "\n",
      "Epoch 00002: saving model to .\\cp.ckpt\n",
      "Epoch 3/50\n",
      "313/313 [==============================] - 340s 1s/step - loss: 3.6023 - accuracy: 0.5946 - val_loss: 4.1813 - val_accuracy: 0.5525\n",
      "\n",
      "Epoch 00003: saving model to .\\cp.ckpt\n",
      "Epoch 4/50\n",
      "313/313 [==============================] - 336s 1s/step - loss: 3.4949 - accuracy: 0.5964 - val_loss: 4.1568 - val_accuracy: 0.5537\n",
      "\n",
      "Epoch 00004: saving model to .\\cp.ckpt\n",
      "Epoch 5/50\n",
      "313/313 [==============================] - 335s 1s/step - loss: 3.3758 - accuracy: 0.5998 - val_loss: 4.1327 - val_accuracy: 0.5569\n",
      "\n",
      "Epoch 00005: saving model to .\\cp.ckpt\n",
      "Epoch 6/50\n",
      "313/313 [==============================] - 338s 1s/step - loss: 3.2458 - accuracy: 0.6049 - val_loss: 4.1176 - val_accuracy: 0.5587\n",
      "\n",
      "Epoch 00006: saving model to .\\cp.ckpt\n",
      "Epoch 7/50\n",
      "313/313 [==============================] - 338s 1s/step - loss: 3.1015 - accuracy: 0.6111 - val_loss: 4.1140 - val_accuracy: 0.5614\n",
      "\n",
      "Epoch 00007: saving model to .\\cp.ckpt\n",
      "Epoch 8/50\n",
      "313/313 [==============================] - 342s 1s/step - loss: 2.9540 - accuracy: 0.6167 - val_loss: 4.1071 - val_accuracy: 0.5626\n",
      "\n",
      "Epoch 00008: saving model to .\\cp.ckpt\n",
      "Epoch 9/50\n",
      "313/313 [==============================] - 342s 1s/step - loss: 2.8069 - accuracy: 0.6228 - val_loss: 4.1105 - val_accuracy: 0.5643\n",
      "\n",
      "Epoch 00009: saving model to .\\cp.ckpt\n",
      "Epoch 10/50\n",
      "313/313 [==============================] - 346s 1s/step - loss: 2.6638 - accuracy: 0.6283 - val_loss: 4.1176 - val_accuracy: 0.5654\n",
      "\n",
      "Epoch 00010: saving model to .\\cp.ckpt\n",
      "Epoch 11/50\n",
      "313/313 [==============================] - 343s 1s/step - loss: 2.5239 - accuracy: 0.6342 - val_loss: 4.1299 - val_accuracy: 0.5673\n",
      "\n",
      "Epoch 00011: saving model to .\\cp.ckpt\n",
      "Epoch 12/50\n",
      "313/313 [==============================] - 338s 1s/step - loss: 2.3885 - accuracy: 0.6409 - val_loss: 4.1481 - val_accuracy: 0.5670\n",
      "\n",
      "Epoch 00012: saving model to .\\cp.ckpt\n",
      "Epoch 13/50\n",
      "313/313 [==============================] - 348s 1s/step - loss: 2.2566 - accuracy: 0.6512 - val_loss: 4.1615 - val_accuracy: 0.5679\n",
      "\n",
      "Epoch 00013: saving model to .\\cp.ckpt\n",
      "Epoch 14/50\n",
      "313/313 [==============================] - 338s 1s/step - loss: 2.1355 - accuracy: 0.6645 - val_loss: 4.1834 - val_accuracy: 0.5677\n",
      "\n",
      "Epoch 00014: saving model to .\\cp.ckpt\n",
      "Epoch 15/50\n",
      "313/313 [==============================] - 346s 1s/step - loss: 2.0085 - accuracy: 0.6809 - val_loss: 4.2099 - val_accuracy: 0.5684\n",
      "\n",
      "Epoch 00015: saving model to .\\cp.ckpt\n",
      "Epoch 16/50\n",
      "313/313 [==============================] - 349s 1s/step - loss: 1.8872 - accuracy: 0.6974 - val_loss: 4.2367 - val_accuracy: 0.5680\n",
      "\n",
      "Epoch 00016: saving model to .\\cp.ckpt\n",
      "Epoch 17/50\n",
      "313/313 [==============================] - 342s 1s/step - loss: 1.7759 - accuracy: 0.7120 - val_loss: 4.2597 - val_accuracy: 0.5678\n",
      "\n",
      "Epoch 00017: saving model to .\\cp.ckpt\n",
      "Epoch 18/50\n",
      "313/313 [==============================] - 344s 1s/step - loss: 1.6939 - accuracy: 0.7225 - val_loss: 4.2732 - val_accuracy: 0.5674\n",
      "\n",
      "Epoch 00018: saving model to .\\cp.ckpt\n",
      "Epoch 19/50\n",
      "313/313 [==============================] - 351s 1s/step - loss: 1.5948 - accuracy: 0.7354 - val_loss: 4.2967 - val_accuracy: 0.5678\n",
      "\n",
      "Epoch 00019: saving model to .\\cp.ckpt\n",
      "Epoch 20/50\n",
      "313/313 [==============================] - 344s 1s/step - loss: 1.5006 - accuracy: 0.7471 - val_loss: 4.3182 - val_accuracy: 0.5675\n",
      "\n",
      "Epoch 00020: saving model to .\\cp.ckpt\n",
      "Epoch 21/50\n",
      "313/313 [==============================] - 348s 1s/step - loss: 1.4216 - accuracy: 0.7582 - val_loss: 4.3368 - val_accuracy: 0.5673\n",
      "\n",
      "Epoch 00021: saving model to .\\cp.ckpt\n",
      "Epoch 22/50\n",
      "313/313 [==============================] - 343s 1s/step - loss: 1.3523 - accuracy: 0.7674 - val_loss: 4.3576 - val_accuracy: 0.5675\n",
      "\n",
      "Epoch 00022: saving model to .\\cp.ckpt\n",
      "Epoch 23/50\n",
      "313/313 [==============================] - 340s 1s/step - loss: 1.2903 - accuracy: 0.7765 - val_loss: 4.3761 - val_accuracy: 0.5683\n",
      "\n",
      "Epoch 00023: saving model to .\\cp.ckpt\n",
      "Epoch 24/50\n",
      "313/313 [==============================] - 345s 1s/step - loss: 1.2331 - accuracy: 0.7845 - val_loss: 4.3945 - val_accuracy: 0.5668\n",
      "\n",
      "Epoch 00024: saving model to .\\cp.ckpt\n",
      "Epoch 25/50\n",
      "313/313 [==============================] - 344s 1s/step - loss: 1.1807 - accuracy: 0.7925 - val_loss: 4.4172 - val_accuracy: 0.5657\n",
      "\n",
      "Epoch 00025: saving model to .\\cp.ckpt\n",
      "Epoch 26/50\n",
      "313/313 [==============================] - 337s 1s/step - loss: 1.1324 - accuracy: 0.7993 - val_loss: 4.4307 - val_accuracy: 0.5670\n",
      "\n",
      "Epoch 00026: saving model to .\\cp.ckpt\n",
      "Epoch 27/50\n",
      "313/313 [==============================] - 336s 1s/step - loss: 1.0902 - accuracy: 0.8060 - val_loss: 4.4552 - val_accuracy: 0.5660\n",
      "\n",
      "Epoch 00027: saving model to .\\cp.ckpt\n",
      "Epoch 28/50\n",
      "313/313 [==============================] - 336s 1s/step - loss: 1.0482 - accuracy: 0.8122 - val_loss: 4.4700 - val_accuracy: 0.5660\n",
      "\n",
      "Epoch 00028: saving model to .\\cp.ckpt\n",
      "Epoch 29/50\n",
      "313/313 [==============================] - 336s 1s/step - loss: 1.0074 - accuracy: 0.8185 - val_loss: 4.4880 - val_accuracy: 0.5647\n",
      "\n",
      "Epoch 00029: saving model to .\\cp.ckpt\n",
      "Epoch 30/50\n",
      "313/313 [==============================] - 334s 1s/step - loss: 0.9710 - accuracy: 0.8243 - val_loss: 4.5047 - val_accuracy: 0.5663\n",
      "\n",
      "Epoch 00030: saving model to .\\cp.ckpt\n",
      "Epoch 31/50\n",
      "313/313 [==============================] - 335s 1s/step - loss: 0.9364 - accuracy: 0.8292 - val_loss: 4.5262 - val_accuracy: 0.5644\n",
      "\n",
      "Epoch 00031: saving model to .\\cp.ckpt\n",
      "Epoch 32/50\n",
      "313/313 [==============================] - 337s 1s/step - loss: 0.9032 - accuracy: 0.8349 - val_loss: 4.5385 - val_accuracy: 0.5655\n",
      "\n",
      "Epoch 00032: saving model to .\\cp.ckpt\n",
      "Epoch 33/50\n",
      "313/313 [==============================] - 336s 1s/step - loss: 0.8737 - accuracy: 0.8393 - val_loss: 4.5595 - val_accuracy: 0.5649\n",
      "\n",
      "Epoch 00033: saving model to .\\cp.ckpt\n",
      "Epoch 34/50\n",
      "313/313 [==============================] - 336s 1s/step - loss: 0.8460 - accuracy: 0.8439 - val_loss: 4.5751 - val_accuracy: 0.5647\n",
      "\n",
      "Epoch 00034: saving model to .\\cp.ckpt\n",
      "Epoch 35/50\n",
      "313/313 [==============================] - 341s 1s/step - loss: 0.8192 - accuracy: 0.8484 - val_loss: 4.5863 - val_accuracy: 0.5658\n",
      "\n",
      "Epoch 00035: saving model to .\\cp.ckpt\n",
      "Epoch 36/50\n",
      "313/313 [==============================] - 337s 1s/step - loss: 0.7930 - accuracy: 0.8528 - val_loss: 4.6093 - val_accuracy: 0.5649\n",
      "\n",
      "Epoch 00036: saving model to .\\cp.ckpt\n",
      "Epoch 37/50\n",
      "313/313 [==============================] - 335s 1s/step - loss: 0.7689 - accuracy: 0.8565 - val_loss: 4.6153 - val_accuracy: 0.5653\n",
      "\n",
      "Epoch 00037: saving model to .\\cp.ckpt\n",
      "Epoch 38/50\n",
      "313/313 [==============================] - 334s 1s/step - loss: 0.7457 - accuracy: 0.8603 - val_loss: 4.6363 - val_accuracy: 0.5637\n",
      "\n",
      "Epoch 00038: saving model to .\\cp.ckpt\n",
      "Epoch 39/50\n",
      "313/313 [==============================] - 334s 1s/step - loss: 0.7246 - accuracy: 0.8635 - val_loss: 4.6523 - val_accuracy: 0.5644\n",
      "\n",
      "Epoch 00039: saving model to .\\cp.ckpt\n",
      "Epoch 40/50\n",
      "313/313 [==============================] - 334s 1s/step - loss: 0.7038 - accuracy: 0.8675 - val_loss: 4.6623 - val_accuracy: 0.5645\n",
      "\n",
      "Epoch 00040: saving model to .\\cp.ckpt\n",
      "Epoch 41/50\n",
      "313/313 [==============================] - 334s 1s/step - loss: 0.6834 - accuracy: 0.8711 - val_loss: 4.6803 - val_accuracy: 0.5641\n",
      "\n",
      "Epoch 00041: saving model to .\\cp.ckpt\n",
      "Epoch 42/50\n",
      "313/313 [==============================] - 333s 1s/step - loss: 0.6650 - accuracy: 0.8738 - val_loss: 4.6922 - val_accuracy: 0.5640\n",
      "\n",
      "Epoch 00042: saving model to .\\cp.ckpt\n",
      "Epoch 43/50\n",
      "313/313 [==============================] - 329s 1s/step - loss: 0.6466 - accuracy: 0.8772 - val_loss: 4.7096 - val_accuracy: 0.5639\n",
      "\n",
      "Epoch 00043: saving model to .\\cp.ckpt\n",
      "Epoch 44/50\n",
      "313/313 [==============================] - 333s 1s/step - loss: 0.6301 - accuracy: 0.8794 - val_loss: 4.7207 - val_accuracy: 0.5637\n",
      "\n",
      "Epoch 00044: saving model to .\\cp.ckpt\n",
      "Epoch 45/50\n",
      "313/313 [==============================] - 334s 1s/step - loss: 0.6136 - accuracy: 0.8827 - val_loss: 4.7341 - val_accuracy: 0.5638\n"
     ]
    },
    {
     "name": "stdout",
     "output_type": "stream",
     "text": [
      "\n",
      "Epoch 00045: saving model to .\\cp.ckpt\n",
      "Epoch 46/50\n",
      "313/313 [==============================] - 333s 1s/step - loss: 0.5986 - accuracy: 0.8850 - val_loss: 4.7453 - val_accuracy: 0.5640\n",
      "\n",
      "Epoch 00046: saving model to .\\cp.ckpt\n",
      "Epoch 47/50\n",
      "313/313 [==============================] - 334s 1s/step - loss: 0.5816 - accuracy: 0.8881 - val_loss: 4.7674 - val_accuracy: 0.5633\n",
      "\n",
      "Epoch 00047: saving model to .\\cp.ckpt\n",
      "Epoch 48/50\n",
      "313/313 [==============================] - 334s 1s/step - loss: 0.5671 - accuracy: 0.8906 - val_loss: 4.7777 - val_accuracy: 0.5632\n",
      "\n",
      "Epoch 00048: saving model to .\\cp.ckpt\n",
      "Epoch 49/50\n",
      "313/313 [==============================] - 333s 1s/step - loss: 0.5531 - accuracy: 0.8929 - val_loss: 4.7917 - val_accuracy: 0.5628\n",
      "\n",
      "Epoch 00049: saving model to .\\cp.ckpt\n",
      "Epoch 50/50\n",
      "313/313 [==============================] - 334s 1s/step - loss: 0.5411 - accuracy: 0.8955 - val_loss: 4.8051 - val_accuracy: 0.5634\n",
      "\n",
      "Epoch 00050: saving model to .\\cp.ckpt\n"
     ]
    }
   ],
   "source": [
    "# history = model.fit([padded_x_train, padded_x_train_sum[:,:-1]], padded_x_train_sum.reshape(padded_x_train_sum.shape[0],padded_x_train_sum.shape[1], 1)[:,1:],\n",
    "#                     epochs=50,\n",
    "#                     validation_data=([padded_x_test, padded_x_test_sum[:,:-1]], padded_x_test_sum.reshape(padded_x_test_sum.shape[0], padded_x_test_sum.shape[1], 1)[:,1:]),\n",
    "#                     batch_size=16, callbacks=[cp_callback])"
   ]
  },
  {
   "cell_type": "code",
   "execution_count": 56,
   "id": "fb1e01b2",
   "metadata": {},
   "outputs": [
    {
     "data": {
      "text/plain": [
       "<tensorflow.python.training.tracking.util.CheckpointLoadStatus at 0x1e8c7df1948>"
      ]
     },
     "execution_count": 56,
     "metadata": {},
     "output_type": "execute_result"
    }
   ],
   "source": [
    "model.load_weights(checkpoint_path)"
   ]
  },
  {
   "cell_type": "code",
   "execution_count": 57,
   "id": "149cbdb0",
   "metadata": {},
   "outputs": [],
   "source": [
    "# Encode the input sequence to get the feature vector\n",
    "encoder_model = Model(inputs=encoder_inputs,outputs=[encoder_outputs, state_h, state_c])\n",
    "\n",
    "# Decoder setup\n",
    "# Below tensors will hold the states of the previous time step\n",
    "decoder_state_input_h = Input(shape=(latent_dim,))\n",
    "decoder_state_input_c = Input(shape=(latent_dim,))\n",
    "decoder_hidden_state_input = Input(shape=(max_len_text, latent_dim))\n",
    "\n",
    "# Get the embeddings of the decoder sequence\n",
    "dec_emb2= dec_emb_layer(decoder_inputs) \n",
    "# To predict the next word in the sequence, set the initial states to the states from the previous time step\n",
    "decoder_outputs2, state_h2, state_c2 = decoder_lstm(dec_emb2, initial_state=[decoder_state_input_h, decoder_state_input_c])\n",
    "\n",
    "# A dense softmax layer to generate prob dist. over the target vocabulary\n",
    "decoder_outputs2 = decoder_dense(decoder_outputs2) \n",
    "\n",
    "# Final decoder model\n",
    "decoder_model = Model(\n",
    "    [decoder_inputs] + [decoder_hidden_state_input, decoder_state_input_h, decoder_state_input_c],\n",
    "    [decoder_outputs2] + [state_h2, state_c2])"
   ]
  },
  {
   "cell_type": "code",
   "execution_count": 58,
   "id": "b06f39b9",
   "metadata": {},
   "outputs": [],
   "source": [
    "def decode_sequence(input_seq):\n",
    "    # Encode the input as state vectors.\n",
    "    e_out, e_h, e_c = encoder_model.predict(input_seq)\n",
    "    \n",
    "    # Generate empty target sequence of length 1.\n",
    "    target_seq = np.zeros((1,1))\n",
    "    \n",
    "    # Populate the first word of target sequence with the start word.\n",
    "    target_seq[0, 0] = sum_wordindex['bos']\n",
    "\n",
    "    stop_condition = False\n",
    "    decoded_sentence = ''\n",
    "    while not stop_condition:\n",
    "      \n",
    "        output_tokens, h, c = decoder_model.predict([target_seq] + [e_out, e_h, e_c])\n",
    "\n",
    "        # Sample a token\n",
    "        sampled_token_index = np.argmax(output_tokens[0, -1, :])\n",
    "        sampled_token = reverse_sum_index[sampled_token_index]\n",
    "        \n",
    "        if(sampled_token!='eos'):\n",
    "            decoded_sentence += ' '+sampled_token\n",
    "\n",
    "        # Exit condition: either hit max length or find stop word.\n",
    "        if (sampled_token == 'eos'  or len(decoded_sentence.split()) >= (max_len_sum - 1)):\n",
    "            stop_condition = True\n",
    "\n",
    "        # Update the target sequence (of length 1).\n",
    "        target_seq = np.zeros((1,1))\n",
    "        target_seq[0, 0] = sampled_token_index\n",
    "\n",
    "        # Update internal states\n",
    "        e_h, e_c = h, c\n",
    "\n",
    "    return decoded_sentence"
   ]
  },
  {
   "cell_type": "code",
   "execution_count": 59,
   "id": "5f701f16",
   "metadata": {},
   "outputs": [],
   "source": [
    "def seq2summary(input_seq):\n",
    "    newString=''\n",
    "    for i in input_seq:\n",
    "        if((i!=0 and i!=sum_wordindex['bos']) and i!=sum_wordindex['eos']):\n",
    "            newString=newString+reverse_sum_index[i]+' '\n",
    "    return newString\n",
    "\n",
    "def seq2text(input_seq):\n",
    "    newString=''\n",
    "    for i in input_seq:\n",
    "        if(i!=0):\n",
    "            newString=newString+reverse_text_index[i]+' '\n",
    "    return newString"
   ]
  },
  {
   "cell_type": "code",
   "execution_count": 60,
   "id": "685a2f0a",
   "metadata": {},
   "outputs": [
    {
     "name": "stdout",
     "output_type": "stream",
     "text": [
      "Original summary: в nasa назвали четыре миссии в дальний космос которые в этом UNK могут быть запущены американцами среди них — две миссии по UNK UNK полет к UNK UNK и UNK к UNK UNK UNK \n",
      "Predicted summary:  в москве в среду состоялся товарищеский матч «шведских игр» в санкт петербурге между тем самым проблемы с мячом красногорцы большую часть и вид военнослужащим региона и пекин\n",
      "Original summary: 25 и 26 февраля в кремлевском дворце съездов праздновали UNK — восточный новый год UNK центр российского UNK и один из UNK регионов страны где новый год UNK официально дважды \n",
      "Predicted summary:  в москве в среду состоялся товарищеский матч «шведских игр» в санкт петербурге между тем самым проблемы с мячом красногорцы большую часть и вид военнослужащим региона и пекин\n",
      "Original summary: в белоруссии в день годовщины октябрьской революции выбрали членов верхней палаты парламента сегодняшнее голосование — UNK основной части UNK процесса через десять дней в республике пройдут выборы в палату представителей которые станут UNK для александра лукашенко ведь за ними будут внимательно следить на западе \n",
      "Predicted summary:  в москве в среду состоялся товарищеский матч «шведских игр» в санкт петербурге между тем самым проблемы с мячом красногорцы большую часть и вид военнослужащим региона и пекин\n"
     ]
    }
   ],
   "source": [
    "for i in range(0, 3):\n",
    "    print(\"Original summary:\",seq2summary(padded_x_test_sum[i]))\n",
    "    print(\"Predicted summary:\",decode_sequence(padded_x_test[i].reshape(1, max_len_text)))"
   ]
  },
  {
   "cell_type": "markdown",
   "id": "e27b5a3e",
   "metadata": {},
   "source": [
    "Предикт выглядит достаточно адекватным, но одинаков для разных текстов"
   ]
  },
  {
   "cell_type": "code",
   "execution_count": 61,
   "id": "48308b1a",
   "metadata": {},
   "outputs": [],
   "source": [
    "def calc_rnn_score(padded_x, padded_x_sum, max_len_text = 1000):\n",
    "    references = []\n",
    "    predictions = []\n",
    "\n",
    "    for i, rec in tqdm(enumerate(zip(padded_x, padded_x_sum))):\n",
    "        summary = seq2summary(rec[1])\n",
    "        references.append(summary)\n",
    "\n",
    "        text = seq2text(rec[0])\n",
    "        predicted_summary = decode_sequence(rec[0].reshape(1, max_len_text))\n",
    "        predictions.append(predicted_summary)\n",
    "\n",
    "    return calc_scores(references, predictions)"
   ]
  },
  {
   "cell_type": "code",
   "execution_count": 62,
   "id": "39fcb430",
   "metadata": {},
   "outputs": [
    {
     "data": {
      "application/vnd.jupyter.widget-view+json": {
       "model_id": "a8ad0fd7c2654915b841e279aa4965f6",
       "version_major": 2,
       "version_minor": 0
      },
      "text/plain": [
       "0it [00:00, ?it/s]"
      ]
     },
     "metadata": {},
     "output_type": "display_data"
    },
    {
     "name": "stdout",
     "output_type": "stream",
     "text": [
      "Count: 500\n",
      "Ref: в россии могут ужесточить наказание за оскорбления которые UNK честь или UNK граждан соответствующее поручение генпрокуратуре UNK и UNK суду дал президент рф владимир путин UNK необходимо UNK уголовные дела UNK по факту оскорблений в интернете и предложить варианты как можно усилить ответственность за данное UNK предоставить отчет о UNK работе чиновники должны 1 июля 2020 года \n",
      "Hyp:  в москве судят обвиняемых в связи с последствиями наводнения в школах ставрополья станет увольнять из числа окружных условия собственную собственности ее жизнь и это необходимо к переговорам а приштина и вовсе настаивает на подключении к ним она отказалась от налогов до февраля\n",
      "BLEU:  0.16368421950934656\n",
      "ROUGE:  {'rouge-1': {'f': 0.08346076997691883, 'p': 0.0952306161997238, 'r': 0.07802339777188758}, 'rouge-2': {'f': 0.0014309253763153786, 'p': 0.001863335637404957, 'r': 0.0012263863245157438}, 'rouge-l': {'f': 0.05909192877598927, 'p': 0.07135466015214312, 'r': 0.05841562168577398}}\n"
     ]
    },
    {
     "data": {
      "text/plain": [
       "(0.16368421950934656,\n",
       " {'rouge-1': {'f': 0.08346076997691883,\n",
       "   'p': 0.0952306161997238,\n",
       "   'r': 0.07802339777188758},\n",
       "  'rouge-2': {'f': 0.0014309253763153786,\n",
       "   'p': 0.001863335637404957,\n",
       "   'r': 0.0012263863245157438},\n",
       "  'rouge-l': {'f': 0.05909192877598927,\n",
       "   'p': 0.07135466015214312,\n",
       "   'r': 0.05841562168577398}})"
      ]
     },
     "execution_count": 62,
     "metadata": {},
     "output_type": "execute_result"
    }
   ],
   "source": [
    "calc_rnn_score(padded_x_test, padded_x_test_sum)"
   ]
  },
  {
   "cell_type": "code",
   "execution_count": 63,
   "id": "fe683c14",
   "metadata": {},
   "outputs": [
    {
     "data": {
      "application/vnd.jupyter.widget-view+json": {
       "model_id": "07e94c3b374541db9695f0a4064d7d89",
       "version_major": 2,
       "version_minor": 0
      },
      "text/plain": [
       "0it [00:00, ?it/s]"
      ]
     },
     "metadata": {},
     "output_type": "display_data"
    },
    {
     "name": "stdout",
     "output_type": "stream",
     "text": [
      "Count: 500\n",
      "Ref: в россии могут ужесточить наказание за оскорбления которые UNK честь или UNK граждан соответствующее поручение генпрокуратуре UNK и UNK суду дал президент рф владимир путин UNK необходимо UNK уголовные дела UNK по факту оскорблений в интернете и предложить варианты как можно усилить ответственность за данное UNK предоставить отчет о UNK работе чиновники должны 1 июля 2020 года \n",
      "Hyp:  в москве судят обвиняемых в связи с последствиями наводнения в школах ставрополья станет увольнять из числа окружных условия собственную собственности ее жизнь и это необходимо к переговорам а приштина и вовсе настаивает на подключении к ним она отказалась от налогов до февраля\n",
      "BLEU:  0.16368421950934656\n",
      "ROUGE:  {'rouge-1': {'f': 0.08346076997691883, 'p': 0.0952306161997238, 'r': 0.07802339777188758}, 'rouge-2': {'f': 0.0014309253763153786, 'p': 0.001863335637404957, 'r': 0.0012263863245157438}, 'rouge-l': {'f': 0.05909192877598927, 'p': 0.07135466015214312, 'r': 0.05841562168577398}}\n"
     ]
    },
    {
     "data": {
      "text/plain": [
       "{'lead-1': (0.19177311186434495, 0.23804097238957525),\n",
       " 'textrank': (0.23481140598760156, 0.1709577523245075),\n",
       " 'lextrank': (0.3585872220880093, 0.1866598392888999),\n",
       " 'lsa': (0.2886703084253367, 0.1423559861468858),\n",
       " 'summa': (0.17989347848877807, 0.16610940781957212),\n",
       " 'oracle_sum': (0.531336150784986, 0.36951810858804146),\n",
       " 'rnn': (0.16368421950934656, 0.08346076997691883)}"
      ]
     },
     "execution_count": 63,
     "metadata": {},
     "output_type": "execute_result"
    }
   ],
   "source": [
    "rs = calc_rnn_score(padded_x_test, padded_x_test_sum)\n",
    "res['rnn'] = rs[0], rs[1]['rouge-1']['f']\n",
    "res"
   ]
  },
  {
   "cell_type": "code",
   "execution_count": 64,
   "id": "30f12aaf",
   "metadata": {},
   "outputs": [
    {
     "data": {
      "text/html": [
       "<div>\n",
       "<style scoped>\n",
       "    .dataframe tbody tr th:only-of-type {\n",
       "        vertical-align: middle;\n",
       "    }\n",
       "\n",
       "    .dataframe tbody tr th {\n",
       "        vertical-align: top;\n",
       "    }\n",
       "\n",
       "    .dataframe thead th {\n",
       "        text-align: right;\n",
       "    }\n",
       "</style>\n",
       "<table border=\"1\" class=\"dataframe\">\n",
       "  <thead>\n",
       "    <tr style=\"text-align: right;\">\n",
       "      <th></th>\n",
       "      <th>BLEU</th>\n",
       "      <th>ROUGE-1</th>\n",
       "    </tr>\n",
       "  </thead>\n",
       "  <tbody>\n",
       "    <tr>\n",
       "      <th>oracle_sum</th>\n",
       "      <td>0.531336</td>\n",
       "      <td>0.369518</td>\n",
       "    </tr>\n",
       "    <tr>\n",
       "      <th>lead-1</th>\n",
       "      <td>0.191773</td>\n",
       "      <td>0.238041</td>\n",
       "    </tr>\n",
       "    <tr>\n",
       "      <th>lextrank</th>\n",
       "      <td>0.358587</td>\n",
       "      <td>0.186660</td>\n",
       "    </tr>\n",
       "    <tr>\n",
       "      <th>textrank</th>\n",
       "      <td>0.234811</td>\n",
       "      <td>0.170958</td>\n",
       "    </tr>\n",
       "    <tr>\n",
       "      <th>summa</th>\n",
       "      <td>0.179893</td>\n",
       "      <td>0.166109</td>\n",
       "    </tr>\n",
       "    <tr>\n",
       "      <th>lsa</th>\n",
       "      <td>0.288670</td>\n",
       "      <td>0.142356</td>\n",
       "    </tr>\n",
       "    <tr>\n",
       "      <th>rnn</th>\n",
       "      <td>0.163684</td>\n",
       "      <td>0.083461</td>\n",
       "    </tr>\n",
       "  </tbody>\n",
       "</table>\n",
       "</div>"
      ],
      "text/plain": [
       "                BLEU   ROUGE-1\n",
       "oracle_sum  0.531336  0.369518\n",
       "lead-1      0.191773  0.238041\n",
       "lextrank    0.358587  0.186660\n",
       "textrank    0.234811  0.170958\n",
       "summa       0.179893  0.166109\n",
       "lsa         0.288670  0.142356\n",
       "rnn         0.163684  0.083461"
      ]
     },
     "execution_count": 64,
     "metadata": {},
     "output_type": "execute_result"
    }
   ],
   "source": [
    "pd.DataFrame.from_dict(res, orient='index', columns = ['BLEU', 'ROUGE-1']).sort_values(by = 'ROUGE-1', ascending = False)"
   ]
  },
  {
   "cell_type": "markdown",
   "id": "30af63ea",
   "metadata": {},
   "source": [
    "RNN на данный момент имеет самые низкие метрики и немного бессвязные саммари. Лидером по метрикам оказался метод oracle summary. Интересно, что в некоторых методах (textrank, LSA) увеличение длины саммари просаживает метрику bleu, не сильно увеличивая rouge-1, но текст саммари по смыслу становится более близким к оригинальному тексту"
   ]
  },
  {
   "cell_type": "code",
   "execution_count": null,
   "id": "2615c0ce",
   "metadata": {},
   "outputs": [],
   "source": []
  }
 ],
 "metadata": {
  "kernelspec": {
   "display_name": "Python 3",
   "language": "python",
   "name": "python3"
  },
  "language_info": {
   "codemirror_mode": {
    "name": "ipython",
    "version": 3
   },
   "file_extension": ".py",
   "mimetype": "text/x-python",
   "name": "python",
   "nbconvert_exporter": "python",
   "pygments_lexer": "ipython3",
   "version": "3.7.9"
  }
 },
 "nbformat": 4,
 "nbformat_minor": 5
}
