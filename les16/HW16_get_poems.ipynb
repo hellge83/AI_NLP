{
 "cells": [
  {
   "cell_type": "code",
   "execution_count": 1,
   "id": "2bf800d9",
   "metadata": {},
   "outputs": [
    {
     "name": "stderr",
     "output_type": "stream",
     "text": [
      "C:\\Users\\snetkova\\Anaconda3\\lib\\site-packages\\numpy\\_distributor_init.py:32: UserWarning: loaded more than 1 DLL from .libs:\n",
      "C:\\Users\\snetkova\\Anaconda3\\lib\\site-packages\\numpy\\.libs\\libopenblas.PYQHXLVVQ7VESDPUVUADXEVJOBGHJPAY.gfortran-win_amd64.dll\n",
      "C:\\Users\\snetkova\\Anaconda3\\lib\\site-packages\\numpy\\.libs\\libopenblas.WCDJNK7YVMPZQ2ME2ZZHJJRJ3JIKNDB7.gfortran-win_amd64.dll\n",
      "  stacklevel=1)\n"
     ]
    }
   ],
   "source": [
    "from bs4 import BeautifulSoup as bs\n",
    "import requests\n",
    "# import json\n",
    "import pandas as pd\n",
    "import numpy as np\n",
    "import re"
   ]
  },
  {
   "cell_type": "code",
   "execution_count": 2,
   "id": "8b52ab94",
   "metadata": {},
   "outputs": [],
   "source": [
    "def request(page):\n",
    "    headers = {'User-agent': 'Mozilla/5.0 (Windows NT 10.0; Win64; x64) AppleWebKit/537.36 (KHTML, like Gecko) Chrome/84.0.4147.89 Safari/537.36'}\n",
    "    url = 'https://poetory.ru/pir/rating/'+str(page)\n",
    "    params = {\n",
    "    }\n",
    "    response = requests.get(url, headers = headers, params = params)\n",
    "    return response"
   ]
  },
  {
   "cell_type": "code",
   "execution_count": 3,
   "id": "d67d5db3",
   "metadata": {},
   "outputs": [],
   "source": [
    "# request(3).text"
   ]
  },
  {
   "cell_type": "code",
   "execution_count": 4,
   "id": "13a797b8",
   "metadata": {},
   "outputs": [],
   "source": [
    "def ptr_page_vac(page):\n",
    "    ptr_pir = []\n",
    "    ptr_response = request(page)\n",
    "    ptr_soup = bs(ptr_response.text, 'lxml')\n",
    "    ptr_poems = ptr_soup.find_all('div', {'class': 'col-xs-12 col-sm-6 col-md-6 col-lg-4', })\n",
    "\n",
    "    for poem in ptr_poems:\n",
    "        txt = poem.find('div', {'class': 'item-text'}).getText()\n",
    "        txt = re.sub(r\"\\r\\n\\t|\\n|\\\\s|\\r\\t|\\\\n\", ' ', txt)\n",
    "        ptr_pir.append(txt)\n",
    "        \n",
    "    return(ptr_pir)"
   ]
  },
  {
   "cell_type": "code",
   "execution_count": 5,
   "id": "678861a9",
   "metadata": {},
   "outputs": [],
   "source": [
    "ptr_main_response = request(0)\n",
    "ptr_page = bs(ptr_main_response.text, 'lxml')"
   ]
  },
  {
   "cell_type": "code",
   "execution_count": 6,
   "id": "02a67c5d",
   "metadata": {},
   "outputs": [
    {
     "data": {
      "text/plain": [
       "['а где тут руль спросил гагарин деревня буркнул королёв ещё спроси а где тут вожжи ещё поехали скажи',\n",
       " 'вот позитивный анатолий был послан нахуй но сумел вернуться бодрым отдохнувшим и два магнитика привез',\n",
       " 'перед оксаной в тёмном парке олег распахивает плащ под ним второй а дальше третий оксана терпеливо ждёт',\n",
       " 'а любишь ролевые игры тебе кого изобразить изобрази мне человека который только что ушел',\n",
       " 'сперва жена моя сбежала потом собака и коты сейчас смотрю как трудно рыбкам аквариум толкать к дверям',\n",
       " 'а кто не смыл говно ребята негромко произнес олег и сразу стало всем понятно волшебный вечер не вернуть',\n",
       " 'любимый взял меня за локоть подвёл к окну и показал всё то чего я не увижу вовеки если не заткнусь',\n",
       " 'на покосившемся заборе семен напишет слово жук и детям почитать не стыдно и взрослым пища для ума',\n",
       " 'сегодня ольгой овладели сперва тоска потом олег потом опять олег еще раз и окончательно тоска',\n",
       " 'давайте будем веселиться берём топор садимся в круг игра простая как в бутылку но называется топор',\n",
       " 'аркадий пишет напоследок что никого мол не винит но вдруг зачеркивает строчку и пишет пишет имена',\n",
       " 'илья старается скорее уравновесить зло добром увидел парни бьют мальчишку красиво рядом станцевал',\n",
       " 'ужели мама ты не видишь какая в окнах чернота прошу тебя не надо в садик сквозь этот космос ледяной',\n",
       " 'шесть полушарий у оксаны четыре привлекать самцов два управляют остальными максимизируя поток',\n",
       " 'искусствоведов группа тихо восторженно глядит на холст и вдруг один седой и строгий отчетливо сказал говно',\n",
       " 'на случай если марсиане нас изучают в телескоп я написал на крыше жопа как предостережение',\n",
       " 'лопатки рудименты крыльев и мне их сводит каждый раз когда в просветы меж домами и тучами вдруг синева',\n",
       " 'я с отвращеньем хлопнул дверью но понял вдруг что перегнул открыл опять и снова хлопнул без отвращения уже',\n",
       " 'ну хочешь я убью соседей и ты сказала а хочу а я к такому повороту признаюсь честно не готов',\n",
       " 'еще не чувствуя потери и проверяя языком дошел как идиот в бахилах почти до самого метро',\n",
       " 'перезвони перезвони мне шептал всю ночь я в телефон который ложкой нацарапан в моей палате на стене',\n",
       " 'надел олег один ботинок глядит еще один стоит когда же это прекратится да где же этому конец',\n",
       " 'в моей душе скребутся кошки наверно там у них лоток наверно он уже заполнен и скоро надо выносить',\n",
       " 'всего главнее продержаться до середины февраля а там практически бессмертны все кто до этого не сдох',\n",
       " 'добро должно быть с кулаками и я теперь по кулакам определяю кто добрее и жмусь доверчиво к тому',\n",
       " 'когда я стал половозрелый то женщин сразу поделил на тех которых недостоин и тех которых не хочу',\n",
       " 'давайте выебем вадима донесся голос из толпы кого переспросили люди вадима повторил вадим',\n",
       " 'мне мама в детстве говорила учи уроки зубы чисть уроки кончились и зубы подходят медленно к концу',\n",
       " 'перед экзаменом по сексу олег потеет и дрожит а надо было заниматься злорадно шепчет зульфия',\n",
       " 'в пустую старую квартиру письмо приносит почтальон дед забери меня с продленки и увези меня к себе']"
      ]
     },
     "execution_count": 6,
     "metadata": {},
     "output_type": "execute_result"
    }
   ],
   "source": [
    "ptr_page_vac(1)"
   ]
  },
  {
   "cell_type": "code",
   "execution_count": 7,
   "id": "a1a02af2",
   "metadata": {},
   "outputs": [
    {
     "data": {
      "text/plain": [
       "30"
      ]
     },
     "execution_count": 7,
     "metadata": {},
     "output_type": "execute_result"
    }
   ],
   "source": [
    "len(ptr_page_vac(1))"
   ]
  },
  {
   "cell_type": "code",
   "execution_count": 8,
   "id": "362b3bcd",
   "metadata": {},
   "outputs": [],
   "source": [
    "# 3 poems x 1615 pages\n",
    "ptr_final = []\n",
    "for i in range(300): # 300 x 30 = 9000 poems\n",
    "    ptr_final += ptr_page_vac(i)"
   ]
  },
  {
   "cell_type": "code",
   "execution_count": 9,
   "id": "db49bf29",
   "metadata": {},
   "outputs": [
    {
     "data": {
      "text/plain": [
       "['а где тут руль спросил гагарин деревня буркнул королёв ещё спроси а где тут вожжи ещё поехали скажи',\n",
       " 'вот позитивный анатолий был послан нахуй но сумел вернуться бодрым отдохнувшим и два магнитика привез',\n",
       " 'перед оксаной в тёмном парке олег распахивает плащ под ним второй а дальше третий оксана терпеливо ждёт',\n",
       " 'а любишь ролевые игры тебе кого изобразить изобрази мне человека который только что ушел',\n",
       " 'сперва жена моя сбежала потом собака и коты сейчас смотрю как трудно рыбкам аквариум толкать к дверям',\n",
       " 'а кто не смыл говно ребята негромко произнес олег и сразу стало всем понятно волшебный вечер не вернуть',\n",
       " 'любимый взял меня за локоть подвёл к окну и показал всё то чего я не увижу вовеки если не заткнусь',\n",
       " 'на покосившемся заборе семен напишет слово жук и детям почитать не стыдно и взрослым пища для ума',\n",
       " 'сегодня ольгой овладели сперва тоска потом олег потом опять олег еще раз и окончательно тоска',\n",
       " 'давайте будем веселиться берём топор садимся в круг игра простая как в бутылку но называется топор']"
      ]
     },
     "execution_count": 9,
     "metadata": {},
     "output_type": "execute_result"
    }
   ],
   "source": [
    "ptr_final[:10]"
   ]
  },
  {
   "cell_type": "code",
   "execution_count": 13,
   "id": "db68b855",
   "metadata": {},
   "outputs": [],
   "source": [
    "with open('poems.txt', 'w', encoding=\"utf-8\") as f:\n",
    "    f.write(\"\\n\".join(ptr_final))"
   ]
  },
  {
   "cell_type": "code",
   "execution_count": null,
   "id": "567712e4",
   "metadata": {},
   "outputs": [],
   "source": []
  }
 ],
 "metadata": {
  "kernelspec": {
   "display_name": "Python 3",
   "language": "python",
   "name": "python3"
  },
  "language_info": {
   "codemirror_mode": {
    "name": "ipython",
    "version": 3
   },
   "file_extension": ".py",
   "mimetype": "text/x-python",
   "name": "python",
   "nbconvert_exporter": "python",
   "pygments_lexer": "ipython3",
   "version": "3.7.9"
  }
 },
 "nbformat": 4,
 "nbformat_minor": 5
}
