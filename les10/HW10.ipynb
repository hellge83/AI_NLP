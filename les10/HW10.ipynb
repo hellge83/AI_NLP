{
 "cells": [
  {
   "cell_type": "code",
   "execution_count": 1,
   "id": "62d070f3",
   "metadata": {},
   "outputs": [
    {
     "name": "stderr",
     "output_type": "stream",
     "text": [
      "C:\\Users\\snetkova\\Anaconda3\\lib\\site-packages\\numpy\\_distributor_init.py:32: UserWarning: loaded more than 1 DLL from .libs:\n",
      "C:\\Users\\snetkova\\Anaconda3\\lib\\site-packages\\numpy\\.libs\\libopenblas.PYQHXLVVQ7VESDPUVUADXEVJOBGHJPAY.gfortran-win_amd64.dll\n",
      "C:\\Users\\snetkova\\Anaconda3\\lib\\site-packages\\numpy\\.libs\\libopenblas.WCDJNK7YVMPZQ2ME2ZZHJJRJ3JIKNDB7.gfortran-win_amd64.dll\n",
      "  stacklevel=1)\n"
     ]
    }
   ],
   "source": [
    "import pandas as pd\n",
    "from sklearn.feature_extraction.text import CountVectorizer, TfidfVectorizer, HashingVectorizer\n",
    "from sklearn import model_selection, preprocessing, linear_model\n",
    "from sklearn.metrics import accuracy_score, classification_report\n",
    "from sklearn.model_selection import train_test_split\n",
    "import matplotlib.pyplot as plt\n",
    "%matplotlib inline\n",
    "\n",
    "import os\n",
    "os.environ['KMP_DUPLICATE_LIB_OK']='True'\n",
    "\n",
    "\n",
    "import numpy as np\n",
    "import re\n",
    "import io\n",
    "import time"
   ]
  },
  {
   "cell_type": "code",
   "execution_count": 2,
   "id": "22e43372",
   "metadata": {},
   "outputs": [],
   "source": [
    "import tensorflow as tf\n",
    "gpus = tf.config.list_physical_devices('GPU')\n",
    "gpu = gpus[0]\n",
    "tf.config.experimental.set_memory_growth(gpu, True)\n",
    "\n",
    "from tensorflow.keras.preprocessing.sequence import pad_sequences\n",
    "from tensorflow.keras.utils import to_categorical\n",
    "from tensorflow.keras.preprocessing.text import Tokenizer\n",
    "from tensorflow.keras.callbacks import EarlyStopping \n",
    "\n",
    "from tensorflow.keras import Sequential, Model\n",
    "from tensorflow.keras.layers import Dense, Dropout, Activation, Input, Embedding, Conv1D, GlobalMaxPool1D, MaxPooling1D, SimpleRNN, LSTM, GRU"
   ]
  },
  {
   "cell_type": "code",
   "execution_count": 3,
   "id": "3fabe416",
   "metadata": {},
   "outputs": [],
   "source": [
    "import zipfile\n",
    "with zipfile.ZipFile('D:/GeekBrains/nlp/les10/rus-eng.zip', 'r') as zip_ref:\n",
    "    zip_ref.extractall('')"
   ]
  },
  {
   "cell_type": "code",
   "execution_count": 4,
   "id": "92e3863f",
   "metadata": {},
   "outputs": [],
   "source": [
    "path_to_file = \"rus.txt\""
   ]
  },
  {
   "cell_type": "markdown",
   "id": "e8bf4d91",
   "metadata": {},
   "source": [
    "#### preprocess data"
   ]
  },
  {
   "cell_type": "code",
   "execution_count": 5,
   "id": "29c06195",
   "metadata": {},
   "outputs": [],
   "source": [
    "def preprocess_sentence(w):\n",
    "    w = w.lower().strip()\n",
    "\n",
    "    # creating a space between a word and the punctuation following it\n",
    "    # eg: \"he is a boy.\" => \"he is a boy .\"\n",
    "    # Reference:- https://stackoverflow.com/questions/3645931/python-padding-punctuation-with-white-spaces-keeping-punctuation\n",
    "    w = re.sub(r\"([?.!,])\", r\" \\1 \", w)\n",
    "    w = re.sub(r'[\" \"]+', \" \", w) #collapse whitespaces\n",
    "\n",
    "    # replacing everything with space except (a-z, A-Z, \".\", \"?\", \"!\", \",\")\n",
    "    w = re.sub(r\"[^a-zA-Zа-яА-Я?.!,']+\", \" \", w)\n",
    "\n",
    "    w = w.strip() #Remove spaces at the beginning and at the end of the string\n",
    "\n",
    "    # adding a start and an end token to the sentence\n",
    "    # so that the model know when to start and stop predicting.\n",
    "    w = '<start> ' + w + ' <end>'\n",
    "    return w"
   ]
  },
  {
   "cell_type": "code",
   "execution_count": 6,
   "id": "73a6ccfb",
   "metadata": {},
   "outputs": [
    {
     "data": {
      "text/plain": [
       "\"<start> i can't go . <end>\""
      ]
     },
     "execution_count": 6,
     "metadata": {},
     "output_type": "execute_result"
    }
   ],
   "source": [
    "preprocess_sentence(\"I can't go.\")"
   ]
  },
  {
   "cell_type": "markdown",
   "id": "dc0c0cc7",
   "metadata": {},
   "source": [
    "#### create dataset"
   ]
  },
  {
   "cell_type": "code",
   "execution_count": 7,
   "id": "539b9928",
   "metadata": {},
   "outputs": [],
   "source": [
    "# 1. Remove the accents\n",
    "# 2. Clean the sentences\n",
    "# 3. Return word pairs in the format: [ENG, RUS]\n",
    "def create_dataset(path, num_examples):\n",
    "    lines = io.open(path, encoding='UTF-8').read().strip().split('\\n')\n",
    "\n",
    "    word_pairs = [[preprocess_sentence(w) for w in l.split('\\t')[:2]]  for l in lines[:num_examples]]\n",
    "\n",
    "    return zip(*word_pairs)"
   ]
  },
  {
   "cell_type": "code",
   "execution_count": 8,
   "id": "8f6804fb",
   "metadata": {},
   "outputs": [
    {
     "name": "stdout",
     "output_type": "stream",
     "text": [
      "<start> go . <end>\n",
      "<start> марш ! <end>\n"
     ]
    }
   ],
   "source": [
    "en, ru = create_dataset(path_to_file, None)\n",
    "print(en[0])\n",
    "print(ru[0])"
   ]
  },
  {
   "cell_type": "code",
   "execution_count": 9,
   "id": "a6c78ce0",
   "metadata": {},
   "outputs": [
    {
     "data": {
      "text/plain": [
       "('<start> go . <end>',\n",
       " '<start> go . <end>',\n",
       " '<start> go . <end>',\n",
       " '<start> hi . <end>')"
      ]
     },
     "execution_count": 9,
     "metadata": {},
     "output_type": "execute_result"
    }
   ],
   "source": [
    "en[:4]"
   ]
  },
  {
   "cell_type": "code",
   "execution_count": 10,
   "id": "a59e5e4a",
   "metadata": {},
   "outputs": [
    {
     "data": {
      "text/plain": [
       "(431097, 431097)"
      ]
     },
     "execution_count": 10,
     "metadata": {},
     "output_type": "execute_result"
    }
   ],
   "source": [
    "len(en), len(ru)"
   ]
  },
  {
   "cell_type": "code",
   "execution_count": 11,
   "id": "c08020d0",
   "metadata": {},
   "outputs": [],
   "source": [
    "def tokenize(lang):\n",
    "    lang_tokenizer = tf.keras.preprocessing.text.Tokenizer(filters='')\n",
    "    lang_tokenizer.fit_on_texts(lang)\n",
    "\n",
    "    tensor = lang_tokenizer.texts_to_sequences(lang)\n",
    "\n",
    "    tensor = tf.keras.preprocessing.sequence.pad_sequences(tensor, padding='post')\n",
    "\n",
    "    return tensor, lang_tokenizer"
   ]
  },
  {
   "cell_type": "code",
   "execution_count": 12,
   "id": "12aff1a7",
   "metadata": {},
   "outputs": [
    {
     "data": {
      "text/plain": [
       "(array([[1, 2, 3, 4],\n",
       "        [1, 2, 3, 4]]),\n",
       " <keras_preprocessing.text.Tokenizer at 0x1e787dead88>)"
      ]
     },
     "execution_count": 12,
     "metadata": {},
     "output_type": "execute_result"
    }
   ],
   "source": [
    "tokenize(en[:2])"
   ]
  },
  {
   "cell_type": "code",
   "execution_count": 13,
   "id": "1021bdd8",
   "metadata": {},
   "outputs": [
    {
     "data": {
      "text/plain": [
       "(10, 4)"
      ]
     },
     "execution_count": 13,
     "metadata": {},
     "output_type": "execute_result"
    }
   ],
   "source": [
    "tokenize(en[:10])[0].shape"
   ]
  },
  {
   "cell_type": "code",
   "execution_count": 14,
   "id": "6132d7ba",
   "metadata": {},
   "outputs": [
    {
     "data": {
      "text/plain": [
       "(431097, 112)"
      ]
     },
     "execution_count": 14,
     "metadata": {},
     "output_type": "execute_result"
    }
   ],
   "source": [
    "tokenize(en)[0].shape"
   ]
  },
  {
   "cell_type": "code",
   "execution_count": 15,
   "id": "41c9fb3c",
   "metadata": {},
   "outputs": [],
   "source": [
    "def load_dataset(path, num_examples=None):\n",
    "    # creating cleaned input, output pairs\n",
    "#     targ_lang, inp_lang = create_dataset(path, num_examples) # ru -> en\n",
    "    targ_lang, inp_lang = create_dataset(path, num_examples) # en -> ru\n",
    "    \n",
    "    input_tensor, inp_lang_tokenizer = tokenize(inp_lang)\n",
    "    target_tensor, targ_lang_tokenizer = tokenize(targ_lang)\n",
    "\n",
    "    return input_tensor, target_tensor, inp_lang_tokenizer, targ_lang_tokenizer"
   ]
  },
  {
   "cell_type": "code",
   "execution_count": 16,
   "id": "a32e3884",
   "metadata": {},
   "outputs": [],
   "source": [
    "# Try experimenting with the size of that dataset\n",
    "# num_examples = len(en)\n",
    "num_examples = 150000\n",
    "input_tensor, target_tensor, inp_lang, targ_lang = load_dataset(path_to_file, num_examples)\n",
    "\n",
    "# Calculate max_length of the target tensors\n",
    "max_length_targ, max_length_inp = target_tensor.shape[1], input_tensor.shape[1]"
   ]
  },
  {
   "cell_type": "code",
   "execution_count": 17,
   "id": "a778ba32",
   "metadata": {},
   "outputs": [
    {
     "data": {
      "text/plain": [
       "(12, 15)"
      ]
     },
     "execution_count": 17,
     "metadata": {},
     "output_type": "execute_result"
    }
   ],
   "source": [
    "max_length_targ, max_length_inp"
   ]
  },
  {
   "cell_type": "code",
   "execution_count": 18,
   "id": "52b88358",
   "metadata": {},
   "outputs": [
    {
     "data": {
      "text/plain": [
       "(150000, 15)"
      ]
     },
     "execution_count": 18,
     "metadata": {},
     "output_type": "execute_result"
    }
   ],
   "source": [
    "input_tensor.shape"
   ]
  },
  {
   "cell_type": "code",
   "execution_count": 19,
   "id": "51999950",
   "metadata": {},
   "outputs": [
    {
     "name": "stdout",
     "output_type": "stream",
     "text": [
      "120000 120000 30000 30000\n"
     ]
    }
   ],
   "source": [
    "# Creating training and validation sets using an 80-20 split\n",
    "input_tensor_train, input_tensor_val, target_tensor_train, target_tensor_val = train_test_split(input_tensor, target_tensor, test_size=0.2)\n",
    "\n",
    "# Show length\n",
    "print(len(input_tensor_train), len(target_tensor_train), len(input_tensor_val), len(target_tensor_val))"
   ]
  },
  {
   "cell_type": "code",
   "execution_count": 20,
   "id": "bcb79866",
   "metadata": {},
   "outputs": [],
   "source": [
    "def convert(lang, tensor):\n",
    "    for t in tensor:\n",
    "        if t!=0:\n",
    "            print (\"%d ----> %s\" % (t, lang.index_word[t]))"
   ]
  },
  {
   "cell_type": "code",
   "execution_count": 21,
   "id": "b73e5a17",
   "metadata": {},
   "outputs": [
    {
     "data": {
      "text/plain": [
       "array([  1,   4,  92, 216, 100,   3,   2,   0,   0,   0,   0,   0,   0,\n",
       "         0,   0])"
      ]
     },
     "execution_count": 21,
     "metadata": {},
     "output_type": "execute_result"
    }
   ],
   "source": [
    "input_tensor_train[0]"
   ]
  },
  {
   "cell_type": "code",
   "execution_count": 22,
   "id": "38ab0d82",
   "metadata": {},
   "outputs": [
    {
     "name": "stdout",
     "output_type": "stream",
     "text": [
      "1 ----> <start>\n",
      "4 ----> я\n",
      "92 ----> хотел\n",
      "216 ----> уйти\n",
      "100 ----> домой\n",
      "3 ----> .\n",
      "2 ----> <end>\n"
     ]
    }
   ],
   "source": [
    "convert(inp_lang, input_tensor_train[0])"
   ]
  },
  {
   "cell_type": "code",
   "execution_count": 23,
   "id": "d2b88e16",
   "metadata": {},
   "outputs": [],
   "source": [
    "BUFFER_SIZE = len(input_tensor_train)\n",
    "BATCH_SIZE = 128\n",
    "\n",
    "steps_per_epoch = len(input_tensor_train)//BATCH_SIZE\n",
    "embedding_dim = 300\n",
    "units = 1024\n",
    "vocab_inp_size = len(inp_lang.word_index)+1\n",
    "vocab_tar_size = len(targ_lang.word_index)+1\n",
    "\n",
    "dataset = tf.data.Dataset.from_tensor_slices((input_tensor_train, target_tensor_train)).shuffle(BUFFER_SIZE)\n",
    "dataset = dataset.batch(BATCH_SIZE, drop_remainder=True)"
   ]
  },
  {
   "cell_type": "code",
   "execution_count": 24,
   "id": "b2658b5d",
   "metadata": {},
   "outputs": [
    {
     "data": {
      "text/plain": [
       "(TensorShape([128, 15]), TensorShape([128, 12]))"
      ]
     },
     "execution_count": 24,
     "metadata": {},
     "output_type": "execute_result"
    }
   ],
   "source": [
    "example_input_batch, example_target_batch = next(iter(dataset))\n",
    "example_input_batch.shape, example_target_batch.shape"
   ]
  },
  {
   "cell_type": "markdown",
   "id": "c6a5805d",
   "metadata": {},
   "source": [
    "#### model"
   ]
  },
  {
   "cell_type": "code",
   "execution_count": 25,
   "id": "8f994392",
   "metadata": {},
   "outputs": [],
   "source": [
    "class Encoder(tf.keras.Model):\n",
    "    def __init__(self, vocab_size, embedding_dim, enc_units, batch_sz):\n",
    "        super(Encoder, self).__init__()\n",
    "        self.batch_sz = batch_sz\n",
    "        self.enc_units = enc_units\n",
    "        self.embedding = tf.keras.layers.Embedding(vocab_size, embedding_dim)\n",
    "        self.gru = tf.keras.layers.GRU(self.enc_units,\n",
    "                                       return_sequences=False,\n",
    "                                       return_state=True,\n",
    "                                       recurrent_initializer='glorot_uniform')\n",
    "\n",
    "\n",
    "    def call(self, x, hidden):\n",
    "        x = self.embedding(x)\n",
    "        output, state = self.gru(x, initial_state = hidden)\n",
    "        return state\n",
    "\n",
    "    def initialize_hidden_state(self):\n",
    "        return tf.zeros((self.batch_sz, self.enc_units))"
   ]
  },
  {
   "cell_type": "code",
   "execution_count": 26,
   "id": "72ea0e5c",
   "metadata": {},
   "outputs": [
    {
     "name": "stdout",
     "output_type": "stream",
     "text": [
      "Encoder Hidden state shape: (batch size, units) (128, 1024)\n"
     ]
    }
   ],
   "source": [
    "encoder = Encoder(vocab_inp_size, embedding_dim, units, BATCH_SIZE)\n",
    "\n",
    "# sample input\n",
    "sample_hidden = encoder.initialize_hidden_state()\n",
    "sample_hidden = encoder.call(example_input_batch, sample_hidden)\n",
    "# print ('Encoder output shape: (batch size, sequence length, units) {}'.format(sample_output.shape))\n",
    "print ('Encoder Hidden state shape: (batch size, units) {}'.format(sample_hidden.shape))"
   ]
  },
  {
   "cell_type": "code",
   "execution_count": 27,
   "id": "a1d89e7b",
   "metadata": {},
   "outputs": [],
   "source": [
    "class Decoder(tf.keras.Model):\n",
    "    def __init__(self, vocab_size, embedding_dim, dec_units, batch_sz):\n",
    "        super(Decoder, self).__init__()\n",
    "        self.batch_sz = batch_sz\n",
    "        self.dec_units = dec_units\n",
    "        self.embedding = tf.keras.layers.Embedding(vocab_size, embedding_dim)\n",
    "        self.gru = tf.keras.layers.GRU(self.dec_units,\n",
    "                                       return_sequences=True,\n",
    "                                       return_state=True,\n",
    "                                       recurrent_initializer='glorot_uniform')\n",
    "        self.fc = tf.keras.layers.Dense(vocab_size)\n",
    "\n",
    "    def call(self, x, hidden):\n",
    "        # enc_output shape == (batch_size, max_length, hidden_size)\n",
    "\n",
    "        # x shape after passing through embedding == (batch_size, 1, embedding_dim)\n",
    "        x = self.embedding(x)\n",
    "\n",
    "        # x shape after concatenation == (batch_size, 1, embedding_dim + hidden_size)\n",
    "\n",
    "        # passing the concatenated vector to the GRU\n",
    "        output, state = self.gru(x, initial_state=hidden)\n",
    "\n",
    "        # output shape == (batch_size * 1, hidden_size)\n",
    "        output = tf.reshape(output, (-1, output.shape[2]))\n",
    "\n",
    "        # output shape == (batch_size, vocab)\n",
    "        x = self.fc(output)\n",
    "\n",
    "        return x, state"
   ]
  },
  {
   "cell_type": "code",
   "execution_count": 28,
   "id": "c5faf9f3",
   "metadata": {},
   "outputs": [
    {
     "data": {
      "text/plain": [
       "(TensorShape([128, 8879]), TensorShape([128, 1024]))"
      ]
     },
     "execution_count": 28,
     "metadata": {},
     "output_type": "execute_result"
    }
   ],
   "source": [
    "decoder = Decoder(vocab_tar_size, embedding_dim, units, BATCH_SIZE)\n",
    "decoder_sample_x, decoder_sample_h = decoder(tf.random.uniform((BATCH_SIZE, 1)),\n",
    "                                      sample_hidden)\n",
    "decoder_sample_x.shape, decoder_sample_h.shape"
   ]
  },
  {
   "cell_type": "code",
   "execution_count": 29,
   "id": "f153ed68",
   "metadata": {},
   "outputs": [],
   "source": [
    "optimizer = tf.keras.optimizers.Adam()\n",
    "\n",
    "loss_object = tf.keras.losses.SparseCategoricalCrossentropy(\n",
    "    from_logits=True, reduction='none')\n",
    "\n",
    "def loss_function(real, pred):\n",
    "    mask = tf.math.logical_not(tf.math.equal(real, 0))\n",
    "    loss_ = loss_object(real, pred)\n",
    "\n",
    "    mask = tf.cast(mask, dtype=loss_.dtype)\n",
    "    loss_ *= mask\n",
    "\n",
    "    return tf.reduce_mean(loss_)"
   ]
  },
  {
   "cell_type": "code",
   "execution_count": 30,
   "id": "5fda21bb",
   "metadata": {},
   "outputs": [],
   "source": [
    "checkpoint_dir = './training_checkpoints'\n",
    "\n",
    "checkpoint_prefix = os.path.join(checkpoint_dir, \"ckpt\")\n",
    "\n",
    "checkpoint = tf.train.Checkpoint(optimizer=optimizer,\n",
    "                                 encoder=encoder,\n",
    "                                 decoder=decoder)"
   ]
  },
  {
   "cell_type": "code",
   "execution_count": 31,
   "id": "e655b4f7",
   "metadata": {},
   "outputs": [],
   "source": [
    "@tf.function\n",
    "def train_step(inp, targ, enc_hidden):\n",
    "    loss = 0\n",
    "\n",
    "    with tf.GradientTape() as tape:\n",
    "        enc_hidden = encoder(inp, enc_hidden)\n",
    "\n",
    "        dec_hidden = enc_hidden\n",
    "\n",
    "        dec_input = tf.expand_dims([targ_lang.word_index['<start>']] * BATCH_SIZE, 1)\n",
    "\n",
    "        # Teacher forcing - feeding the target as the next input\n",
    "        for t in range(1, targ.shape[1]):\n",
    "            # passing enc_output to the decoder\n",
    "            predictions, dec_hidden = decoder(dec_input, dec_hidden)\n",
    "\n",
    "            loss += loss_function(targ[:, t], predictions)\n",
    "\n",
    "            # using teacher forcing\n",
    "            dec_input = tf.expand_dims(targ[:, t], 1)\n",
    "\n",
    "    batch_loss = (loss / int(targ.shape[1]))\n",
    "\n",
    "    variables = encoder.trainable_variables + decoder.trainable_variables\n",
    "\n",
    "    gradients = tape.gradient(loss, variables)\n",
    "\n",
    "    optimizer.apply_gradients(zip(gradients, variables))\n",
    "\n",
    "    return batch_loss"
   ]
  },
  {
   "cell_type": "code",
   "execution_count": 32,
   "id": "56f67731",
   "metadata": {},
   "outputs": [
    {
     "name": "stdout",
     "output_type": "stream",
     "text": [
      "Epoch 1 Batch 0 Loss 4.6458\n",
      "Epoch 1 Batch 100 Loss 2.0260\n",
      "Epoch 1 Batch 200 Loss 1.7946\n",
      "Epoch 1 Batch 300 Loss 1.6387\n",
      "Epoch 1 Batch 400 Loss 1.5264\n",
      "Epoch 1 Batch 500 Loss 1.4707\n",
      "Epoch 1 Batch 600 Loss 1.3485\n",
      "Epoch 1 Batch 700 Loss 1.3627\n",
      "Epoch 1 Batch 800 Loss 1.1597\n",
      "Epoch 1 Batch 900 Loss 1.1853\n",
      "Epoch 1 Loss 1.5698\n",
      "Time taken for 1 epoch 198.24812364578247 sec\n",
      "\n",
      "Epoch 2 Batch 0 Loss 1.0496\n",
      "Epoch 2 Batch 100 Loss 0.9514\n",
      "Epoch 2 Batch 200 Loss 0.9217\n",
      "Epoch 2 Batch 300 Loss 0.9263\n",
      "Epoch 2 Batch 400 Loss 0.8791\n",
      "Epoch 2 Batch 500 Loss 0.8178\n",
      "Epoch 2 Batch 600 Loss 0.7389\n",
      "Epoch 2 Batch 700 Loss 0.7312\n",
      "Epoch 2 Batch 800 Loss 0.6900\n",
      "Epoch 2 Batch 900 Loss 0.7538\n",
      "Epoch 2 Loss 0.8216\n",
      "Time taken for 1 epoch 183.61669516563416 sec\n",
      "\n",
      "Epoch 3 Batch 0 Loss 0.5088\n",
      "Epoch 3 Batch 100 Loss 0.4935\n",
      "Epoch 3 Batch 200 Loss 0.4768\n",
      "Epoch 3 Batch 300 Loss 0.4721\n",
      "Epoch 3 Batch 400 Loss 0.5239\n",
      "Epoch 3 Batch 500 Loss 0.4420\n",
      "Epoch 3 Batch 600 Loss 0.4003\n",
      "Epoch 3 Batch 700 Loss 0.4664\n",
      "Epoch 3 Batch 800 Loss 0.3937\n",
      "Epoch 3 Batch 900 Loss 0.3980\n",
      "Epoch 3 Loss 0.4538\n",
      "Time taken for 1 epoch 183.0332636833191 sec\n",
      "\n",
      "Epoch 4 Batch 0 Loss 0.2747\n",
      "Epoch 4 Batch 100 Loss 0.2488\n",
      "Epoch 4 Batch 200 Loss 0.2401\n",
      "Epoch 4 Batch 300 Loss 0.2682\n",
      "Epoch 4 Batch 400 Loss 0.2875\n",
      "Epoch 4 Batch 500 Loss 0.2534\n",
      "Epoch 4 Batch 600 Loss 0.2604\n",
      "Epoch 4 Batch 700 Loss 0.2410\n",
      "Epoch 4 Batch 800 Loss 0.2365\n",
      "Epoch 4 Batch 900 Loss 0.2426\n",
      "Epoch 4 Loss 0.2705\n",
      "Time taken for 1 epoch 185.02110147476196 sec\n",
      "\n",
      "Epoch 5 Batch 0 Loss 0.1612\n",
      "Epoch 5 Batch 100 Loss 0.1812\n",
      "Epoch 5 Batch 200 Loss 0.1639\n",
      "Epoch 5 Batch 300 Loss 0.1632\n",
      "Epoch 5 Batch 400 Loss 0.2042\n",
      "Epoch 5 Batch 500 Loss 0.1971\n",
      "Epoch 5 Batch 600 Loss 0.1613\n",
      "Epoch 5 Batch 700 Loss 0.1899\n",
      "Epoch 5 Batch 800 Loss 0.1548\n",
      "Epoch 5 Batch 900 Loss 0.1974\n",
      "Epoch 5 Loss 0.1798\n",
      "Time taken for 1 epoch 184.89191889762878 sec\n",
      "\n",
      "Epoch 6 Batch 0 Loss 0.1155\n",
      "Epoch 6 Batch 100 Loss 0.1098\n",
      "Epoch 6 Batch 200 Loss 0.1248\n",
      "Epoch 6 Batch 300 Loss 0.1352\n",
      "Epoch 6 Batch 400 Loss 0.1216\n",
      "Epoch 6 Batch 500 Loss 0.1281\n",
      "Epoch 6 Batch 600 Loss 0.1551\n",
      "Epoch 6 Batch 700 Loss 0.1420\n",
      "Epoch 6 Batch 800 Loss 0.1607\n",
      "Epoch 6 Batch 900 Loss 0.1598\n",
      "Epoch 6 Loss 0.1323\n",
      "Time taken for 1 epoch 185.32266354560852 sec\n",
      "\n",
      "Epoch 7 Batch 0 Loss 0.1126\n",
      "Epoch 7 Batch 100 Loss 0.1158\n",
      "Epoch 7 Batch 200 Loss 0.0944\n",
      "Epoch 7 Batch 300 Loss 0.0740\n",
      "Epoch 7 Batch 400 Loss 0.0961\n",
      "Epoch 7 Batch 500 Loss 0.1244\n",
      "Epoch 7 Batch 600 Loss 0.0926\n",
      "Epoch 7 Batch 700 Loss 0.1470\n",
      "Epoch 7 Batch 800 Loss 0.0950\n",
      "Epoch 7 Batch 900 Loss 0.0864\n",
      "Epoch 7 Loss 0.1063\n",
      "Time taken for 1 epoch 185.22323155403137 sec\n",
      "\n",
      "Epoch 8 Batch 0 Loss 0.0788\n",
      "Epoch 8 Batch 100 Loss 0.0898\n",
      "Epoch 8 Batch 200 Loss 0.0907\n",
      "Epoch 8 Batch 300 Loss 0.1014\n",
      "Epoch 8 Batch 400 Loss 0.1038\n",
      "Epoch 8 Batch 500 Loss 0.0920\n",
      "Epoch 8 Batch 600 Loss 0.0849\n",
      "Epoch 8 Batch 700 Loss 0.0929\n",
      "Epoch 8 Batch 800 Loss 0.1037\n",
      "Epoch 8 Batch 900 Loss 0.1011\n",
      "Epoch 8 Loss 0.0917\n",
      "Time taken for 1 epoch 186.7649028301239 sec\n",
      "\n",
      "Epoch 9 Batch 0 Loss 0.0705\n",
      "Epoch 9 Batch 100 Loss 0.0696\n",
      "Epoch 9 Batch 200 Loss 0.0590\n",
      "Epoch 9 Batch 300 Loss 0.0749\n",
      "Epoch 9 Batch 400 Loss 0.0692\n",
      "Epoch 9 Batch 500 Loss 0.0688\n",
      "Epoch 9 Batch 600 Loss 0.0614\n",
      "Epoch 9 Batch 700 Loss 0.0853\n",
      "Epoch 9 Batch 800 Loss 0.0973\n",
      "Epoch 9 Batch 900 Loss 0.0951\n",
      "Epoch 9 Loss 0.0840\n",
      "Time taken for 1 epoch 185.33947372436523 sec\n",
      "\n",
      "Epoch 10 Batch 0 Loss 0.0583\n",
      "Epoch 10 Batch 100 Loss 0.0549\n",
      "Epoch 10 Batch 200 Loss 0.0501\n",
      "Epoch 10 Batch 300 Loss 0.0675\n",
      "Epoch 10 Batch 400 Loss 0.0707\n",
      "Epoch 10 Batch 500 Loss 0.0605\n",
      "Epoch 10 Batch 600 Loss 0.0671\n",
      "Epoch 10 Batch 700 Loss 0.0798\n",
      "Epoch 10 Batch 800 Loss 0.0880\n",
      "Epoch 10 Batch 900 Loss 0.0626\n",
      "Epoch 10 Loss 0.0777\n",
      "Time taken for 1 epoch 185.9293885231018 sec\n",
      "\n",
      "Epoch 11 Batch 0 Loss 0.0318\n",
      "Epoch 11 Batch 100 Loss 0.0530\n",
      "Epoch 11 Batch 200 Loss 0.0708\n",
      "Epoch 11 Batch 300 Loss 0.0643\n",
      "Epoch 11 Batch 400 Loss 0.1088\n",
      "Epoch 11 Batch 500 Loss 0.0833\n",
      "Epoch 11 Batch 600 Loss 0.0618\n",
      "Epoch 11 Batch 700 Loss 0.0940\n",
      "Epoch 11 Batch 800 Loss 0.0839\n",
      "Epoch 11 Batch 900 Loss 0.0917\n",
      "Epoch 11 Loss 0.0744\n",
      "Time taken for 1 epoch 185.12070512771606 sec\n",
      "\n",
      "Epoch 12 Batch 0 Loss 0.0561\n",
      "Epoch 12 Batch 100 Loss 0.0640\n",
      "Epoch 12 Batch 200 Loss 0.0823\n",
      "Epoch 12 Batch 300 Loss 0.0635\n",
      "Epoch 12 Batch 400 Loss 0.0835\n",
      "Epoch 12 Batch 500 Loss 0.0753\n",
      "Epoch 12 Batch 600 Loss 0.0955\n",
      "Epoch 12 Batch 700 Loss 0.0938\n",
      "Epoch 12 Batch 800 Loss 0.0561\n",
      "Epoch 12 Batch 900 Loss 0.1059\n",
      "Epoch 12 Loss 0.0706\n",
      "Time taken for 1 epoch 186.82418370246887 sec\n",
      "\n",
      "Epoch 13 Batch 0 Loss 0.0531\n",
      "Epoch 13 Batch 100 Loss 0.0470\n",
      "Epoch 13 Batch 200 Loss 0.0621\n",
      "Epoch 13 Batch 300 Loss 0.0522\n",
      "Epoch 13 Batch 400 Loss 0.0942\n",
      "Epoch 13 Batch 500 Loss 0.0813\n",
      "Epoch 13 Batch 600 Loss 0.0577\n",
      "Epoch 13 Batch 700 Loss 0.0636\n",
      "Epoch 13 Batch 800 Loss 0.0934\n",
      "Epoch 13 Batch 900 Loss 0.1086\n",
      "Epoch 13 Loss 0.0689\n",
      "Time taken for 1 epoch 186.79102659225464 sec\n",
      "\n",
      "Epoch 14 Batch 0 Loss 0.0645\n",
      "Epoch 14 Batch 100 Loss 0.0703\n",
      "Epoch 14 Batch 200 Loss 0.0368\n",
      "Epoch 14 Batch 300 Loss 0.0597\n",
      "Epoch 14 Batch 400 Loss 0.0630\n",
      "Epoch 14 Batch 500 Loss 0.0682\n",
      "Epoch 14 Batch 600 Loss 0.0608\n",
      "Epoch 14 Batch 700 Loss 0.0543\n",
      "Epoch 14 Batch 800 Loss 0.0656\n",
      "Epoch 14 Batch 900 Loss 0.0764\n",
      "Epoch 14 Loss 0.0662\n",
      "Time taken for 1 epoch 187.4499053955078 sec\n",
      "\n",
      "Epoch 15 Batch 0 Loss 0.0498\n",
      "Epoch 15 Batch 100 Loss 0.0583\n",
      "Epoch 15 Batch 200 Loss 0.0550\n",
      "Epoch 15 Batch 300 Loss 0.0642\n",
      "Epoch 15 Batch 400 Loss 0.0738\n",
      "Epoch 15 Batch 500 Loss 0.0546\n",
      "Epoch 15 Batch 600 Loss 0.0891\n",
      "Epoch 15 Batch 700 Loss 0.0628\n",
      "Epoch 15 Batch 800 Loss 0.0553\n",
      "Epoch 15 Batch 900 Loss 0.0871\n",
      "Epoch 15 Loss 0.0652\n",
      "Time taken for 1 epoch 187.2272777557373 sec\n",
      "\n",
      "Epoch 16 Batch 0 Loss 0.0326\n",
      "Epoch 16 Batch 100 Loss 0.0456\n",
      "Epoch 16 Batch 200 Loss 0.0486\n",
      "Epoch 16 Batch 300 Loss 0.0528\n",
      "Epoch 16 Batch 400 Loss 0.0450\n",
      "Epoch 16 Batch 500 Loss 0.0742\n",
      "Epoch 16 Batch 600 Loss 0.0959\n",
      "Epoch 16 Batch 700 Loss 0.0650\n",
      "Epoch 16 Batch 800 Loss 0.0883\n",
      "Epoch 16 Batch 900 Loss 0.0890\n",
      "Epoch 16 Loss 0.0640\n",
      "Time taken for 1 epoch 188.15179443359375 sec\n",
      "\n",
      "Epoch 17 Batch 0 Loss 0.0764\n",
      "Epoch 17 Batch 100 Loss 0.0526\n",
      "Epoch 17 Batch 200 Loss 0.0498\n",
      "Epoch 17 Batch 300 Loss 0.0555\n",
      "Epoch 17 Batch 400 Loss 0.0497\n",
      "Epoch 17 Batch 500 Loss 0.0545\n",
      "Epoch 17 Batch 600 Loss 0.0568\n",
      "Epoch 17 Batch 700 Loss 0.0810\n",
      "Epoch 17 Batch 800 Loss 0.0896\n",
      "Epoch 17 Batch 900 Loss 0.0923\n",
      "Epoch 17 Loss 0.0625\n",
      "Time taken for 1 epoch 185.2060046195984 sec\n",
      "\n",
      "Epoch 18 Batch 0 Loss 0.0724\n",
      "Epoch 18 Batch 100 Loss 0.0551\n",
      "Epoch 18 Batch 200 Loss 0.0430\n",
      "Epoch 18 Batch 300 Loss 0.0756\n",
      "Epoch 18 Batch 400 Loss 0.0693\n",
      "Epoch 18 Batch 500 Loss 0.0490\n",
      "Epoch 18 Batch 600 Loss 0.0467\n",
      "Epoch 18 Batch 700 Loss 0.0655\n",
      "Epoch 18 Batch 800 Loss 0.0665\n",
      "Epoch 18 Batch 900 Loss 0.0760\n",
      "Epoch 18 Loss 0.0616\n",
      "Time taken for 1 epoch 184.9199891090393 sec\n",
      "\n",
      "Epoch 19 Batch 0 Loss 0.0430\n",
      "Epoch 19 Batch 100 Loss 0.0379\n",
      "Epoch 19 Batch 200 Loss 0.0330\n",
      "Epoch 19 Batch 300 Loss 0.0882\n",
      "Epoch 19 Batch 400 Loss 0.0614\n",
      "Epoch 19 Batch 500 Loss 0.0518\n",
      "Epoch 19 Batch 600 Loss 0.0648\n",
      "Epoch 19 Batch 700 Loss 0.0795\n",
      "Epoch 19 Batch 800 Loss 0.0672\n",
      "Epoch 19 Batch 900 Loss 0.0595\n",
      "Epoch 19 Loss 0.0601\n",
      "Time taken for 1 epoch 184.54213452339172 sec\n",
      "\n",
      "Epoch 20 Batch 0 Loss 0.0471\n",
      "Epoch 20 Batch 100 Loss 0.0514\n",
      "Epoch 20 Batch 200 Loss 0.0534\n",
      "Epoch 20 Batch 300 Loss 0.0442\n",
      "Epoch 20 Batch 400 Loss 0.0534\n",
      "Epoch 20 Batch 500 Loss 0.0642\n",
      "Epoch 20 Batch 600 Loss 0.0788\n",
      "Epoch 20 Batch 700 Loss 0.0586\n",
      "Epoch 20 Batch 800 Loss 0.0676\n",
      "Epoch 20 Batch 900 Loss 0.0736\n",
      "Epoch 20 Loss 0.0601\n",
      "Time taken for 1 epoch 186.76661348342896 sec\n",
      "\n",
      "Epoch 21 Batch 0 Loss 0.0392\n",
      "Epoch 21 Batch 100 Loss 0.0608\n",
      "Epoch 21 Batch 200 Loss 0.0420\n",
      "Epoch 21 Batch 300 Loss 0.0530\n",
      "Epoch 21 Batch 400 Loss 0.0629\n",
      "Epoch 21 Batch 500 Loss 0.0458\n",
      "Epoch 21 Batch 600 Loss 0.0737\n",
      "Epoch 21 Batch 700 Loss 0.0884\n",
      "Epoch 21 Batch 800 Loss 0.0462\n",
      "Epoch 21 Batch 900 Loss 0.0646\n",
      "Epoch 21 Loss 0.0591\n",
      "Time taken for 1 epoch 183.39624953269958 sec\n",
      "\n",
      "Epoch 22 Batch 0 Loss 0.0615\n",
      "Epoch 22 Batch 100 Loss 0.0451\n",
      "Epoch 22 Batch 200 Loss 0.0547\n",
      "Epoch 22 Batch 300 Loss 0.0656\n",
      "Epoch 22 Batch 400 Loss 0.0669\n",
      "Epoch 22 Batch 500 Loss 0.0711\n",
      "Epoch 22 Batch 600 Loss 0.0565\n",
      "Epoch 22 Batch 700 Loss 0.0614\n",
      "Epoch 22 Batch 800 Loss 0.0732\n",
      "Epoch 22 Batch 900 Loss 0.0612\n",
      "Epoch 22 Loss 0.0575\n",
      "Time taken for 1 epoch 184.8932557106018 sec\n",
      "\n",
      "Epoch 23 Batch 0 Loss 0.0434\n"
     ]
    },
    {
     "name": "stdout",
     "output_type": "stream",
     "text": [
      "Epoch 23 Batch 100 Loss 0.0331\n",
      "Epoch 23 Batch 200 Loss 0.0531\n",
      "Epoch 23 Batch 300 Loss 0.0392\n",
      "Epoch 23 Batch 400 Loss 0.0549\n",
      "Epoch 23 Batch 500 Loss 0.0405\n",
      "Epoch 23 Batch 600 Loss 0.0609\n",
      "Epoch 23 Batch 700 Loss 0.0553\n",
      "Epoch 23 Batch 800 Loss 0.0506\n",
      "Epoch 23 Batch 900 Loss 0.0745\n",
      "Epoch 23 Loss 0.0574\n",
      "Time taken for 1 epoch 185.36056971549988 sec\n",
      "\n",
      "Epoch 24 Batch 0 Loss 0.0494\n",
      "Epoch 24 Batch 100 Loss 0.0494\n",
      "Epoch 24 Batch 200 Loss 0.0367\n",
      "Epoch 24 Batch 300 Loss 0.0705\n",
      "Epoch 24 Batch 400 Loss 0.0667\n",
      "Epoch 24 Batch 500 Loss 0.0648\n",
      "Epoch 24 Batch 600 Loss 0.0579\n",
      "Epoch 24 Batch 700 Loss 0.0502\n",
      "Epoch 24 Batch 800 Loss 0.0905\n",
      "Epoch 24 Batch 900 Loss 0.0683\n",
      "Epoch 24 Loss 0.0569\n",
      "Time taken for 1 epoch 185.57644057273865 sec\n",
      "\n",
      "Epoch 25 Batch 0 Loss 0.0418\n",
      "Epoch 25 Batch 100 Loss 0.0387\n",
      "Epoch 25 Batch 200 Loss 0.0483\n",
      "Epoch 25 Batch 300 Loss 0.0608\n",
      "Epoch 25 Batch 400 Loss 0.0676\n",
      "Epoch 25 Batch 500 Loss 0.0539\n",
      "Epoch 25 Batch 600 Loss 0.0694\n",
      "Epoch 25 Batch 700 Loss 0.0640\n",
      "Epoch 25 Batch 800 Loss 0.0566\n",
      "Epoch 25 Batch 900 Loss 0.0565\n",
      "Epoch 25 Loss 0.0563\n",
      "Time taken for 1 epoch 185.63307690620422 sec\n",
      "\n",
      "Epoch 26 Batch 0 Loss 0.0493\n",
      "Epoch 26 Batch 100 Loss 0.0511\n",
      "Epoch 26 Batch 200 Loss 0.0610\n",
      "Epoch 26 Batch 300 Loss 0.0388\n",
      "Epoch 26 Batch 400 Loss 0.0442\n",
      "Epoch 26 Batch 500 Loss 0.0700\n",
      "Epoch 26 Batch 600 Loss 0.0485\n",
      "Epoch 26 Batch 700 Loss 0.0818\n",
      "Epoch 26 Batch 800 Loss 0.0679\n",
      "Epoch 26 Batch 900 Loss 0.0509\n",
      "Epoch 26 Loss 0.0553\n",
      "Time taken for 1 epoch 185.26566672325134 sec\n",
      "\n",
      "Epoch 27 Batch 0 Loss 0.0310\n",
      "Epoch 27 Batch 100 Loss 0.0658\n",
      "Epoch 27 Batch 200 Loss 0.0539\n",
      "Epoch 27 Batch 300 Loss 0.0488\n",
      "Epoch 27 Batch 400 Loss 0.0589\n",
      "Epoch 27 Batch 500 Loss 0.0646\n",
      "Epoch 27 Batch 600 Loss 0.0517\n",
      "Epoch 27 Batch 700 Loss 0.0628\n",
      "Epoch 27 Batch 800 Loss 0.0579\n",
      "Epoch 27 Batch 900 Loss 0.0488\n",
      "Epoch 27 Loss 0.0550\n",
      "Time taken for 1 epoch 185.18104124069214 sec\n",
      "\n",
      "Epoch 28 Batch 0 Loss 0.0417\n",
      "Epoch 28 Batch 100 Loss 0.0457\n",
      "Epoch 28 Batch 200 Loss 0.0511\n",
      "Epoch 28 Batch 300 Loss 0.0768\n",
      "Epoch 28 Batch 400 Loss 0.0487\n",
      "Epoch 28 Batch 500 Loss 0.0547\n",
      "Epoch 28 Batch 600 Loss 0.0812\n",
      "Epoch 28 Batch 700 Loss 0.0543\n",
      "Epoch 28 Batch 800 Loss 0.0511\n",
      "Epoch 28 Batch 900 Loss 0.0657\n",
      "Epoch 28 Loss 0.0545\n",
      "Time taken for 1 epoch 185.30526781082153 sec\n",
      "\n",
      "Epoch 29 Batch 0 Loss 0.0385\n",
      "Epoch 29 Batch 100 Loss 0.0426\n",
      "Epoch 29 Batch 200 Loss 0.0473\n",
      "Epoch 29 Batch 300 Loss 0.0605\n",
      "Epoch 29 Batch 400 Loss 0.0405\n",
      "Epoch 29 Batch 500 Loss 0.0678\n",
      "Epoch 29 Batch 600 Loss 0.0419\n",
      "Epoch 29 Batch 700 Loss 0.0802\n",
      "Epoch 29 Batch 800 Loss 0.0693\n",
      "Epoch 29 Batch 900 Loss 0.0627\n",
      "Epoch 29 Loss 0.0537\n",
      "Time taken for 1 epoch 182.95925426483154 sec\n",
      "\n",
      "Epoch 30 Batch 0 Loss 0.0476\n",
      "Epoch 30 Batch 100 Loss 0.0230\n",
      "Epoch 30 Batch 200 Loss 0.0537\n",
      "Epoch 30 Batch 300 Loss 0.0498\n",
      "Epoch 30 Batch 400 Loss 0.0574\n",
      "Epoch 30 Batch 500 Loss 0.0324\n",
      "Epoch 30 Batch 600 Loss 0.0413\n",
      "Epoch 30 Batch 700 Loss 0.0619\n",
      "Epoch 30 Batch 800 Loss 0.0704\n",
      "Epoch 30 Batch 900 Loss 0.0795\n",
      "Epoch 30 Loss 0.0538\n",
      "Time taken for 1 epoch 184.20069551467896 sec\n",
      "\n",
      "Epoch 31 Batch 0 Loss 0.0291\n",
      "Epoch 31 Batch 100 Loss 0.0520\n",
      "Epoch 31 Batch 200 Loss 0.0676\n",
      "Epoch 31 Batch 300 Loss 0.0598\n",
      "Epoch 31 Batch 400 Loss 0.0539\n",
      "Epoch 31 Batch 500 Loss 0.0347\n",
      "Epoch 31 Batch 600 Loss 0.0731\n",
      "Epoch 31 Batch 700 Loss 0.0510\n",
      "Epoch 31 Batch 800 Loss 0.0736\n",
      "Epoch 31 Batch 900 Loss 0.0538\n",
      "Epoch 31 Loss 0.0530\n",
      "Time taken for 1 epoch 183.36944818496704 sec\n",
      "\n",
      "Epoch 32 Batch 0 Loss 0.0332\n",
      "Epoch 32 Batch 100 Loss 0.0500\n",
      "Epoch 32 Batch 200 Loss 0.0263\n",
      "Epoch 32 Batch 300 Loss 0.0823\n",
      "Epoch 32 Batch 400 Loss 0.0430\n",
      "Epoch 32 Batch 500 Loss 0.0589\n",
      "Epoch 32 Batch 600 Loss 0.0676\n",
      "Epoch 32 Batch 700 Loss 0.0680\n",
      "Epoch 32 Batch 800 Loss 0.0685\n",
      "Epoch 32 Batch 900 Loss 0.0760\n",
      "Epoch 32 Loss 0.0526\n",
      "Time taken for 1 epoch 182.8673450946808 sec\n",
      "\n",
      "Epoch 33 Batch 0 Loss 0.0376\n",
      "Epoch 33 Batch 100 Loss 0.0588\n",
      "Epoch 33 Batch 200 Loss 0.0366\n",
      "Epoch 33 Batch 300 Loss 0.0467\n",
      "Epoch 33 Batch 400 Loss 0.0453\n",
      "Epoch 33 Batch 500 Loss 0.0517\n",
      "Epoch 33 Batch 600 Loss 0.0527\n",
      "Epoch 33 Batch 700 Loss 0.0631\n",
      "Epoch 33 Batch 800 Loss 0.0484\n",
      "Epoch 33 Batch 900 Loss 0.0841\n",
      "Epoch 33 Loss 0.0518\n",
      "Time taken for 1 epoch 182.37819409370422 sec\n",
      "\n",
      "Epoch 34 Batch 0 Loss 0.0739\n",
      "Epoch 34 Batch 100 Loss 0.0321\n",
      "Epoch 34 Batch 200 Loss 0.0488\n",
      "Epoch 34 Batch 300 Loss 0.0622\n",
      "Epoch 34 Batch 400 Loss 0.0520\n",
      "Epoch 34 Batch 500 Loss 0.0647\n",
      "Epoch 34 Batch 600 Loss 0.0389\n",
      "Epoch 34 Batch 700 Loss 0.0687\n",
      "Epoch 34 Batch 800 Loss 0.0435\n",
      "Epoch 34 Batch 900 Loss 0.0676\n",
      "Epoch 34 Loss 0.0516\n",
      "Time taken for 1 epoch 182.69386458396912 sec\n",
      "\n",
      "Epoch 35 Batch 0 Loss 0.0321\n",
      "Epoch 35 Batch 100 Loss 0.0349\n",
      "Epoch 35 Batch 200 Loss 0.0259\n",
      "Epoch 35 Batch 300 Loss 0.0473\n",
      "Epoch 35 Batch 400 Loss 0.0588\n",
      "Epoch 35 Batch 500 Loss 0.0702\n",
      "Epoch 35 Batch 600 Loss 0.0637\n",
      "Epoch 35 Batch 700 Loss 0.0597\n",
      "Epoch 35 Batch 800 Loss 0.0464\n",
      "Epoch 35 Batch 900 Loss 0.0614\n",
      "Epoch 35 Loss 0.0512\n",
      "Time taken for 1 epoch 182.43271780014038 sec\n",
      "\n",
      "Epoch 36 Batch 0 Loss 0.0235\n",
      "Epoch 36 Batch 100 Loss 0.0230\n",
      "Epoch 36 Batch 200 Loss 0.0577\n",
      "Epoch 36 Batch 300 Loss 0.0733\n",
      "Epoch 36 Batch 400 Loss 0.0353\n",
      "Epoch 36 Batch 500 Loss 0.0763\n",
      "Epoch 36 Batch 600 Loss 0.0643\n",
      "Epoch 36 Batch 700 Loss 0.0598\n",
      "Epoch 36 Batch 800 Loss 0.0630\n",
      "Epoch 36 Batch 900 Loss 0.0362\n",
      "Epoch 36 Loss 0.0507\n",
      "Time taken for 1 epoch 182.3026053905487 sec\n",
      "\n",
      "Epoch 37 Batch 0 Loss 0.0408\n",
      "Epoch 37 Batch 100 Loss 0.0303\n",
      "Epoch 37 Batch 200 Loss 0.0560\n",
      "Epoch 37 Batch 300 Loss 0.0470\n",
      "Epoch 37 Batch 400 Loss 0.0601\n",
      "Epoch 37 Batch 500 Loss 0.0547\n",
      "Epoch 37 Batch 600 Loss 0.0399\n",
      "Epoch 37 Batch 700 Loss 0.0740\n",
      "Epoch 37 Batch 800 Loss 0.0440\n",
      "Epoch 37 Batch 900 Loss 0.0564\n",
      "Epoch 37 Loss 0.0502\n",
      "Time taken for 1 epoch 182.12812876701355 sec\n",
      "\n",
      "Epoch 38 Batch 0 Loss 0.0586\n",
      "Epoch 38 Batch 100 Loss 0.0426\n",
      "Epoch 38 Batch 200 Loss 0.0593\n",
      "Epoch 38 Batch 300 Loss 0.0530\n",
      "Epoch 38 Batch 400 Loss 0.0363\n",
      "Epoch 38 Batch 500 Loss 0.0533\n",
      "Epoch 38 Batch 600 Loss 0.0347\n",
      "Epoch 38 Batch 700 Loss 0.0419\n",
      "Epoch 38 Batch 800 Loss 0.0478\n",
      "Epoch 38 Batch 900 Loss 0.0544\n",
      "Epoch 38 Loss 0.0498\n",
      "Time taken for 1 epoch 182.3881459236145 sec\n",
      "\n",
      "Epoch 39 Batch 0 Loss 0.0447\n",
      "Epoch 39 Batch 100 Loss 0.0448\n",
      "Epoch 39 Batch 200 Loss 0.0468\n",
      "Epoch 39 Batch 300 Loss 0.0615\n",
      "Epoch 39 Batch 400 Loss 0.0546\n",
      "Epoch 39 Batch 500 Loss 0.0495\n",
      "Epoch 39 Batch 600 Loss 0.0753\n",
      "Epoch 39 Batch 700 Loss 0.0508\n",
      "Epoch 39 Batch 800 Loss 0.0578\n",
      "Epoch 39 Batch 900 Loss 0.0540\n",
      "Epoch 39 Loss 0.0501\n",
      "Time taken for 1 epoch 182.03348207473755 sec\n",
      "\n",
      "Epoch 40 Batch 0 Loss 0.0447\n",
      "Epoch 40 Batch 100 Loss 0.0517\n",
      "Epoch 40 Batch 200 Loss 0.0615\n",
      "Epoch 40 Batch 300 Loss 0.0415\n",
      "Epoch 40 Batch 400 Loss 0.0493\n",
      "Epoch 40 Batch 500 Loss 0.0497\n",
      "Epoch 40 Batch 600 Loss 0.0516\n",
      "Epoch 40 Batch 700 Loss 0.0374\n",
      "Epoch 40 Batch 800 Loss 0.0523\n",
      "Epoch 40 Batch 900 Loss 0.0321\n",
      "Epoch 40 Loss 0.0494\n",
      "Time taken for 1 epoch 182.98896479606628 sec\n",
      "\n",
      "Epoch 41 Batch 0 Loss 0.0363\n",
      "Epoch 41 Batch 100 Loss 0.0532\n",
      "Epoch 41 Batch 200 Loss 0.0339\n",
      "Epoch 41 Batch 300 Loss 0.0362\n",
      "Epoch 41 Batch 400 Loss 0.0489\n",
      "Epoch 41 Batch 500 Loss 0.0431\n",
      "Epoch 41 Batch 600 Loss 0.0535\n",
      "Epoch 41 Batch 700 Loss 0.0339\n",
      "Epoch 41 Batch 800 Loss 0.0430\n",
      "Epoch 41 Batch 900 Loss 0.0427\n",
      "Epoch 41 Loss 0.0485\n",
      "Time taken for 1 epoch 182.3427436351776 sec\n",
      "\n",
      "Epoch 42 Batch 0 Loss 0.0503\n",
      "Epoch 42 Batch 100 Loss 0.0362\n",
      "Epoch 42 Batch 200 Loss 0.0331\n",
      "Epoch 42 Batch 300 Loss 0.0648\n",
      "Epoch 42 Batch 400 Loss 0.0480\n",
      "Epoch 42 Batch 500 Loss 0.0370\n",
      "Epoch 42 Batch 600 Loss 0.0381\n",
      "Epoch 42 Batch 700 Loss 0.0821\n",
      "Epoch 42 Batch 800 Loss 0.0646\n",
      "Epoch 42 Batch 900 Loss 0.0440\n",
      "Epoch 42 Loss 0.0481\n",
      "Time taken for 1 epoch 182.3018879890442 sec\n",
      "\n",
      "Epoch 43 Batch 0 Loss 0.0361\n",
      "Epoch 43 Batch 100 Loss 0.0391\n",
      "Epoch 43 Batch 200 Loss 0.0369\n",
      "Epoch 43 Batch 300 Loss 0.0480\n",
      "Epoch 43 Batch 400 Loss 0.0568\n",
      "Epoch 43 Batch 500 Loss 0.0467\n",
      "Epoch 43 Batch 600 Loss 0.0711\n",
      "Epoch 43 Batch 700 Loss 0.0619\n",
      "Epoch 43 Batch 800 Loss 0.0505\n",
      "Epoch 43 Batch 900 Loss 0.0625\n",
      "Epoch 43 Loss 0.0482\n",
      "Time taken for 1 epoch 182.19320917129517 sec\n",
      "\n",
      "Epoch 44 Batch 0 Loss 0.0360\n",
      "Epoch 44 Batch 100 Loss 0.0421\n",
      "Epoch 44 Batch 200 Loss 0.0503\n",
      "Epoch 44 Batch 300 Loss 0.0399\n",
      "Epoch 44 Batch 400 Loss 0.0693\n",
      "Epoch 44 Batch 500 Loss 0.0289\n",
      "Epoch 44 Batch 600 Loss 0.0523\n",
      "Epoch 44 Batch 700 Loss 0.0469\n",
      "Epoch 44 Batch 800 Loss 0.0440\n",
      "Epoch 44 Batch 900 Loss 0.0844\n",
      "Epoch 44 Loss 0.0480\n",
      "Time taken for 1 epoch 182.58700275421143 sec\n",
      "\n"
     ]
    },
    {
     "name": "stdout",
     "output_type": "stream",
     "text": [
      "Epoch 45 Batch 0 Loss 0.0357\n",
      "Epoch 45 Batch 100 Loss 0.0374\n",
      "Epoch 45 Batch 200 Loss 0.0398\n",
      "Epoch 45 Batch 300 Loss 0.0486\n",
      "Epoch 45 Batch 400 Loss 0.0367\n",
      "Epoch 45 Batch 500 Loss 0.0431\n",
      "Epoch 45 Batch 600 Loss 0.0426\n",
      "Epoch 45 Batch 700 Loss 0.0492\n",
      "Epoch 45 Batch 800 Loss 0.0555\n",
      "Epoch 45 Batch 900 Loss 0.0722\n",
      "Epoch 45 Loss 0.0477\n",
      "Time taken for 1 epoch 182.11389183998108 sec\n",
      "\n",
      "Epoch 46 Batch 0 Loss 0.0357\n",
      "Epoch 46 Batch 100 Loss 0.0557\n",
      "Epoch 46 Batch 200 Loss 0.0472\n",
      "Epoch 46 Batch 300 Loss 0.0515\n",
      "Epoch 46 Batch 400 Loss 0.0381\n",
      "Epoch 46 Batch 500 Loss 0.0415\n",
      "Epoch 46 Batch 600 Loss 0.0739\n",
      "Epoch 46 Batch 700 Loss 0.0430\n",
      "Epoch 46 Batch 800 Loss 0.0434\n",
      "Epoch 46 Batch 900 Loss 0.0665\n",
      "Epoch 46 Loss 0.0474\n",
      "Time taken for 1 epoch 182.3259994983673 sec\n",
      "\n",
      "Epoch 47 Batch 0 Loss 0.0345\n",
      "Epoch 47 Batch 100 Loss 0.0340\n",
      "Epoch 47 Batch 200 Loss 0.0299\n",
      "Epoch 47 Batch 300 Loss 0.0374\n",
      "Epoch 47 Batch 400 Loss 0.0367\n",
      "Epoch 47 Batch 500 Loss 0.0503\n",
      "Epoch 47 Batch 600 Loss 0.0416\n",
      "Epoch 47 Batch 700 Loss 0.0377\n",
      "Epoch 47 Batch 800 Loss 0.0359\n",
      "Epoch 47 Batch 900 Loss 0.0647\n",
      "Epoch 47 Loss 0.0470\n",
      "Time taken for 1 epoch 182.04239630699158 sec\n",
      "\n",
      "Epoch 48 Batch 0 Loss 0.0355\n",
      "Epoch 48 Batch 100 Loss 0.0318\n",
      "Epoch 48 Batch 200 Loss 0.0455\n",
      "Epoch 48 Batch 300 Loss 0.0472\n",
      "Epoch 48 Batch 400 Loss 0.0568\n",
      "Epoch 48 Batch 500 Loss 0.0531\n",
      "Epoch 48 Batch 600 Loss 0.0465\n",
      "Epoch 48 Batch 700 Loss 0.0333\n",
      "Epoch 48 Batch 800 Loss 0.0348\n",
      "Epoch 48 Batch 900 Loss 0.0591\n",
      "Epoch 48 Loss 0.0469\n",
      "Time taken for 1 epoch 182.0375461578369 sec\n",
      "\n",
      "Epoch 49 Batch 0 Loss 0.0636\n",
      "Epoch 49 Batch 100 Loss 0.0445\n",
      "Epoch 49 Batch 200 Loss 0.0372\n",
      "Epoch 49 Batch 300 Loss 0.0326\n",
      "Epoch 49 Batch 400 Loss 0.0472\n",
      "Epoch 49 Batch 500 Loss 0.0427\n",
      "Epoch 49 Batch 600 Loss 0.0522\n",
      "Epoch 49 Batch 700 Loss 0.0480\n",
      "Epoch 49 Batch 800 Loss 0.0396\n",
      "Epoch 49 Batch 900 Loss 0.0433\n",
      "Epoch 49 Loss 0.0462\n",
      "Time taken for 1 epoch 181.91550827026367 sec\n",
      "\n",
      "Epoch 50 Batch 0 Loss 0.0471\n",
      "Epoch 50 Batch 100 Loss 0.0417\n",
      "Epoch 50 Batch 200 Loss 0.0468\n",
      "Epoch 50 Batch 300 Loss 0.0453\n",
      "Epoch 50 Batch 400 Loss 0.0364\n",
      "Epoch 50 Batch 500 Loss 0.0651\n",
      "Epoch 50 Batch 600 Loss 0.0511\n",
      "Epoch 50 Batch 700 Loss 0.0335\n",
      "Epoch 50 Batch 800 Loss 0.0493\n",
      "Epoch 50 Batch 900 Loss 0.0598\n",
      "Epoch 50 Loss 0.0462\n",
      "Time taken for 1 epoch 185.71388816833496 sec\n",
      "\n"
     ]
    }
   ],
   "source": [
    "# EPOCHS = 50\n",
    "\n",
    "# for epoch in range(EPOCHS):\n",
    "#     start = time.time()\n",
    "\n",
    "#     enc_hidden = encoder.initialize_hidden_state()\n",
    "#     total_loss = 0\n",
    "\n",
    "#     for (batch, (inp, targ)) in enumerate(dataset.take(steps_per_epoch)):\n",
    "#         batch_loss = train_step(inp, targ, enc_hidden)\n",
    "#         total_loss += batch_loss\n",
    "\n",
    "#         if batch % 100 == 0:\n",
    "#             print('Epoch {} Batch {} Loss {:.4f}'.format(epoch + 1,\n",
    "#                                                        batch,\n",
    "#                                                        batch_loss.numpy()))\n",
    "#     # saving (checkpoint) the model every 2 epochs\n",
    "#     if (epoch + 1) % 10 == 0:\n",
    "#         checkpoint.save(file_prefix = checkpoint_prefix)\n",
    "\n",
    "#     print('Epoch {} Loss {:.4f}'.format(epoch + 1,\n",
    "#                                       total_loss / steps_per_epoch))\n",
    "#     print('Time taken for 1 epoch {} sec\\n'.format(time.time() - start))"
   ]
  },
  {
   "cell_type": "markdown",
   "id": "6ab349ba",
   "metadata": {},
   "source": [
    "#### translate"
   ]
  },
  {
   "cell_type": "code",
   "execution_count": 33,
   "id": "080866c7",
   "metadata": {},
   "outputs": [],
   "source": [
    "def evaluate(sentence):\n",
    "    attention_plot = np.zeros((max_length_targ, max_length_inp))\n",
    "\n",
    "    sentence = preprocess_sentence(sentence)\n",
    "\n",
    "    inputs = [inp_lang.word_index[i] for i in sentence.split(' ')]\n",
    "    inputs = tf.keras.preprocessing.sequence.pad_sequences([inputs],\n",
    "                                                         maxlen=max_length_inp,\n",
    "                                                         padding='post')\n",
    "    inputs = tf.convert_to_tensor(inputs)\n",
    "\n",
    "    result = ''\n",
    "\n",
    "    hidden = [tf.zeros((1, units))]\n",
    "    enc_hidden = encoder(inputs, hidden)\n",
    "\n",
    "    dec_hidden = enc_hidden\n",
    "    dec_input = tf.expand_dims([targ_lang.word_index['<start>']], 0)\n",
    "\n",
    "    for t in range(max_length_targ):\n",
    "        predictions, dec_hidden = decoder(dec_input, dec_hidden)\n",
    "\n",
    "        # storing the attention weights to plot later on\n",
    "        predicted_id = tf.argmax(predictions[0]).numpy()\n",
    "        result += targ_lang.index_word[predicted_id] + ' '\n",
    "\n",
    "        if targ_lang.index_word[predicted_id] == '<end>':\n",
    "            return result, sentence\n",
    "\n",
    "        # the predicted ID is fed back into the model\n",
    "        dec_input = tf.expand_dims([predicted_id], 0)\n",
    "\n",
    "    return result, sentence"
   ]
  },
  {
   "cell_type": "code",
   "execution_count": 34,
   "id": "a0a1a18d",
   "metadata": {},
   "outputs": [],
   "source": [
    "def translate(sentence):\n",
    "    result, sentence = evaluate(sentence)\n",
    "\n",
    "    print('Input: %s' % (sentence))\n",
    "    print('Predicted translation: {}'.format(result))"
   ]
  },
  {
   "cell_type": "code",
   "execution_count": null,
   "id": "c41b7ddf",
   "metadata": {},
   "outputs": [],
   "source": []
  },
  {
   "cell_type": "code",
   "execution_count": 35,
   "id": "b9d1ccde",
   "metadata": {},
   "outputs": [
    {
     "data": {
      "text/plain": [
       "<tensorflow.python.training.tracking.util.CheckpointLoadStatus at 0x1e7a296a448>"
      ]
     },
     "execution_count": 35,
     "metadata": {},
     "output_type": "execute_result"
    }
   ],
   "source": [
    "# restoring the latest checkpoint in checkpoint_dir\n",
    "checkpoint.restore(tf.train.latest_checkpoint(checkpoint_dir))"
   ]
  },
  {
   "cell_type": "code",
   "execution_count": 37,
   "id": "db47aae9",
   "metadata": {},
   "outputs": [
    {
     "name": "stdout",
     "output_type": "stream",
     "text": [
      "Input: <start> началось все с котов . <end>\n",
      "Predicted translation: there's nobody going out . <end> \n"
     ]
    }
   ],
   "source": [
    "translate('Началось все с котов.')"
   ]
  },
  {
   "cell_type": "code",
   "execution_count": 39,
   "id": "4dac3dbe",
   "metadata": {},
   "outputs": [
    {
     "name": "stdout",
     "output_type": "stream",
     "text": [
      "Input: <start> нужно бежать со всех ног <end>\n",
      "Predicted translation: she must contact anybody . <end> \n"
     ]
    }
   ],
   "source": [
    "translate('Нужно бежать со всех ног')"
   ]
  },
  {
   "cell_type": "code",
   "execution_count": 40,
   "id": "db0a3359",
   "metadata": {},
   "outputs": [
    {
     "name": "stdout",
     "output_type": "stream",
     "text": [
      "Input: <start> нужно бежать со всех ног , чтобы только оставаться на месте , а чтобы куда то попасть , надо бежать как минимум вдвое быстрее <end>\n",
      "Predicted translation: no way somewhere else . <end> \n"
     ]
    }
   ],
   "source": [
    "translate('Нужно бежать со всех ног, чтобы только оставаться на месте, а чтобы куда-то попасть, надо бежать как минимум вдвое быстрее')"
   ]
  },
  {
   "cell_type": "markdown",
   "id": "b4aeaae9",
   "metadata": {},
   "source": [
    "Ну, так себе переводчик получился, если честно"
   ]
  },
  {
   "cell_type": "code",
   "execution_count": null,
   "id": "123735d2",
   "metadata": {},
   "outputs": [],
   "source": []
  }
 ],
 "metadata": {
  "kernelspec": {
   "display_name": "Python 3",
   "language": "python",
   "name": "python3"
  },
  "language_info": {
   "codemirror_mode": {
    "name": "ipython",
    "version": 3
   },
   "file_extension": ".py",
   "mimetype": "text/x-python",
   "name": "python",
   "nbconvert_exporter": "python",
   "pygments_lexer": "ipython3",
   "version": "3.7.9"
  }
 },
 "nbformat": 4,
 "nbformat_minor": 5
}
