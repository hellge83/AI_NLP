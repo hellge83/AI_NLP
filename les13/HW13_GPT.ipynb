{
 "cells": [
  {
   "cell_type": "code",
   "execution_count": 1,
   "id": "56d414f9",
   "metadata": {},
   "outputs": [
    {
     "name": "stderr",
     "output_type": "stream",
     "text": [
      "C:\\Users\\snetkova\\Anaconda3\\lib\\site-packages\\numpy\\_distributor_init.py:32: UserWarning: loaded more than 1 DLL from .libs:\n",
      "C:\\Users\\snetkova\\Anaconda3\\lib\\site-packages\\numpy\\.libs\\libopenblas.PYQHXLVVQ7VESDPUVUADXEVJOBGHJPAY.gfortran-win_amd64.dll\n",
      "C:\\Users\\snetkova\\Anaconda3\\lib\\site-packages\\numpy\\.libs\\libopenblas.WCDJNK7YVMPZQ2ME2ZZHJJRJ3JIKNDB7.gfortran-win_amd64.dll\n",
      "  stacklevel=1)\n"
     ]
    }
   ],
   "source": [
    "from datasets import load_dataset\n",
    "from youtokentome import BPE\n",
    "\n",
    "from transformers import GPT2LMHeadModel\n",
    "from transformers import GPT2Tokenizer"
   ]
  },
  {
   "cell_type": "code",
   "execution_count": 2,
   "id": "f7df7e21",
   "metadata": {},
   "outputs": [
    {
     "name": "stderr",
     "output_type": "stream",
     "text": [
      "Using custom data configuration default\n",
      "Reusing dataset ag_news (C:\\Users\\snetkova\\.cache\\huggingface\\datasets\\ag_news\\default\\0.0.0\\bc2bcb40336ace1a0374767fc29bb0296cdaf8a6da7298436239c54d79180548)\n"
     ]
    }
   ],
   "source": [
    "dataset = load_dataset(\"ag_news\")"
   ]
  },
  {
   "cell_type": "code",
   "execution_count": 3,
   "id": "654d7bc4",
   "metadata": {},
   "outputs": [],
   "source": [
    "with open(\"data.txt\", \"w\", encoding=\"utf-8\") as out:\n",
    "    for data_d in dataset[\"train\"]:\n",
    "        out.write(data_d[\"text\"]+\"\\n\")"
   ]
  },
  {
   "cell_type": "code",
   "execution_count": 4,
   "id": "377a2d07",
   "metadata": {},
   "outputs": [
    {
     "data": {
      "text/plain": [
       "'Nets get Carter from Raptors INDIANAPOLIS -- All-Star Vince Carter was traded by the Toronto Raptors to the New Jersey Nets for Alonzo Mourning, Eric Williams, Aaron Williams, and a pair of first-round draft picks yesterday.'"
      ]
     },
     "execution_count": 4,
     "metadata": {},
     "output_type": "execute_result"
    }
   ],
   "source": [
    "data_d['text']"
   ]
  },
  {
   "cell_type": "code",
   "execution_count": 5,
   "id": "9d453e39",
   "metadata": {},
   "outputs": [],
   "source": [
    "bpe = BPE.train(data=\"data.txt\", vocab_size=5000, model=\"bpe.bin\")"
   ]
  },
  {
   "cell_type": "code",
   "execution_count": 6,
   "id": "25e0f4ff",
   "metadata": {},
   "outputs": [],
   "source": [
    "encoded = bpe.encode(\"Hello there! What is BPE?\")"
   ]
  },
  {
   "cell_type": "code",
   "execution_count": 7,
   "id": "681f6dee",
   "metadata": {},
   "outputs": [
    {
     "data": {
      "text/plain": [
       "' ▁H ell o ▁there ! ▁What ▁is ▁B P E ?'"
      ]
     },
     "execution_count": 7,
     "metadata": {},
     "output_type": "execute_result"
    }
   ],
   "source": [
    "tokenized = \"\"\n",
    "for word in encoded:\n",
    "    tokenized += \" \" + bpe.id_to_subword(word)\n",
    "tokenized"
   ]
  },
  {
   "cell_type": "code",
   "execution_count": null,
   "id": "4da652db",
   "metadata": {},
   "outputs": [],
   "source": []
  },
  {
   "cell_type": "code",
   "execution_count": 8,
   "id": "8d8aa2e3",
   "metadata": {},
   "outputs": [],
   "source": [
    "tokenizer = GPT2Tokenizer.from_pretrained(\"sberbank-ai/rugpt3large_based_on_gpt2\")\n",
    "ru_gpt = GPT2LMHeadModel.from_pretrained(\"sberbank-ai/rugpt3large_based_on_gpt2\", output_attentions=True)"
   ]
  },
  {
   "cell_type": "code",
   "execution_count": 9,
   "id": "7d09e06f",
   "metadata": {},
   "outputs": [],
   "source": [
    "# device = \"cuda\" \n",
    "# ru_gpt.to(device) # CUDA out of memory. Tried to allocate 28.00 MiB"
   ]
  },
  {
   "cell_type": "code",
   "execution_count": 12,
   "id": "c8cc36c5",
   "metadata": {},
   "outputs": [
    {
     "name": "stderr",
     "output_type": "stream",
     "text": [
      "Setting `pad_token_id` to `eos_token_id`:50256 for open-end generation.\n"
     ]
    }
   ],
   "source": [
    "inp = \"\"\"\n",
    "10 способов  \n",
    "\"\"\"\n",
    "\n",
    "encoded = tokenizer.encode(inp, return_tensors=\"pt\")\n",
    "\n",
    "\n",
    "result = ru_gpt.generate(\n",
    "    encoded,\n",
    "    max_length=1000,\n",
    "    early_stopping=True,\n",
    "    no_repeat_ngram_size=5)"
   ]
  },
  {
   "cell_type": "code",
   "execution_count": 13,
   "id": "69c18aa8",
   "metadata": {},
   "outputs": [
    {
     "name": "stdout",
     "output_type": "stream",
     "text": [
      "\n",
      "10 способов  \n",
      "\n",
      "1. \n",
      "Сделайте себе подарок.\n",
      "\n",
      "2. \n",
      "Скажите себе: \"Я люблю тебя\".\n",
      "\n",
      "3. \n",
      "Сходите в магазин.\n",
      "\n",
      "4. \n",
      "Съешьте что-нибудь сладкое.\n",
      "\n",
      "5. \n",
      "Сфотографируйте себя.\n",
      "\n",
      "6. \n",
      "Снимите видео.\n",
      "\n",
      "7. \n",
      "Сосчитайте до десяти.\n",
      "\n",
      "8. \n",
      "Сложите все числа в одну кучку.\n",
      "\n",
      "9. \n",
      "Сожгите все свои старые фотографии.\n",
      "\n",
      "10. \n",
      "Смешайте все ингредиенты в одной кастрюле.\n",
      "\n",
      "11. \n",
      "Слейте все ингредиенты в одну банку.\n",
      "\n",
      "12. \n",
      "Сварите все ингредиенты в одной чашке.\n",
      "\n",
      "13. \n",
      "Смажьте все ингредиенты маслом.\n",
      "\n",
      "14. \n",
      "Скатайте из теста шарики.\n",
      "\n",
      "15. \n",
      "Сверните все шарики в трубочку.\n",
      "\n",
      "16. \n",
      "Свяжите все шарики в шар.\n",
      "\n",
      "17. \n",
      "Согрейте все ингредиенты в микроволновке.\n",
      "\n",
      "18. \n",
      "Слегка поджарьте все ингредиенты в духовке.\n",
      "\n",
      "19. \n",
      "Сбрызните все ингредиенты маслом.<s>\n",
      "Салат с курицей и грибами \n",
      "\n",
      "Ингредиенты:\n",
      "\n",
      "1.  Куриное филе – 1 шт.\n",
      "\n",
      "2-3.  Грибы шампиньоны – 200 г\n",
      "\n",
      "4-5.  Сыр твердый – 100 г\n",
      "\n",
      "6-7.  Майонез – 100 г\n",
      " \n",
      "8.  Соль, перец – по вкусу\n",
      "\n",
      "Приготовление:\n",
      "\n",
      "1-2.  Кладем курицу в миску, добавляем грибы, сыр, майонез, соль, перец.\n",
      "\n",
      "3-4.  Нарезаем курицу небольшими кусочками.\n",
      "\n",
      "5-6.  Натираем сыр на крупной терке.\n",
      "\n",
      "7-8.  На дно тарелки выкладываем курицу, грибы, сыр, грибы, курицу, грибы.\n",
      "\n",
      "9-10.  Сверху кладем майонез.\n",
      "\n",
      "11-12.  Салат украшаем зеленью.\n",
      "\n",
      "Салат с грибами и курицей\n",
      "\n",
      "Ингредиенты\n",
      "\n",
      "1. Куриное мясо – 1 шт. \n",
      "2-3-4. Грибы шампаньоны – 200 г \n",
      "5-6-7. Сыр твердых сортов – 100 г \n",
      "8-9. Майонез \n",
      "10. Соль, черный перец – по вкусу.\n",
      "\n",
      "Приготовление\n",
      "\n",
      "1-1.  Грибной салат выкладываем на тарелку.\n",
      "\n",
      "2, 3.  На грибы намазываем майонез. Сверху кладем курицу.\n",
      "\n",
      "4-4. \tНатираем сыр.\n",
      "\n",
      "5, 6.  На курицу кладем грибы.\n",
      "\n",
      "7, 8.  На грибочки кладем курицу, грибы и сыр.\n",
      "\n",
      "9, 10.  Смазываем майонезу грибы и курицу.\n",
      " \n",
      "11-12-13.  Сворачиваем салат в рулет.\n",
      "\n",
      "14-15.  На тарелку выкладываем рулет.\n",
      " \n",
      "16-17.  Складываем салат в салатницу.\n",
      "\n",
      "18-19.  Сварить курицу.\n",
      " \n",
      "\n",
      "Салат с шампиньонами и курицей\n",
      "Ингредиенты \n",
      "1. \tКуриное феле – 1 шт.\t\n",
      "2-3, 4.  Грибочки шампиньоны — 200 г \n",
      "6-7-8. Сыр — 100 г \n",
      "9-10-11. Майонезу — 100 г \t\n",
      "12-13. Салат из курицы и грибов\n",
      "\n",
      "Ингредиент 1. \tКотлеты куриные — 200 г \t\n",
      "2-4.     Грибы шампини — 200 г     Сыр — 200 г         Майонез — 100 г     Приготовление:\n",
      "1.     Куриное яйцо — 1 шт.     Соль, специи — по вкусу     Котлеты курицы — 200 г  2.     Нарезать курицу небольшими кусочками.\n",
      "\n",
      "3. Нарезать грибы шампиньоны.\n",
      "\n",
      "4, 5.     Разогреть сковороду с растительным маслом.\n"
     ]
    }
   ],
   "source": [
    "print(tokenizer.decode(result.flatten().numpy(), skip_special_tokens=True))"
   ]
  },
  {
   "cell_type": "markdown",
   "id": "6dc23314",
   "metadata": {},
   "source": [
    "Прекрасно! Даже пару рецептов салатов сгенерила))"
   ]
  },
  {
   "cell_type": "code",
   "execution_count": 14,
   "id": "312b9982",
   "metadata": {},
   "outputs": [
    {
     "name": "stderr",
     "output_type": "stream",
     "text": [
      "Setting `pad_token_id` to `eos_token_id`:50256 for open-end generation.\n"
     ]
    },
    {
     "name": "stdout",
     "output_type": "stream",
     "text": [
      "\n",
      "паду ли я стрелой пронзенный \n",
      "\n",
      "иль в сердце мне стрела \n",
      "\n",
      "иль я в сердце у нее \n",
      "\n",
      "иль она в сердце у меня \n",
      "\n",
      "иль мы в сердце у нее... \n",
      "\n",
      "И.С. Тургенев \n",
      "\n",
      "* * * \n",
      "\n",
      "В.В. Маяковский \n",
      "\n",
      "* * \n",
      "\n",
      "Валерий Брюсов \n",
      "\n",
      "* * *** \n",
      "\n",
      "В.И. Ленин \n",
      "\n",
      "* * - \n",
      "\n",
      "В.М. Молотов \n",
      "\n",
      "* * + \n",
      "\n",
      "В.П. Потемкин \n",
      "\n",
      "* * = \n",
      "\n",
      "В.Г. Короленко \n",
      "\n",
      "* * ^ \n",
      "\n",
      "В.С. Высоцкий \n",
      "\n",
      "* * (с) \n",
      "\n",
      "В.А. Высоцкий \n",
      " ^ \n",
      "\n",
      "Г.Г. Шпаликов \n",
      "\n",
      "* * ~ \n",
      "\n",
      "Г.А. Шпаликов (с) \n",
      " ^ \n",
      " ^ \n",
      " \n",
      "\n",
      "Г.М. Шолохов \n",
      "\n",
      "* *^ \n",
      "\n",
      "Геннадий Шпаликов \n",
      " ^ \n",
      " * \n",
      "\n",
      "Г.К. Жуков \n",
      "\n",
      "* ** \n",
      "\n",
      "Г.И. Устинов \n",
      "\n",
      "* *~ \n",
      "\n",
      "Г.Ф. Александров \n",
      "\n",
      "* *_ \n",
      "\n",
      "Г.П. Климов \n",
      "\n",
      "* *__ \n",
      "\n",
      "Г.Н. Титов \n",
      "\n",
      "* *____ \n",
      "\n",
      "Г.В. Маленков \n",
      "\n",
      "* *________ \n",
      "\n",
      "Г.Д. Маленков \n",
      " ^ \n",
      " - \n",
      "\n",
      "Г.Е. Зиновьев \n",
      "\n",
      "* ***** \n",
      "\n",
      "Г.Я. Сокольников \n",
      "\n",
      "* ********* \n",
      "\n",
      "Г.Л. Орджоникидзе \n",
      "\n",
      "* *** \n",
      "\n",
      "Г.С. Маленков \n",
      " \n",
      "\n",
      "* **** \n",
      "\n",
      "Г.Т. Шверник \n",
      "\n",
      "* * ________________ \n",
      "\n",
      "Г.Э. Лессинг \n",
      "\n",
      "* * @ \n",
      "\n",
      "Г.Х. Попов \n",
      "\n",
      "* *@ \n",
      "\n",
      "Г.Б. Зотов \n",
      "\n",
      "* *# \n",
      "\n",
      "Г.З. Косыгин \n",
      "\n",
      "* * # \n",
      "\n",
      "Г.Р. Маленков \n",
      " * * \n",
      "\n",
      "Геннадия Шверника \n",
      " ^ \n",
      " # \n",
      "\n",
      "Геннадию Швернику \n",
      " ^ \n",
      " + \n",
      "\n",
      "Геннадии Швернику \n",
      " * * \n",
      " ^ \n",
      " Г.Ш. Маленков \n",
      " + \n",
      "\n",
      "* *+ \n",
      "\n",
      "\n"
     ]
    }
   ],
   "source": [
    "inp = \"\"\"\n",
    "паду ли я стрелой пронзенный \n",
    "\"\"\"\n",
    "\n",
    "encoded = tokenizer.encode(inp, return_tensors=\"pt\")\n",
    "\n",
    "\n",
    "result = ru_gpt.generate(\n",
    "    encoded,\n",
    "    max_length=500,\n",
    "    early_stopping=True,\n",
    "    no_repeat_ngram_size=5)\n",
    "\n",
    "print(tokenizer.decode(result.flatten().numpy(), skip_special_tokens=True))"
   ]
  },
  {
   "cell_type": "markdown",
   "id": "e9b3ead9",
   "metadata": {},
   "source": [
    "Как мы видим, чем больше текста, тем сильнее модель начинает зацикливаться на одной теме. В первом случае уехала в кулинарию, во втором - в пересчсление имен, сначала литераторов, затем вообще имен"
   ]
  },
  {
   "cell_type": "code",
   "execution_count": null,
   "id": "88efaa5b",
   "metadata": {},
   "outputs": [],
   "source": []
  }
 ],
 "metadata": {
  "kernelspec": {
   "display_name": "Python 3",
   "language": "python",
   "name": "python3"
  },
  "language_info": {
   "codemirror_mode": {
    "name": "ipython",
    "version": 3
   },
   "file_extension": ".py",
   "mimetype": "text/x-python",
   "name": "python",
   "nbconvert_exporter": "python",
   "pygments_lexer": "ipython3",
   "version": "3.7.9"
  }
 },
 "nbformat": 4,
 "nbformat_minor": 5
}
